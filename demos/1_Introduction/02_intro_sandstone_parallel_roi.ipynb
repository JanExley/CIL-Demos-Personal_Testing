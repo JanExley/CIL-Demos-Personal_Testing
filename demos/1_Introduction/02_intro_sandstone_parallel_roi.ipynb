{
  "cells": [
    {
      "cell_type": "code",
      "execution_count": 1,
      "metadata": {
        "colab": {
          "base_uri": "https://localhost:8080/"
        },
        "id": "838BuFRskW9s",
        "outputId": "75f4c599-07da-4bd7-c521-13b89750aca3"
      },
      "outputs": [
        {
          "output_type": "stream",
          "name": "stdout",
          "text": [
            "✨🍰✨ Everything looks OK!\n",
            "Channels:\n",
            " - https://software.repos.intel.com/python/conda\n",
            " - conda-forge\n",
            " - ccpi\n",
            "Platform: linux-64\n",
            "Collecting package metadata (repodata.json): - \b\b\\ \b\b| \b\b/ \b\b- \b\b\\ \b\b| \b\b/ \b\b- \b\b\\ \b\b| \b\b/ \b\b- \b\bdone\n",
            "Solving environment: | \b\b/ \b\b- \b\b\\ \b\b| \b\b/ \b\b- \b\bdone\n",
            "\n",
            "\n",
            "==> WARNING: A newer version of conda exists. <==\n",
            "    current version: 24.11.2\n",
            "    latest version: 25.9.1\n",
            "\n",
            "Please update conda by running\n",
            "\n",
            "    $ conda update -n base -c conda-forge conda\n",
            "\n",
            "\n",
            "\n",
            "# All requested packages already installed.\n",
            "\n"
          ]
        }
      ],
      "source": [
        "%pip install -q condacolab\n",
        "\n",
        "import condacolab\n",
        "\n",
        "condacolab.install()\n",
        "\n",
        "!conda install -c https://software.repos.intel.com/python/conda -c conda-forge -c ccpi cil=25.0.0"
      ]
    },
    {
      "cell_type": "code",
      "source": [
        "import sys\n",
        "\n",
        "sys.path.append(\"/usr/local/lib/python3.11/site-packages\")\n",
        "import cil\n",
        "print(\"CIL version:\", cil.__version__)"
      ],
      "metadata": {
        "colab": {
          "base_uri": "https://localhost:8080/"
        },
        "id": "IC77cDFRlIze",
        "outputId": "b5954601-65fb-4d72-cd92-3afa0a70dde0"
      },
      "execution_count": 2,
      "outputs": [
        {
          "output_type": "stream",
          "name": "stdout",
          "text": [
            "CIL version: 25.0.0\n"
          ]
        }
      ]
    },
    {
      "cell_type": "code",
      "execution_count": 1,
      "metadata": {
        "id": "w1AhCi7Vjvcs"
      },
      "outputs": [],
      "source": [
        "# -*- coding: utf-8 -*-\n",
        "#  Copyright 2021 - 2022 United Kingdom Research and Innovation\n",
        "#  Copyright 2021 - 2022 The University of Manchester\n",
        "#  Copyright 2021 - 2022 Technical University of Denmark\n",
        "#\n",
        "#  Licensed under the Apache License, Version 2.0 (the \"License\");\n",
        "#  you may not use this file except in compliance with the License.\n",
        "#  You may obtain a copy of the License at\n",
        "#\n",
        "#      http://www.apache.org/licenses/LICENSE-2.0\n",
        "#\n",
        "#  Unless required by applicable law or agreed to in writing, software\n",
        "#  distributed under the License is distributed on an \"AS IS\" BASIS,\n",
        "#  WITHOUT WARRANTIES OR CONDITIONS OF ANY KIND, either express or implied.\n",
        "#  See the License for the specific language governing permissions and\n",
        "#  limitations under the License.\n",
        "#\n",
        "#   Authored by:    Jakob S. Jørgensen (DTU)\n",
        "#                   Gemma Fardell (UKRI-STFC)\n",
        "#                   Laura Murgatroyd (UKRI-STFC)\n",
        "#                   Hannah Robarts (UKRI-STFC)"
      ]
    },
    {
      "cell_type": "markdown",
      "metadata": {
        "id": "80jN1Dx5jvct"
      },
      "source": [
        "# Sandstone 2D parallel-beam data reconstruction demo\n",
        "\n"
      ]
    },
    {
      "cell_type": "markdown",
      "metadata": {
        "id": "gZipVutujvcu"
      },
      "source": [
        "This exercise walks through the steps needed to load in, preprocess and reconstruct by FBP a 2D parallel-beam data set from a synchrotron of a sandstone sample. Learning objectives are:\n",
        "- Load and investigate a real data set.\n",
        "- Determine geometric information of the data and set up CIL data structures.\n",
        "- Apply CIL processors to pre-process the data, including normalisation, negative log, region-of-interest and centre of rotation correction.\n",
        "- Compute FBP reconstruction using CIL and compare with reconstruction provided.\n",
        "\n",
        "This example requires the data in `small.zip` from: https://zenodo.org/record/4912435 :\n",
        " - https://zenodo.org/record/4912435/files/small.zip\n",
        "\n",
        "If running locally please download the data and update the `datapath` variable below."
      ]
    },
    {
      "cell_type": "code",
      "source": [
        "!wget https://zenodo.org/record/4912435/files/small.zip\n",
        "!unzip -q small.zip -d small_data"
      ],
      "metadata": {
        "colab": {
          "base_uri": "https://localhost:8080/"
        },
        "id": "lFYIdHrXNcvn",
        "outputId": "643cf1e3-6120-44e7-f5ec-342e8363fbdc"
      },
      "execution_count": 4,
      "outputs": [
        {
          "output_type": "stream",
          "name": "stdout",
          "text": [
            "--2025-10-28 10:02:30--  https://zenodo.org/record/4912435/files/small.zip\n",
            "Resolving zenodo.org (zenodo.org)... 188.185.43.25, 188.185.45.92, 188.185.48.194, ...\n",
            "Connecting to zenodo.org (zenodo.org)|188.185.43.25|:443... connected.\n",
            "HTTP request sent, awaiting response... 301 MOVED PERMANENTLY\n",
            "Location: /records/4912435/files/small.zip [following]\n",
            "--2025-10-28 10:02:30--  https://zenodo.org/records/4912435/files/small.zip\n",
            "Reusing existing connection to zenodo.org:443.\n",
            "HTTP request sent, awaiting response... 200 OK\n",
            "Length: 207330794 (198M) [application/octet-stream]\n",
            "Saving to: ‘small.zip.1’\n",
            "\n",
            "small.zip.1           7%[>                   ]  15.17M   785KB/s    eta 3m 35s ^C\n"
          ]
        }
      ]
    },
    {
      "cell_type": "code",
      "source": [
        "!unzip -q small.zip -d small_data"
      ],
      "metadata": {
        "colab": {
          "base_uri": "https://localhost:8080/"
        },
        "id": "gYMYZ1ohRVgp",
        "outputId": "3cfd8df2-aaa2-400c-e2d6-d7c21492ed3b"
      },
      "execution_count": 5,
      "outputs": [
        {
          "output_type": "stream",
          "name": "stdout",
          "text": [
            "replace small_data/proj/BBii_.log? [y]es, [n]o, [A]ll, [N]one, [r]ename: "
          ]
        }
      ]
    },
    {
      "cell_type": "code",
      "execution_count": 10,
      "metadata": {
        "id": "rnv0ARkMjvcu"
      },
      "outputs": [],
      "source": [
        "datapath = \"/content/small_data\""
      ]
    },
    {
      "cell_type": "code",
      "source": [
        "!conda install -c astra-toolbox astra-toolbox"
      ],
      "metadata": {
        "colab": {
          "base_uri": "https://localhost:8080/"
        },
        "id": "yJB_dg4iSYjA",
        "outputId": "d454acf0-5fc8-46d4-d4e8-3f0c43d30ade"
      },
      "execution_count": 9,
      "outputs": [
        {
          "output_type": "stream",
          "name": "stdout",
          "text": [
            "Channels:\n",
            " - astra-toolbox\n",
            " - conda-forge\n",
            " - ccpi\n",
            " - https://software.repos.intel.com/python/conda\n",
            "Platform: linux-64\n",
            "Collecting package metadata (repodata.json): - \b\b\\ \b\b| \b\b/ \b\b- \b\b\\ \b\b| \b\b/ \b\b- \b\b\\ \b\b| \b\b/ \b\b- \b\b\\ \b\bdone\n",
            "Solving environment: / \b\b- \b\b\\ \b\b| \b\bdone\n",
            "\n",
            "\n",
            "==> WARNING: A newer version of conda exists. <==\n",
            "    current version: 24.11.3\n",
            "    latest version: 25.9.1\n",
            "\n",
            "Please update conda by running\n",
            "\n",
            "    $ conda update -n base -c conda-forge conda\n",
            "\n",
            "\n",
            "\n",
            "# All requested packages already installed.\n",
            "\n"
          ]
        }
      ]
    },
    {
      "cell_type": "code",
      "execution_count": 11,
      "metadata": {
        "colab": {
          "base_uri": "https://localhost:8080/",
          "height": 530
        },
        "id": "o0x_jG7rjvcu",
        "outputId": "f7c8a95f-2ac4-4ab5-ca00-c0ad177cbc18"
      },
      "outputs": [
        {
          "output_type": "error",
          "ename": "ImportError",
          "evalue": "cannot import name 'astra_c' from partially initialized module 'astra' (most likely due to a circular import) (/usr/local/lib/python3.11/site-packages/astra/__init__.py)",
          "traceback": [
            "\u001b[0;31m---------------------------------------------------------------------------\u001b[0m",
            "\u001b[0;31mImportError\u001b[0m                               Traceback (most recent call last)",
            "\u001b[0;32m/tmp/ipython-input-1281484075.py\u001b[0m in \u001b[0;36m<cell line: 0>\u001b[0;34m()\u001b[0m\n\u001b[1;32m     13\u001b[0m \u001b[0;34m\u001b[0m\u001b[0m\n\u001b[1;32m     14\u001b[0m \u001b[0;31m# From CIL ASTRA plugin\u001b[0m\u001b[0;34m\u001b[0m\u001b[0;34m\u001b[0m\u001b[0m\n\u001b[0;32m---> 15\u001b[0;31m \u001b[0;32mfrom\u001b[0m \u001b[0mcil\u001b[0m\u001b[0;34m.\u001b[0m\u001b[0mplugins\u001b[0m\u001b[0;34m.\u001b[0m\u001b[0mastra\u001b[0m \u001b[0;32mimport\u001b[0m \u001b[0mProjectionOperator\u001b[0m\u001b[0;34m\u001b[0m\u001b[0;34m\u001b[0m\u001b[0m\n\u001b[0m\u001b[1;32m     16\u001b[0m \u001b[0;34m\u001b[0m\u001b[0m\n\u001b[1;32m     17\u001b[0m \u001b[0;31m# All external imports\u001b[0m\u001b[0;34m\u001b[0m\u001b[0;34m\u001b[0m\u001b[0m\n",
            "\u001b[0;32m/usr/local/lib/python3.11/site-packages/cil/plugins/astra/__init__.py\u001b[0m in \u001b[0;36m<module>\u001b[0;34m\u001b[0m\n\u001b[1;32m     17\u001b[0m \u001b[0;31m# CIL Developers, listed at: https://github.com/TomographicImaging/CIL/blob/master/NOTICE.txt\u001b[0m\u001b[0;34m\u001b[0m\u001b[0;34m\u001b[0m\u001b[0m\n\u001b[1;32m     18\u001b[0m \u001b[0;34m\u001b[0m\u001b[0m\n\u001b[0;32m---> 19\u001b[0;31m \u001b[0;32mfrom\u001b[0m \u001b[0;34m.\u001b[0m\u001b[0moperators\u001b[0m \u001b[0;32mimport\u001b[0m \u001b[0mProjectionOperator\u001b[0m\u001b[0;34m\u001b[0m\u001b[0;34m\u001b[0m\u001b[0m\n\u001b[0m\u001b[1;32m     20\u001b[0m \u001b[0;32mfrom\u001b[0m \u001b[0;34m.\u001b[0m\u001b[0mprocessors\u001b[0m \u001b[0;32mimport\u001b[0m \u001b[0mFBP\u001b[0m\u001b[0;34m\u001b[0m\u001b[0;34m\u001b[0m\u001b[0m\n",
            "\u001b[0;32m/usr/local/lib/python3.11/site-packages/cil/plugins/astra/operators/__init__.py\u001b[0m in \u001b[0;36m<module>\u001b[0;34m\u001b[0m\n\u001b[1;32m     18\u001b[0m \u001b[0;34m\u001b[0m\u001b[0m\n\u001b[1;32m     19\u001b[0m \u001b[0;34m\u001b[0m\u001b[0m\n\u001b[0;32m---> 20\u001b[0;31m \u001b[0;32mfrom\u001b[0m \u001b[0;34m.\u001b[0m\u001b[0mAstraProjector2D\u001b[0m \u001b[0;32mimport\u001b[0m \u001b[0mAstraProjector2D\u001b[0m\u001b[0;34m\u001b[0m\u001b[0;34m\u001b[0m\u001b[0m\n\u001b[0m\u001b[1;32m     21\u001b[0m \u001b[0;32mfrom\u001b[0m \u001b[0;34m.\u001b[0m\u001b[0mAstraProjector3D\u001b[0m \u001b[0;32mimport\u001b[0m \u001b[0mAstraProjector3D\u001b[0m\u001b[0;34m\u001b[0m\u001b[0;34m\u001b[0m\u001b[0m\n\u001b[1;32m     22\u001b[0m \u001b[0;32mfrom\u001b[0m \u001b[0;34m.\u001b[0m\u001b[0mProjectionOperator\u001b[0m \u001b[0;32mimport\u001b[0m \u001b[0mProjectionOperator\u001b[0m\u001b[0;34m\u001b[0m\u001b[0;34m\u001b[0m\u001b[0m\n",
            "\u001b[0;32m/usr/local/lib/python3.11/site-packages/cil/plugins/astra/operators/AstraProjector2D.py\u001b[0m in \u001b[0;36m<module>\u001b[0;34m\u001b[0m\n\u001b[1;32m     19\u001b[0m \u001b[0;34m\u001b[0m\u001b[0m\n\u001b[1;32m     20\u001b[0m \u001b[0;32mfrom\u001b[0m \u001b[0mcil\u001b[0m\u001b[0;34m.\u001b[0m\u001b[0moptimisation\u001b[0m\u001b[0;34m.\u001b[0m\u001b[0moperators\u001b[0m \u001b[0;32mimport\u001b[0m \u001b[0mLinearOperator\u001b[0m\u001b[0;34m\u001b[0m\u001b[0;34m\u001b[0m\u001b[0m\n\u001b[0;32m---> 21\u001b[0;31m \u001b[0;32mfrom\u001b[0m \u001b[0mcil\u001b[0m\u001b[0;34m.\u001b[0m\u001b[0mplugins\u001b[0m\u001b[0;34m.\u001b[0m\u001b[0mastra\u001b[0m\u001b[0;34m.\u001b[0m\u001b[0mprocessors\u001b[0m \u001b[0;32mimport\u001b[0m \u001b[0mAstraForwardProjector2D\u001b[0m\u001b[0;34m,\u001b[0m \u001b[0mAstraBackProjector2D\u001b[0m\u001b[0;34m\u001b[0m\u001b[0;34m\u001b[0m\u001b[0m\n\u001b[0m\u001b[1;32m     22\u001b[0m \u001b[0;34m\u001b[0m\u001b[0m\n\u001b[1;32m     23\u001b[0m \u001b[0;34m\u001b[0m\u001b[0m\n",
            "\u001b[0;32m/usr/local/lib/python3.11/site-packages/cil/plugins/astra/processors/__init__.py\u001b[0m in \u001b[0;36m<module>\u001b[0;34m\u001b[0m\n\u001b[1;32m     18\u001b[0m \u001b[0;34m\u001b[0m\u001b[0m\n\u001b[1;32m     19\u001b[0m \u001b[0;34m\u001b[0m\u001b[0m\n\u001b[0;32m---> 20\u001b[0;31m \u001b[0;32mfrom\u001b[0m \u001b[0;34m.\u001b[0m\u001b[0mAstraForwardProjector2D\u001b[0m \u001b[0;32mimport\u001b[0m \u001b[0mAstraForwardProjector2D\u001b[0m\u001b[0;34m\u001b[0m\u001b[0;34m\u001b[0m\u001b[0m\n\u001b[0m\u001b[1;32m     21\u001b[0m \u001b[0;32mfrom\u001b[0m \u001b[0;34m.\u001b[0m\u001b[0mAstraBackProjector2D\u001b[0m \u001b[0;32mimport\u001b[0m \u001b[0mAstraBackProjector2D\u001b[0m\u001b[0;34m\u001b[0m\u001b[0;34m\u001b[0m\u001b[0m\n\u001b[1;32m     22\u001b[0m \u001b[0;32mfrom\u001b[0m \u001b[0;34m.\u001b[0m\u001b[0mAstraForwardProjector3D\u001b[0m \u001b[0;32mimport\u001b[0m \u001b[0mAstraForwardProjector3D\u001b[0m\u001b[0;34m\u001b[0m\u001b[0;34m\u001b[0m\u001b[0m\n",
            "\u001b[0;32m/usr/local/lib/python3.11/site-packages/cil/plugins/astra/processors/AstraForwardProjector2D.py\u001b[0m in \u001b[0;36m<module>\u001b[0;34m\u001b[0m\n\u001b[1;32m     19\u001b[0m \u001b[0;34m\u001b[0m\u001b[0m\n\u001b[1;32m     20\u001b[0m \u001b[0;32mfrom\u001b[0m \u001b[0mcil\u001b[0m\u001b[0;34m.\u001b[0m\u001b[0mframework\u001b[0m \u001b[0;32mimport\u001b[0m \u001b[0mDataProcessor\u001b[0m\u001b[0;34m,\u001b[0m \u001b[0mAcquisitionData\u001b[0m\u001b[0;34m\u001b[0m\u001b[0;34m\u001b[0m\u001b[0m\n\u001b[0;32m---> 21\u001b[0;31m \u001b[0;32mfrom\u001b[0m \u001b[0mcil\u001b[0m\u001b[0;34m.\u001b[0m\u001b[0mplugins\u001b[0m\u001b[0;34m.\u001b[0m\u001b[0mastra\u001b[0m\u001b[0;34m.\u001b[0m\u001b[0mutilities\u001b[0m \u001b[0;32mimport\u001b[0m \u001b[0mconvert_geometry_to_astra_vec_2D\u001b[0m\u001b[0;34m\u001b[0m\u001b[0;34m\u001b[0m\u001b[0m\n\u001b[0m\u001b[1;32m     22\u001b[0m \u001b[0;32mimport\u001b[0m \u001b[0mastra\u001b[0m\u001b[0;34m\u001b[0m\u001b[0;34m\u001b[0m\u001b[0m\n\u001b[1;32m     23\u001b[0m \u001b[0;32mimport\u001b[0m \u001b[0mnumpy\u001b[0m \u001b[0;32mas\u001b[0m \u001b[0mnp\u001b[0m\u001b[0;34m\u001b[0m\u001b[0;34m\u001b[0m\u001b[0m\n",
            "\u001b[0;32m/usr/local/lib/python3.11/site-packages/cil/plugins/astra/utilities/__init__.py\u001b[0m in \u001b[0;36m<module>\u001b[0;34m\u001b[0m\n\u001b[1;32m     18\u001b[0m \u001b[0;34m\u001b[0m\u001b[0m\n\u001b[1;32m     19\u001b[0m \u001b[0;34m\u001b[0m\u001b[0m\n\u001b[0;32m---> 20\u001b[0;31m \u001b[0;32mfrom\u001b[0m \u001b[0;34m.\u001b[0m\u001b[0mconvert_geometry_to_astra\u001b[0m \u001b[0;32mimport\u001b[0m \u001b[0mconvert_geometry_to_astra\u001b[0m\u001b[0;34m\u001b[0m\u001b[0;34m\u001b[0m\u001b[0m\n\u001b[0m\u001b[1;32m     21\u001b[0m \u001b[0;32mfrom\u001b[0m \u001b[0;34m.\u001b[0m\u001b[0mconvert_geometry_to_astra_vec_3D\u001b[0m \u001b[0;32mimport\u001b[0m \u001b[0mconvert_geometry_to_astra_vec_3D\u001b[0m\u001b[0;34m\u001b[0m\u001b[0;34m\u001b[0m\u001b[0m\n\u001b[1;32m     22\u001b[0m \u001b[0;32mfrom\u001b[0m \u001b[0;34m.\u001b[0m\u001b[0mconvert_geometry_to_astra_vec_2D\u001b[0m \u001b[0;32mimport\u001b[0m \u001b[0mconvert_geometry_to_astra_vec_2D\u001b[0m\u001b[0;34m\u001b[0m\u001b[0;34m\u001b[0m\u001b[0m\n",
            "\u001b[0;32m/usr/local/lib/python3.11/site-packages/cil/plugins/astra/utilities/convert_geometry_to_astra.py\u001b[0m in \u001b[0;36m<module>\u001b[0;34m\u001b[0m\n\u001b[1;32m     18\u001b[0m \u001b[0;34m\u001b[0m\u001b[0m\n\u001b[1;32m     19\u001b[0m \u001b[0;34m\u001b[0m\u001b[0m\n\u001b[0;32m---> 20\u001b[0;31m \u001b[0;32mimport\u001b[0m \u001b[0mastra\u001b[0m\u001b[0;34m\u001b[0m\u001b[0;34m\u001b[0m\u001b[0m\n\u001b[0m\u001b[1;32m     21\u001b[0m \u001b[0;32mimport\u001b[0m \u001b[0mnumpy\u001b[0m \u001b[0;32mas\u001b[0m \u001b[0mnp\u001b[0m\u001b[0;34m\u001b[0m\u001b[0;34m\u001b[0m\u001b[0m\n\u001b[1;32m     22\u001b[0m \u001b[0;32mfrom\u001b[0m \u001b[0mcil\u001b[0m\u001b[0;34m.\u001b[0m\u001b[0mframework\u001b[0m\u001b[0;34m.\u001b[0m\u001b[0mlabels\u001b[0m \u001b[0;32mimport\u001b[0m \u001b[0mAcquisitionType\u001b[0m\u001b[0;34m,\u001b[0m \u001b[0mAngleUnit\u001b[0m\u001b[0;34m\u001b[0m\u001b[0;34m\u001b[0m\u001b[0m\n",
            "\u001b[0;32m/usr/local/lib/python3.11/site-packages/astra/__init__.py\u001b[0m in \u001b[0;36m<module>\u001b[0;34m\u001b[0m\n\u001b[1;32m     25\u001b[0m \u001b[0;34m\u001b[0m\u001b[0m\n\u001b[1;32m     26\u001b[0m \u001b[0;31m# Import astra module first to make error message less confusing in case of import error\u001b[0m\u001b[0;34m\u001b[0m\u001b[0;34m\u001b[0m\u001b[0m\n\u001b[0;32m---> 27\u001b[0;31m \u001b[0;32mfrom\u001b[0m \u001b[0;34m.\u001b[0m \u001b[0;32mimport\u001b[0m \u001b[0mastra\u001b[0m\u001b[0;34m\u001b[0m\u001b[0;34m\u001b[0m\u001b[0m\n\u001b[0m\u001b[1;32m     28\u001b[0m \u001b[0;34m\u001b[0m\u001b[0m\n\u001b[1;32m     29\u001b[0m \u001b[0;32mfrom\u001b[0m \u001b[0;34m.\u001b[0m \u001b[0;32mimport\u001b[0m \u001b[0malgorithm\u001b[0m\u001b[0;34m\u001b[0m\u001b[0;34m\u001b[0m\u001b[0m\n",
            "\u001b[0;32m/usr/local/lib/python3.11/site-packages/astra/astra.py\u001b[0m in \u001b[0;36m<module>\u001b[0;34m\u001b[0m\n\u001b[1;32m     24\u001b[0m \u001b[0;31m# -----------------------------------------------------------------------\u001b[0m\u001b[0;34m\u001b[0m\u001b[0;34m\u001b[0m\u001b[0m\n\u001b[1;32m     25\u001b[0m \u001b[0;34m\u001b[0m\u001b[0m\n\u001b[0;32m---> 26\u001b[0;31m \u001b[0;32mfrom\u001b[0m \u001b[0;34m.\u001b[0m \u001b[0;32mimport\u001b[0m \u001b[0mastra_c\u001b[0m \u001b[0;32mas\u001b[0m \u001b[0ma\u001b[0m\u001b[0;34m\u001b[0m\u001b[0;34m\u001b[0m\u001b[0m\n\u001b[0m\u001b[1;32m     27\u001b[0m \u001b[0;34m\u001b[0m\u001b[0m\n\u001b[1;32m     28\u001b[0m \u001b[0;32mdef\u001b[0m \u001b[0mcredits\u001b[0m\u001b[0;34m(\u001b[0m\u001b[0;34m)\u001b[0m\u001b[0;34m:\u001b[0m\u001b[0;34m\u001b[0m\u001b[0;34m\u001b[0m\u001b[0m\n",
            "\u001b[0;31mImportError\u001b[0m: cannot import name 'astra_c' from partially initialized module 'astra' (most likely due to a circular import) (/usr/local/lib/python3.11/site-packages/astra/__init__.py)",
            "",
            "\u001b[0;31m---------------------------------------------------------------------------\u001b[0;32m\nNOTE: If your import is failing due to a missing package, you can\nmanually install dependencies using either !pip or !apt.\n\nTo view examples of installing some common dependencies, click the\n\"Open Examples\" button below.\n\u001b[0;31m---------------------------------------------------------------------------\u001b[0m\n"
          ],
          "errorDetails": {
            "actions": [
              {
                "action": "open_url",
                "actionText": "Open Examples",
                "url": "/notebooks/snippets/importing_libraries.ipynb"
              }
            ]
          }
        }
      ],
      "source": [
        "# Import all CIL components needed\n",
        "from cil.framework import ImageData, ImageGeometry\n",
        "from cil.framework import AcquisitionGeometry, AcquisitionData\n",
        "\n",
        "# CIL Processors\n",
        "from cil.processors import CentreOfRotationCorrector, Slicer, TransmissionAbsorptionConverter, Normaliser, Padder\n",
        "\n",
        "# CIL display tools\n",
        "from cil.utilities.display import show2D, show_geometry\n",
        "\n",
        "# CIL FBP\n",
        "from cil.recon import FBP\n",
        "\n",
        "# From CIL ASTRA plugin\n",
        "from cil.plugins.astra import ProjectionOperator\n",
        "\n",
        "# All external imports\n",
        "import numpy as np\n",
        "import matplotlib.pyplot as plt\n",
        "import scipy.io\n",
        "import os"
      ]
    },
    {
      "cell_type": "markdown",
      "metadata": {
        "id": "kmRL1u6rjvcv"
      },
      "source": [
        "Switch on printing of more info in some of the methods including `CentreOfRotationCorrector`:"
      ]
    },
    {
      "cell_type": "code",
      "execution_count": null,
      "metadata": {
        "id": "hIGTkF2wjvcv"
      },
      "outputs": [],
      "source": [
        "import logging\n",
        "logging.basicConfig(level=logging.WARNING)\n",
        "cil_log_level = logging.getLogger('cil.processors')\n",
        "cil_log_level.setLevel(logging.INFO)"
      ]
    },
    {
      "cell_type": "markdown",
      "metadata": {
        "id": "4ZosqCR8jvcv"
      },
      "source": [
        "The data contains selected 2D projections, flat and dark fields, as well as complete 2D sinograms for 4 horizontal slices. We first load and display a couple of projections"
      ]
    },
    {
      "cell_type": "code",
      "execution_count": null,
      "metadata": {
        "id": "EolxpEpmjvcv"
      },
      "outputs": [],
      "source": [
        "proj1 = plt.imread(os.path.join(datapath,\"proj\",\"BBii_0131.tif\"))\n",
        "show2D(proj1)"
      ]
    },
    {
      "cell_type": "code",
      "execution_count": null,
      "metadata": {
        "id": "nug4gsmbjvcv"
      },
      "outputs": [],
      "source": [
        "proj2 = plt.imread(os.path.join(datapath,\"proj\",\"BBii_0931.tif\"))\n",
        "show2D(proj2)"
      ]
    },
    {
      "cell_type": "markdown",
      "metadata": {
        "id": "i5I4f8W8jvcv"
      },
      "source": [
        "We also load and display a flat field (image taken before projections with source on, and sample out):"
      ]
    },
    {
      "cell_type": "code",
      "execution_count": null,
      "metadata": {
        "id": "G5W3pC6Mjvcw"
      },
      "outputs": [],
      "source": [
        "flat1 = plt.imread(os.path.join(datapath,\"proj\",\"BBii_0031.tif\"))\n",
        "show2D(flat1)"
      ]
    },
    {
      "cell_type": "markdown",
      "metadata": {
        "id": "1XJc3GXfjvcw"
      },
      "source": [
        "We also load and display a dark field (image taken before projections and flat with source off, and sample out, to capture any background counts):"
      ]
    },
    {
      "cell_type": "code",
      "execution_count": null,
      "metadata": {
        "id": "BVPmvZhjjvcw"
      },
      "outputs": [],
      "source": [
        "dark1 = plt.imread(os.path.join(datapath,\"proj\",\"BBii_0002.tif\"))\n",
        "show2D(dark1)"
      ]
    },
    {
      "cell_type": "markdown",
      "metadata": {
        "id": "qscEzG8zjvcw"
      },
      "source": [
        "Projections have 2160 rows and 2560 columns as seen by:"
      ]
    },
    {
      "cell_type": "code",
      "execution_count": null,
      "metadata": {
        "id": "ZnGIZ1xbjvcw"
      },
      "outputs": [],
      "source": [
        "proj1.shape"
      ]
    },
    {
      "cell_type": "markdown",
      "metadata": {
        "id": "DJNKJMOkjvcw"
      },
      "source": [
        "For convenience sinograms for four selected slices have been extracted from the full 1500 projections and are provided as mat-files. We choose one and load it:"
      ]
    },
    {
      "cell_type": "markdown",
      "metadata": {
        "id": "m_KGJmvUjvcw"
      },
      "source": [
        "Load demo data set and display the first raw projection"
      ]
    },
    {
      "cell_type": "code",
      "execution_count": null,
      "metadata": {
        "id": "3cepZjFfjvcw"
      },
      "outputs": [],
      "source": [
        "filename = \"slice_0270_data.mat\"\n",
        "all_data = scipy.io.loadmat(os.path.join(datapath,filename))"
      ]
    },
    {
      "cell_type": "markdown",
      "metadata": {
        "id": "2_MMImT0jvcw"
      },
      "source": [
        "The data contains projections, flats and darks for the selected slice. There are 1500 projections of size 2560 pixels:"
      ]
    },
    {
      "cell_type": "code",
      "execution_count": null,
      "metadata": {
        "id": "SVHYdgXHjvcx"
      },
      "outputs": [],
      "source": [
        "projs = all_data['X_proj'].astype(np.float32)\n",
        "projs.shape"
      ]
    },
    {
      "cell_type": "markdown",
      "metadata": {
        "id": "KN1FFd_bjvcx"
      },
      "source": [
        "There are 200 flats (100 taken before, and 100 taken after the projections):"
      ]
    },
    {
      "cell_type": "code",
      "execution_count": null,
      "metadata": {
        "id": "wGayrdY6jvcx"
      },
      "outputs": [],
      "source": [
        "flats = all_data['X_flat'].astype(np.float32)\n",
        "flats.shape"
      ]
    },
    {
      "cell_type": "markdown",
      "metadata": {
        "id": "6ozZGwLbjvcx"
      },
      "source": [
        "There are 30 darks taken at the beginning of the experiment:"
      ]
    },
    {
      "cell_type": "code",
      "execution_count": null,
      "metadata": {
        "id": "L1Rcl8RJjvcx"
      },
      "outputs": [],
      "source": [
        "darks = all_data['X_dark'].astype(np.float32)\n",
        "darks.shape"
      ]
    },
    {
      "cell_type": "markdown",
      "metadata": {
        "id": "41-ihtVAjvcx"
      },
      "source": [
        "The data provided also contains the reconstruction produced at the synchrotron where the data was acquired. We load and display it to see what kind of image we aim to reconstruct:"
      ]
    },
    {
      "cell_type": "code",
      "execution_count": null,
      "metadata": {
        "id": "ynY_P7epjvcx"
      },
      "outputs": [],
      "source": [
        "vendor_recon = plt.imread(os.path.join(datapath,\"recon\",\"BBii_0270.rec.16bit.tif\"))\n",
        "show2D(np.rot90(vendor_recon))"
      ]
    },
    {
      "cell_type": "markdown",
      "metadata": {
        "id": "Xo7-piE4jvcx"
      },
      "source": [
        "OK, we have now taken a look at the data and are ready to start producing our own reconstruction. We need to go through a number of steps to get there.\n",
        "\n",
        "As a first step toward reconstructing the data, we specify the CIL `AcquisitionGeometry` for a 2D parallel-beam geometry with 1500 projections over 0 to 180 degrees each consisting of 2560 detector pixels."
      ]
    },
    {
      "cell_type": "code",
      "execution_count": null,
      "metadata": {
        "id": "EIbk0Fnijvcx"
      },
      "outputs": [],
      "source": [
        "ag = AcquisitionGeometry.create_Parallel2D()  \\\n",
        "         .set_panel(num_pixels=(2560))        \\\n",
        "         .set_angles(angles=np.linspace(0,180,1500,endpoint=False))"
      ]
    },
    {
      "cell_type": "markdown",
      "metadata": {
        "id": "Sa8MD1Zbjvcy"
      },
      "source": [
        "We can illustrate the geometry specified:"
      ]
    },
    {
      "cell_type": "code",
      "execution_count": null,
      "metadata": {
        "id": "5tJcrxcKjvcy"
      },
      "outputs": [],
      "source": [
        "show_geometry(ag)"
      ]
    },
    {
      "cell_type": "markdown",
      "metadata": {
        "id": "SMvCogiejvcy"
      },
      "source": [
        "To create the CIL data structure `AcquisitionData` holding the data we check again the size of the projections"
      ]
    },
    {
      "cell_type": "code",
      "execution_count": null,
      "metadata": {
        "id": "ML9bwQb2jvcy"
      },
      "outputs": [],
      "source": [
        "projs.shape"
      ]
    },
    {
      "cell_type": "markdown",
      "metadata": {
        "id": "nriAHQRtjvcy"
      },
      "source": [
        "so along the first dimension are the horizontal detector pixels and along the second the projections/angles. We then tell CIL which axes are which:"
      ]
    },
    {
      "cell_type": "code",
      "execution_count": null,
      "metadata": {
        "id": "iKGAIs-tjvcy"
      },
      "outputs": [],
      "source": [
        "ag.set_labels(['horizontal','angle'])\n",
        "print(ag.dimension_labels)"
      ]
    },
    {
      "cell_type": "markdown",
      "metadata": {
        "id": "8I5wJu8ojvcy"
      },
      "source": [
        "Now we create an `AcquisitionData` holding the projections and the geometry. We link the `projs` numpy array to the `AcquisitionData` without creating an additional copy."
      ]
    },
    {
      "cell_type": "code",
      "execution_count": null,
      "metadata": {
        "id": "g03TvGj5jvcy"
      },
      "outputs": [],
      "source": [
        "data = AcquisitionData(projs, geometry=ag, deep_copy=False)"
      ]
    },
    {
      "cell_type": "markdown",
      "metadata": {
        "id": "wMDFqJzYjvcy"
      },
      "source": [
        "We can take a look with the CIL `show2D` display function:"
      ]
    },
    {
      "cell_type": "code",
      "execution_count": null,
      "metadata": {
        "id": "lCf2ci8Pjvcz"
      },
      "outputs": [],
      "source": [
        "show2D(data)"
      ]
    },
    {
      "cell_type": "markdown",
      "metadata": {
        "id": "JtBJnKOmjvc2"
      },
      "source": [
        "Let us try reconstructing straight from the raw projections. First we need to make sure the data matches the order expected by the ASTRA-Toolbox plugin. We use `reorder('astra')` to check and reorder the data if required."
      ]
    },
    {
      "cell_type": "code",
      "execution_count": null,
      "metadata": {
        "id": "ikDHLxGBjvc2"
      },
      "outputs": [],
      "source": [
        "data.reorder('astra')"
      ]
    },
    {
      "cell_type": "markdown",
      "metadata": {
        "id": "DnqeK3K2jvc3"
      },
      "source": [
        "Now we must specify the `ImageGeometry` we want for the reconstruction grid, here we choose the default which can be generated from the `AcquisitionGeometry`:"
      ]
    },
    {
      "cell_type": "code",
      "execution_count": null,
      "metadata": {
        "id": "7oTbAKsAjvc3"
      },
      "outputs": [],
      "source": [
        "ig = ag.get_ImageGeometry()"
      ]
    },
    {
      "cell_type": "markdown",
      "metadata": {
        "id": "vv8FHSAyjvc3"
      },
      "source": [
        "We set up and run the FBP reconstructor with our dataset and specify the backend to use:"
      ]
    },
    {
      "cell_type": "code",
      "execution_count": null,
      "metadata": {
        "id": "DPxu5iiljvc3"
      },
      "outputs": [],
      "source": [
        "rec1 = FBP(data, ig, backend='astra').run()"
      ]
    },
    {
      "cell_type": "code",
      "execution_count": null,
      "metadata": {
        "id": "tQ3BAXukjvc3"
      },
      "outputs": [],
      "source": [
        "show2D(rec1)"
      ]
    },
    {
      "cell_type": "markdown",
      "metadata": {
        "id": "X0ePk0G4jvc3"
      },
      "source": [
        "On close inspection we see some of the right features but distorted and wrong colours. The first thing we are missing is to normalise the data, i.e., apply flat and dark field correction. This is achieved by the CIL `Normaliser` processor and we simply use the mean over the flat and dark images respectively:"
      ]
    },
    {
      "cell_type": "code",
      "execution_count": null,
      "metadata": {
        "id": "B-bepR-_jvc3"
      },
      "outputs": [],
      "source": [
        "data2 = Normaliser(flat_field=flats.mean(axis=1),\n",
        "                   dark_field=darks.mean(axis=1)\n",
        "                  )(data)"
      ]
    },
    {
      "cell_type": "code",
      "execution_count": null,
      "metadata": {
        "id": "n8yzIFD6jvc3"
      },
      "outputs": [],
      "source": [
        "show2D(data2)"
      ]
    },
    {
      "cell_type": "markdown",
      "metadata": {
        "id": "7RivuEqnjvc3"
      },
      "source": [
        "Compared to the previous sinogram of the raw projections, we see on the colourbar that the range is now within 0 to 1 as is what we need. We try reconstructing again:"
      ]
    },
    {
      "cell_type": "code",
      "execution_count": null,
      "metadata": {
        "id": "4gSvDzf-jvc3"
      },
      "outputs": [],
      "source": [
        "rec2 = FBP(data2, ig, backend='astra').run()"
      ]
    },
    {
      "cell_type": "code",
      "execution_count": 4,
      "metadata": {
        "colab": {
          "base_uri": "https://localhost:8080/",
          "height": 141
        },
        "id": "2qJ_100Kjvc4",
        "outputId": "5573a2ff-3b98-4927-830e-b879b73ec100"
      },
      "outputs": [
        {
          "output_type": "error",
          "ename": "NameError",
          "evalue": "name 'show2D' is not defined",
          "traceback": [
            "\u001b[0;31m---------------------------------------------------------------------------\u001b[0m",
            "\u001b[0;31mNameError\u001b[0m                                 Traceback (most recent call last)",
            "\u001b[0;32m/tmp/ipython-input-2400555886.py\u001b[0m in \u001b[0;36m<cell line: 0>\u001b[0;34m()\u001b[0m\n\u001b[0;32m----> 1\u001b[0;31m \u001b[0mshow2D\u001b[0m\u001b[0;34m(\u001b[0m\u001b[0mrec2\u001b[0m\u001b[0;34m)\u001b[0m\u001b[0;34m\u001b[0m\u001b[0;34m\u001b[0m\u001b[0m\n\u001b[0m",
            "\u001b[0;31mNameError\u001b[0m: name 'show2D' is not defined"
          ]
        }
      ],
      "source": [
        "show2D(rec2)"
      ]
    },
    {
      "cell_type": "markdown",
      "metadata": {
        "id": "asWTiDS9jvc4"
      },
      "source": [
        "It looks that same, only has the range change as seen on the colourbar. We realise that we need to apply the negative logarithm according to the Lambert-Beer law, which can be done manually or using a CIL `Processor`, which will prevent outliers and zeros from causing trouble:"
      ]
    },
    {
      "cell_type": "code",
      "execution_count": 5,
      "metadata": {
        "colab": {
          "base_uri": "https://localhost:8080/",
          "height": 141
        },
        "id": "WD1_nzh-jvc4",
        "outputId": "5754b67c-8666-47fe-94b4-279f81f0f101"
      },
      "outputs": [
        {
          "output_type": "error",
          "ename": "NameError",
          "evalue": "name 'TransmissionAbsorptionConverter' is not defined",
          "traceback": [
            "\u001b[0;31m---------------------------------------------------------------------------\u001b[0m",
            "\u001b[0;31mNameError\u001b[0m                                 Traceback (most recent call last)",
            "\u001b[0;32m/tmp/ipython-input-598570308.py\u001b[0m in \u001b[0;36m<cell line: 0>\u001b[0;34m()\u001b[0m\n\u001b[0;32m----> 1\u001b[0;31m \u001b[0mdata3\u001b[0m \u001b[0;34m=\u001b[0m \u001b[0mTransmissionAbsorptionConverter\u001b[0m\u001b[0;34m(\u001b[0m\u001b[0;34m)\u001b[0m\u001b[0;34m(\u001b[0m\u001b[0mdata2\u001b[0m\u001b[0;34m)\u001b[0m\u001b[0;34m\u001b[0m\u001b[0;34m\u001b[0m\u001b[0m\n\u001b[0m",
            "\u001b[0;31mNameError\u001b[0m: name 'TransmissionAbsorptionConverter' is not defined"
          ]
        }
      ],
      "source": [
        "data3 = TransmissionAbsorptionConverter()(data2)"
      ]
    },
    {
      "cell_type": "code",
      "execution_count": null,
      "metadata": {
        "id": "PlssD2IYjvc4"
      },
      "outputs": [],
      "source": [
        "show2D(data3)"
      ]
    },
    {
      "cell_type": "markdown",
      "metadata": {
        "id": "QhaV2ep-jvc4"
      },
      "source": [
        "We see the data has been transformed so the big sine band shows up white instead of dark as before. We attempt reconstructing:"
      ]
    },
    {
      "cell_type": "code",
      "execution_count": 6,
      "metadata": {
        "colab": {
          "base_uri": "https://localhost:8080/",
          "height": 141
        },
        "id": "mvdq5nDMjvc4",
        "outputId": "5891e3e1-63ca-495d-fb24-04c45fbf3306"
      },
      "outputs": [
        {
          "output_type": "error",
          "ename": "NameError",
          "evalue": "name 'FBP' is not defined",
          "traceback": [
            "\u001b[0;31m---------------------------------------------------------------------------\u001b[0m",
            "\u001b[0;31mNameError\u001b[0m                                 Traceback (most recent call last)",
            "\u001b[0;32m/tmp/ipython-input-3543199955.py\u001b[0m in \u001b[0;36m<cell line: 0>\u001b[0;34m()\u001b[0m\n\u001b[0;32m----> 1\u001b[0;31m \u001b[0mrec3\u001b[0m \u001b[0;34m=\u001b[0m \u001b[0mFBP\u001b[0m\u001b[0;34m(\u001b[0m\u001b[0mdata3\u001b[0m\u001b[0;34m,\u001b[0m \u001b[0mig\u001b[0m\u001b[0;34m,\u001b[0m \u001b[0mbackend\u001b[0m\u001b[0;34m=\u001b[0m\u001b[0;34m'astra'\u001b[0m\u001b[0;34m)\u001b[0m\u001b[0;34m.\u001b[0m\u001b[0mrun\u001b[0m\u001b[0;34m(\u001b[0m\u001b[0;34m)\u001b[0m\u001b[0;34m\u001b[0m\u001b[0;34m\u001b[0m\u001b[0m\n\u001b[0m",
            "\u001b[0;31mNameError\u001b[0m: name 'FBP' is not defined"
          ]
        }
      ],
      "source": [
        "rec3 = FBP(data3, ig, backend='astra').run()"
      ]
    },
    {
      "cell_type": "code",
      "execution_count": null,
      "metadata": {
        "id": "znNvF76sjvc4"
      },
      "outputs": [],
      "source": [
        "show2D(rec3)"
      ]
    },
    {
      "cell_type": "markdown",
      "metadata": {
        "id": "fFI9s7Zwjvc4"
      },
      "source": [
        "The colours have flipped now, so it is a step forward, but there is a big white ring. This is because the data is region-of-interest, i.e., the sample was larger than the field of view, so projections are truncated (i.e. do not have air on both sides as also seen in the sinograms). A simple way to compensate for this is to extend or pad the data on both sides of the projections. Using the CIL `Padder` processor we can for example pad by the left and rightmost pixel values, and we can play with the amount of padding required to push the ring out of the reconstruction. A `padsize` of about 600 is required:"
      ]
    },
    {
      "cell_type": "code",
      "execution_count": null,
      "metadata": {
        "id": "AlM3vNqLjvc5"
      },
      "outputs": [],
      "source": [
        "padsize = 600\n",
        "data4 = Padder.edge(pad_width={'horizontal': padsize})(data3)"
      ]
    },
    {
      "cell_type": "code",
      "execution_count": null,
      "metadata": {
        "id": "HajCYkynjvc5"
      },
      "outputs": [],
      "source": [
        "show2D(data4)"
      ]
    },
    {
      "cell_type": "markdown",
      "metadata": {
        "id": "5SUd9Sfgjvc5"
      },
      "source": [
        "We see the data has been extended left and right. In effect the sinogram is now larger, so we need to create a new FBP reconstructor configured for the new padded data. We keep the reconstruction volume (defined by our image geometry) the same as before as we are not interested in the extended region."
      ]
    },
    {
      "cell_type": "code",
      "execution_count": null,
      "metadata": {
        "id": "wypKHxcQjvc5"
      },
      "outputs": [],
      "source": [
        "rec4 = FBP(data4, ig, backend='astra').run()"
      ]
    },
    {
      "cell_type": "code",
      "execution_count": null,
      "metadata": {
        "id": "6Fcioe6hjvc5"
      },
      "outputs": [],
      "source": [
        "show2D(rec4)"
      ]
    },
    {
      "cell_type": "markdown",
      "metadata": {
        "id": "OgbV1q96jvc5"
      },
      "source": [
        "With `padsize=600` we see the region-of-interest ring has been successfully moved out and the sample features are more clearly seen. However there are still artifacts in the form of U-shaped stripes. These are centre-of-rotation artifacts caused by the sample not being perfectly centered during scanning. The log file of the dataset provides the centre value that was determined at the synchrotron. Here we use a CIL `Processor` to determine the offset and update the geometry. It works by doing FBP reconstructions for a range of offset parameters, evaluates a quality metric based on image sharpness and searches for the best offset. This technique is designed for use when you have 360 degrees of data, but can be applied to 180 degrees but will be very sample dependent."
      ]
    },
    {
      "cell_type": "code",
      "execution_count": null,
      "metadata": {
        "id": "eCqUM8-Sjvc5"
      },
      "outputs": [],
      "source": [
        "data5 = CentreOfRotationCorrector.image_sharpness(backend='astra', search_range=100, tolerance=0.1)(data4)"
      ]
    },
    {
      "cell_type": "markdown",
      "metadata": {
        "id": "Xs2J26eVjvc5"
      },
      "source": [
        "We can compute the centre of rotation from a CIL geometry. The argument `distance_units` allows you to define the units of the returned value. Here we specify pixels."
      ]
    },
    {
      "cell_type": "code",
      "execution_count": null,
      "metadata": {
        "tags": [],
        "id": "GndfIKVcjvc6"
      },
      "outputs": [],
      "source": [
        "data5.geometry.get_centre_of_rotation(distance_units='pixels')"
      ]
    },
    {
      "cell_type": "code",
      "execution_count": null,
      "metadata": {
        "id": "q6BHRwI4jvc6"
      },
      "outputs": [],
      "source": [
        "rec5 = FBP(data5, ig, backend='astra').run()"
      ]
    },
    {
      "cell_type": "code",
      "execution_count": null,
      "metadata": {
        "id": "vplZRL_1jvc6"
      },
      "outputs": [],
      "source": [
        "show2D(rec5)"
      ]
    },
    {
      "cell_type": "markdown",
      "metadata": {
        "id": "yaB1HFKFjvc6"
      },
      "source": [
        "This reproduces the result from the synchrotron quite well, we show it again here for comparison:"
      ]
    },
    {
      "cell_type": "code",
      "execution_count": null,
      "metadata": {
        "id": "4xxcjOHWjvc6"
      },
      "outputs": [],
      "source": [
        "show2D(np.rot90(vendor_recon))"
      ]
    },
    {
      "cell_type": "markdown",
      "metadata": {
        "id": "hewInq_4jvc6"
      },
      "source": [
        "Should the centre of rotation correction method fail, one can manually specify a rotation axis offset and carry out reconstruction in the following way. In this way, one may experiment with different offsets and manually search for a suitable value by visual inspection of the resulting reconstructions as function of the offset.\n",
        "\n",
        "**Try to find the correct axis offset within the range -100 to 100 pixels.**"
      ]
    },
    {
      "cell_type": "markdown",
      "metadata": {
        "id": "UTdgAh9njvc6"
      },
      "source": [
        "Make a copy of the dataset first:"
      ]
    },
    {
      "cell_type": "code",
      "execution_count": null,
      "metadata": {
        "tags": [],
        "id": "fHdM8Egjjvc6"
      },
      "outputs": [],
      "source": [
        "data_cor_manual = data4.copy()"
      ]
    },
    {
      "cell_type": "markdown",
      "metadata": {
        "id": "xZ8GYEaVjvc6"
      },
      "source": [
        "Then update the geometry with different centre of rotation offsets:"
      ]
    },
    {
      "cell_type": "code",
      "execution_count": null,
      "metadata": {
        "tags": [],
        "id": "4Om8V6W9jvc7"
      },
      "outputs": [],
      "source": [
        "offset = 0\n",
        "data_cor_manual.geometry.set_centre_of_rotation(offset, distance_units='pixels')"
      ]
    },
    {
      "cell_type": "markdown",
      "metadata": {
        "id": "8WgLcxt7jvc7"
      },
      "source": [
        "Compute FBP reconstruction and display assessing the output by eye:"
      ]
    },
    {
      "cell_type": "code",
      "execution_count": null,
      "metadata": {
        "id": "y3UPDT19jvc7"
      },
      "outputs": [],
      "source": [
        "rec_cor_manual = FBP(data_cor_manual, ig, backend='astra').run()\n",
        "\n",
        "show2D(rec_cor_manual)"
      ]
    }
  ],
  "metadata": {
    "kernelspec": {
      "display_name": "cil_phase_demo",
      "language": "python",
      "name": "python3"
    },
    "language_info": {
      "codemirror_mode": {
        "name": "ipython",
        "version": 3
      },
      "file_extension": ".py",
      "mimetype": "text/x-python",
      "name": "python",
      "nbconvert_exporter": "python",
      "pygments_lexer": "ipython3",
      "version": "3.12.7"
    },
    "colab": {
      "provenance": []
    }
  },
  "nbformat": 4,
  "nbformat_minor": 0
}