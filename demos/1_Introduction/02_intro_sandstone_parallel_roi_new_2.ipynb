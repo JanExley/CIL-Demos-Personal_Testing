{
  "cells": [
    {
      "cell_type": "code",
      "source": [
        "!pip install -q condacolab\n",
        "import condacolab\n",
        "condacolab.install()\n",
        "!conda install -c conda-forge -c https://software.repos.intel.com/python/conda -c ccpi cil=23.1.0 astra-toolbox ccpi-regulariser tomophantom \"ipywidgets<8\" --quiet"
      ],
      "metadata": {
        "id": "E1lmUSkJazVu",
        "outputId": "6936fc17-6da3-449c-d5ff-b764b2bb1757",
        "colab": {
          "base_uri": "https://localhost:8080/"
        }
      },
      "execution_count": 1,
      "outputs": [
        {
          "output_type": "stream",
          "name": "stdout",
          "text": [
            "✨🍰✨ Everything looks OK!\n",
            "Channels:\n",
            " - conda-forge\n",
            " - https://software.repos.intel.com/python/conda\n",
            " - ccpi\n",
            "Platform: linux-64\n",
            "Collecting package metadata (repodata.json): ...working... done\n",
            "Solving environment: ...working... \u001b[33m\u001b[1mwarning  libmamba\u001b[m Added empty dependency for problem type SOLVER_RULE_UPDATE\n",
            "failed\n",
            "\n",
            "LibMambaUnsatisfiableError: Encountered problems while solving:\n",
            "  - package cil-23.1.0-np121py310_0 requires python_abi 3.10.* *_cp310, but none of the providers can be installed\n",
            "\n",
            "Could not solve for environment specs\n",
            "The following packages are incompatible\n",
            "├─ \u001b[32mcil 23.1.0** \u001b[0m is installable with the potential options\n",
            "│  ├─ \u001b[32mcil 23.1.0\u001b[0m would require\n",
            "│  │  └─ \u001b[32mpython_abi 3.10.* *_cp310\u001b[0m, which can be installed;\n",
            "│  ├─ \u001b[32mcil 23.1.0\u001b[0m would require\n",
            "│  │  └─ \u001b[32mpython_abi 3.8.* *_cp38\u001b[0m, which can be installed;\n",
            "│  └─ \u001b[32mcil 23.1.0\u001b[0m would require\n",
            "│     └─ \u001b[32mpython_abi 3.9.* *_cp39\u001b[0m, which can be installed;\n",
            "└─ \u001b[31mpin-1\u001b[0m is not installable because it requires\n",
            "   └─ \u001b[31mpython_abi 3.12* *cp312*\u001b[0m, which conflicts with any installable versions previously reported.\n",
            "\n"
          ]
        }
      ]
    },
    {
      "cell_type": "code",
      "source": [
        "import cil\n",
        "print(\"CIL version:\", cil.__version__)"
      ],
      "metadata": {
        "id": "khnYuhpcazDw",
        "outputId": "90f123cb-b776-4e2f-8169-b00beb45daeb",
        "colab": {
          "base_uri": "https://localhost:8080/",
          "height": 333
        }
      },
      "execution_count": 2,
      "outputs": [
        {
          "output_type": "error",
          "ename": "ModuleNotFoundError",
          "evalue": "No module named 'cil'",
          "traceback": [
            "\u001b[0;31m---------------------------------------------------------------------------\u001b[0m",
            "\u001b[0;31mModuleNotFoundError\u001b[0m                       Traceback (most recent call last)",
            "\u001b[0;32m/tmp/ipython-input-3657539795.py\u001b[0m in \u001b[0;36m<cell line: 0>\u001b[0;34m()\u001b[0m\n\u001b[0;32m----> 1\u001b[0;31m \u001b[0;32mimport\u001b[0m \u001b[0mcil\u001b[0m\u001b[0;34m\u001b[0m\u001b[0;34m\u001b[0m\u001b[0m\n\u001b[0m\u001b[1;32m      2\u001b[0m \u001b[0mprint\u001b[0m\u001b[0;34m(\u001b[0m\u001b[0;34m\"CIL version:\"\u001b[0m\u001b[0;34m,\u001b[0m \u001b[0mcil\u001b[0m\u001b[0;34m.\u001b[0m\u001b[0m__version__\u001b[0m\u001b[0;34m)\u001b[0m\u001b[0;34m\u001b[0m\u001b[0;34m\u001b[0m\u001b[0m\n",
            "\u001b[0;31mModuleNotFoundError\u001b[0m: No module named 'cil'",
            "",
            "\u001b[0;31m---------------------------------------------------------------------------\u001b[0;32m\nNOTE: If your import is failing due to a missing package, you can\nmanually install dependencies using either !pip or !apt.\n\nTo view examples of installing some common dependencies, click the\n\"Open Examples\" button below.\n\u001b[0;31m---------------------------------------------------------------------------\u001b[0m\n"
          ],
          "errorDetails": {
            "actions": [
              {
                "action": "open_url",
                "actionText": "Open Examples",
                "url": "/notebooks/snippets/importing_libraries.ipynb"
              }
            ]
          }
        }
      ]
    },
    {
      "cell_type": "code",
      "execution_count": null,
      "metadata": {
        "id": "3ytgfJjXabJC"
      },
      "outputs": [],
      "source": [
        "# -*- coding: utf-8 -*-\n",
        "#  Copyright 2021 - 2022 United Kingdom Research and Innovation\n",
        "#  Copyright 2021 - 2022 The University of Manchester\n",
        "#  Copyright 2021 - 2022 Technical University of Denmark\n",
        "#\n",
        "#  Licensed under the Apache License, Version 2.0 (the \"License\");\n",
        "#  you may not use this file except in compliance with the License.\n",
        "#  You may obtain a copy of the License at\n",
        "#\n",
        "#      http://www.apache.org/licenses/LICENSE-2.0\n",
        "#\n",
        "#  Unless required by applicable law or agreed to in writing, software\n",
        "#  distributed under the License is distributed on an \"AS IS\" BASIS,\n",
        "#  WITHOUT WARRANTIES OR CONDITIONS OF ANY KIND, either express or implied.\n",
        "#  See the License for the specific language governing permissions and\n",
        "#  limitations under the License.\n",
        "#\n",
        "#   Authored by:    Jakob S. Jørgensen (DTU)\n",
        "#                   Gemma Fardell (UKRI-STFC)\n",
        "#                   Laura Murgatroyd (UKRI-STFC)\n",
        "#                   Hannah Robarts (UKRI-STFC)"
      ]
    },
    {
      "cell_type": "markdown",
      "metadata": {
        "id": "NsN8Khk4abJD"
      },
      "source": [
        "# Sandstone 2D parallel-beam data reconstruction demo\n",
        "\n"
      ]
    },
    {
      "cell_type": "markdown",
      "metadata": {
        "id": "Yw0y1Z9uabJE"
      },
      "source": [
        "This exercise walks through the steps needed to load in, preprocess and reconstruct by FBP a 2D parallel-beam data set from a synchrotron of a sandstone sample. Learning objectives are:\n",
        "- Load and investigate a real data set.\n",
        "- Determine geometric information of the data and set up CIL data structures.\n",
        "- Apply CIL processors to pre-process the data, including normalisation, negative log, region-of-interest and centre of rotation correction.\n",
        "- Compute FBP reconstruction using CIL and compare with reconstruction provided.\n",
        "\n",
        "This example requires the data in `small.zip` from: https://zenodo.org/record/4912435 :\n",
        " - https://zenodo.org/record/4912435/files/small.zip\n",
        "\n",
        "If running locally please download the data and update the `datapath` variable below."
      ]
    },
    {
      "cell_type": "code",
      "execution_count": null,
      "metadata": {
        "id": "UX8sL0RNabJE"
      },
      "outputs": [],
      "source": [
        "datapath = \"/mnt/materials/SIRF/Fully3D/CIL/SandStone/\""
      ]
    },
    {
      "cell_type": "code",
      "execution_count": null,
      "metadata": {
        "id": "LOJllYP3abJE"
      },
      "outputs": [],
      "source": [
        "# Import all CIL components needed\n",
        "from cil.framework import ImageData, ImageGeometry\n",
        "from cil.framework import AcquisitionGeometry, AcquisitionData\n",
        "\n",
        "# CIL Processors\n",
        "from cil.processors import CentreOfRotationCorrector, Slicer, TransmissionAbsorptionConverter, Normaliser, Padder\n",
        "\n",
        "# CIL display tools\n",
        "from cil.utilities.display import show2D, show_geometry\n",
        "\n",
        "# CIL FBP\n",
        "from cil.recon import FBP\n",
        "\n",
        "# From CIL ASTRA plugin\n",
        "from cil.plugins.astra import ProjectionOperator\n",
        "\n",
        "# All external imports\n",
        "import numpy as np\n",
        "import matplotlib.pyplot as plt\n",
        "import scipy.io\n",
        "import os"
      ]
    },
    {
      "cell_type": "markdown",
      "metadata": {
        "id": "Rbhg3LQ3abJE"
      },
      "source": [
        "Switch on printing of more info in some of the methods including `CentreOfRotationCorrector`:"
      ]
    },
    {
      "cell_type": "code",
      "execution_count": null,
      "metadata": {
        "id": "taczQsQuabJF"
      },
      "outputs": [],
      "source": [
        "import logging\n",
        "logging.basicConfig(level=logging.WARNING)\n",
        "cil_log_level = logging.getLogger('cil.processors')\n",
        "cil_log_level.setLevel(logging.INFO)"
      ]
    },
    {
      "cell_type": "markdown",
      "metadata": {
        "id": "ejAMj7giabJF"
      },
      "source": [
        "The data contains selected 2D projections, flat and dark fields, as well as complete 2D sinograms for 4 horizontal slices. We first load and display a couple of projections"
      ]
    },
    {
      "cell_type": "code",
      "execution_count": null,
      "metadata": {
        "id": "oZn7GEWQabJF"
      },
      "outputs": [],
      "source": [
        "proj1 = plt.imread(os.path.join(datapath,\"proj\",\"BBii_0131.tif\"))\n",
        "show2D(proj1)"
      ]
    },
    {
      "cell_type": "code",
      "execution_count": null,
      "metadata": {
        "id": "tIXfECYyabJF"
      },
      "outputs": [],
      "source": [
        "proj2 = plt.imread(os.path.join(datapath,\"proj\",\"BBii_0931.tif\"))\n",
        "show2D(proj2)"
      ]
    },
    {
      "cell_type": "markdown",
      "metadata": {
        "id": "9iFH5wGAabJF"
      },
      "source": [
        "We also load and display a flat field (image taken before projections with source on, and sample out):"
      ]
    },
    {
      "cell_type": "code",
      "execution_count": null,
      "metadata": {
        "id": "A1-5hxbrabJF"
      },
      "outputs": [],
      "source": [
        "flat1 = plt.imread(os.path.join(datapath,\"proj\",\"BBii_0031.tif\"))\n",
        "show2D(flat1)"
      ]
    },
    {
      "cell_type": "markdown",
      "metadata": {
        "id": "4M84_KWVabJF"
      },
      "source": [
        "We also load and display a dark field (image taken before projections and flat with source off, and sample out, to capture any background counts):"
      ]
    },
    {
      "cell_type": "code",
      "execution_count": null,
      "metadata": {
        "id": "JDtlr2MtabJF"
      },
      "outputs": [],
      "source": [
        "dark1 = plt.imread(os.path.join(datapath,\"proj\",\"BBii_0002.tif\"))\n",
        "show2D(dark1)"
      ]
    },
    {
      "cell_type": "markdown",
      "metadata": {
        "id": "WU5UOJ4IabJG"
      },
      "source": [
        "Projections have 2160 rows and 2560 columns as seen by:"
      ]
    },
    {
      "cell_type": "code",
      "execution_count": null,
      "metadata": {
        "id": "nEdjyd_iabJG"
      },
      "outputs": [],
      "source": [
        "proj1.shape"
      ]
    },
    {
      "cell_type": "markdown",
      "metadata": {
        "id": "nfNRG0HFabJG"
      },
      "source": [
        "For convenience sinograms for four selected slices have been extracted from the full 1500 projections and are provided as mat-files. We choose one and load it:"
      ]
    },
    {
      "cell_type": "markdown",
      "metadata": {
        "id": "bRfhDojrabJG"
      },
      "source": [
        "Load demo data set and display the first raw projection"
      ]
    },
    {
      "cell_type": "code",
      "execution_count": null,
      "metadata": {
        "id": "ZF3bBfChabJG"
      },
      "outputs": [],
      "source": [
        "filename = \"slice_0270_data.mat\"\n",
        "all_data = scipy.io.loadmat(os.path.join(datapath,filename))"
      ]
    },
    {
      "cell_type": "markdown",
      "metadata": {
        "id": "c2ZVPHuvabJG"
      },
      "source": [
        "The data contains projections, flats and darks for the selected slice. There are 1500 projections of size 2560 pixels:"
      ]
    },
    {
      "cell_type": "code",
      "execution_count": null,
      "metadata": {
        "id": "N_alsroAabJG"
      },
      "outputs": [],
      "source": [
        "projs = all_data['X_proj'].astype(np.float32)\n",
        "projs.shape"
      ]
    },
    {
      "cell_type": "markdown",
      "metadata": {
        "id": "_utdzFuQabJG"
      },
      "source": [
        "There are 200 flats (100 taken before, and 100 taken after the projections):"
      ]
    },
    {
      "cell_type": "code",
      "execution_count": null,
      "metadata": {
        "id": "t3XbVVa6abJG"
      },
      "outputs": [],
      "source": [
        "flats = all_data['X_flat'].astype(np.float32)\n",
        "flats.shape"
      ]
    },
    {
      "cell_type": "markdown",
      "metadata": {
        "id": "uve1ZPlfabJG"
      },
      "source": [
        "There are 30 darks taken at the beginning of the experiment:"
      ]
    },
    {
      "cell_type": "code",
      "execution_count": null,
      "metadata": {
        "id": "cWwgJ3eHabJH"
      },
      "outputs": [],
      "source": [
        "darks = all_data['X_dark'].astype(np.float32)\n",
        "darks.shape"
      ]
    },
    {
      "cell_type": "markdown",
      "metadata": {
        "id": "sSo5zC0yabJH"
      },
      "source": [
        "The data provided also contains the reconstruction produced at the synchrotron where the data was acquired. We load and display it to see what kind of image we aim to reconstruct:"
      ]
    },
    {
      "cell_type": "code",
      "execution_count": null,
      "metadata": {
        "id": "RdpOtDp3abJH"
      },
      "outputs": [],
      "source": [
        "vendor_recon = plt.imread(os.path.join(datapath,\"recon\",\"BBii_0270.rec.16bit.tif\"))\n",
        "show2D(np.rot90(vendor_recon))"
      ]
    },
    {
      "cell_type": "markdown",
      "metadata": {
        "id": "OHClYuucabJH"
      },
      "source": [
        "OK, we have now taken a look at the data and are ready to start producing our own reconstruction. We need to go through a number of steps to get there.\n",
        "\n",
        "As a first step toward reconstructing the data, we specify the CIL `AcquisitionGeometry` for a 2D parallel-beam geometry with 1500 projections over 0 to 180 degrees each consisting of 2560 detector pixels."
      ]
    },
    {
      "cell_type": "code",
      "execution_count": null,
      "metadata": {
        "id": "C_tHDiZLabJH"
      },
      "outputs": [],
      "source": [
        "ag = AcquisitionGeometry.create_Parallel2D()  \\\n",
        "         .set_panel(num_pixels=(2560))        \\\n",
        "         .set_angles(angles=np.linspace(0,180,1500,endpoint=False))"
      ]
    },
    {
      "cell_type": "markdown",
      "metadata": {
        "id": "AxLLscN_abJH"
      },
      "source": [
        "We can illustrate the geometry specified:"
      ]
    },
    {
      "cell_type": "code",
      "execution_count": null,
      "metadata": {
        "id": "KBmScMKTabJH"
      },
      "outputs": [],
      "source": [
        "show_geometry(ag)"
      ]
    },
    {
      "cell_type": "markdown",
      "metadata": {
        "id": "kXuJBBI1abJH"
      },
      "source": [
        "To create the CIL data structure `AcquisitionData` holding the data we check again the size of the projections"
      ]
    },
    {
      "cell_type": "code",
      "execution_count": null,
      "metadata": {
        "id": "iEzmC1ZeabJH"
      },
      "outputs": [],
      "source": [
        "projs.shape"
      ]
    },
    {
      "cell_type": "markdown",
      "metadata": {
        "id": "TsWbDaTuabJH"
      },
      "source": [
        "so along the first dimension are the horizontal detector pixels and along the second the projections/angles. We then tell CIL which axes are which:"
      ]
    },
    {
      "cell_type": "code",
      "execution_count": null,
      "metadata": {
        "id": "xIAGfZX6abJI"
      },
      "outputs": [],
      "source": [
        "ag.set_labels(['horizontal','angle'])\n",
        "print(ag.dimension_labels)"
      ]
    },
    {
      "cell_type": "markdown",
      "metadata": {
        "id": "SEFMgQMiabJI"
      },
      "source": [
        "Now we create an `AcquisitionData` holding the projections and the geometry. We link the `projs` numpy array to the `AcquisitionData` without creating an additional copy."
      ]
    },
    {
      "cell_type": "code",
      "execution_count": null,
      "metadata": {
        "id": "JDrHBDRaabJI"
      },
      "outputs": [],
      "source": [
        "data = AcquisitionData(projs, geometry=ag, deep_copy=False)"
      ]
    },
    {
      "cell_type": "markdown",
      "metadata": {
        "id": "qewwUT4NabJI"
      },
      "source": [
        "We can take a look with the CIL `show2D` display function:"
      ]
    },
    {
      "cell_type": "code",
      "execution_count": null,
      "metadata": {
        "id": "kSuFURFIabJI"
      },
      "outputs": [],
      "source": [
        "show2D(data)"
      ]
    },
    {
      "cell_type": "markdown",
      "metadata": {
        "id": "dEux0ZmzabJM"
      },
      "source": [
        "Let us try reconstructing straight from the raw projections. First we need to make sure the data matches the order expected by the ASTRA-Toolbox plugin. We use `reorder('astra')` to check and reorder the data if required."
      ]
    },
    {
      "cell_type": "code",
      "execution_count": null,
      "metadata": {
        "id": "uXRK4FRFabJM"
      },
      "outputs": [],
      "source": [
        "data.reorder('astra')"
      ]
    },
    {
      "cell_type": "markdown",
      "metadata": {
        "id": "jNpYRqFdabJM"
      },
      "source": [
        "Now we must specify the `ImageGeometry` we want for the reconstruction grid, here we choose the default which can be generated from the `AcquisitionGeometry`:"
      ]
    },
    {
      "cell_type": "code",
      "execution_count": null,
      "metadata": {
        "id": "MYWWW2i_abJM"
      },
      "outputs": [],
      "source": [
        "ig = ag.get_ImageGeometry()"
      ]
    },
    {
      "cell_type": "markdown",
      "metadata": {
        "id": "e3rTXgDuabJM"
      },
      "source": [
        "We set up and run the FBP reconstructor with our dataset and specify the backend to use:"
      ]
    },
    {
      "cell_type": "code",
      "execution_count": null,
      "metadata": {
        "id": "_KOw3bMFabJM"
      },
      "outputs": [],
      "source": [
        "rec1 = FBP(data, ig, backend='astra').run()"
      ]
    },
    {
      "cell_type": "code",
      "execution_count": null,
      "metadata": {
        "id": "6fBAZOfPabJM"
      },
      "outputs": [],
      "source": [
        "show2D(rec1)"
      ]
    },
    {
      "cell_type": "markdown",
      "metadata": {
        "id": "bao6kjdjabJM"
      },
      "source": [
        "On close inspection we see some of the right features but distorted and wrong colours. The first thing we are missing is to normalise the data, i.e., apply flat and dark field correction. This is achieved by the CIL `Normaliser` processor and we simply use the mean over the flat and dark images respectively:"
      ]
    },
    {
      "cell_type": "code",
      "execution_count": null,
      "metadata": {
        "id": "-gz30E62abJM"
      },
      "outputs": [],
      "source": [
        "data2 = Normaliser(flat_field=flats.mean(axis=1),\n",
        "                   dark_field=darks.mean(axis=1)\n",
        "                  )(data)"
      ]
    },
    {
      "cell_type": "code",
      "execution_count": null,
      "metadata": {
        "id": "flTpL5c6abJN"
      },
      "outputs": [],
      "source": [
        "show2D(data2)"
      ]
    },
    {
      "cell_type": "markdown",
      "metadata": {
        "id": "ZOiHgSeRabJN"
      },
      "source": [
        "Compared to the previous sinogram of the raw projections, we see on the colourbar that the range is now within 0 to 1 as is what we need. We try reconstructing again:"
      ]
    },
    {
      "cell_type": "code",
      "execution_count": null,
      "metadata": {
        "id": "_fSul_CxabJN"
      },
      "outputs": [],
      "source": [
        "rec2 = FBP(data2, ig, backend='astra').run()"
      ]
    },
    {
      "cell_type": "code",
      "execution_count": null,
      "metadata": {
        "id": "DCxjqBFgabJN"
      },
      "outputs": [],
      "source": [
        "show2D(rec2)"
      ]
    },
    {
      "cell_type": "markdown",
      "metadata": {
        "id": "uu41YP38abJN"
      },
      "source": [
        "It looks that same, only has the range change as seen on the colourbar. We realise that we need to apply the negative logarithm according to the Lambert-Beer law, which can be done manually or using a CIL `Processor`, which will prevent outliers and zeros from causing trouble:"
      ]
    },
    {
      "cell_type": "code",
      "execution_count": null,
      "metadata": {
        "id": "8wcMXMQPabJN"
      },
      "outputs": [],
      "source": [
        "data3 = TransmissionAbsorptionConverter()(data2)"
      ]
    },
    {
      "cell_type": "code",
      "execution_count": null,
      "metadata": {
        "id": "zZOhAnlKabJN"
      },
      "outputs": [],
      "source": [
        "show2D(data3)"
      ]
    },
    {
      "cell_type": "markdown",
      "metadata": {
        "id": "LervOmJLabJN"
      },
      "source": [
        "We see the data has been transformed so the big sine band shows up white instead of dark as before. We attempt reconstructing:"
      ]
    },
    {
      "cell_type": "code",
      "execution_count": null,
      "metadata": {
        "id": "HwiQpnilabJN"
      },
      "outputs": [],
      "source": [
        "rec3 = FBP(data3, ig, backend='astra').run()"
      ]
    },
    {
      "cell_type": "code",
      "execution_count": null,
      "metadata": {
        "id": "I44dZ6QSabJN"
      },
      "outputs": [],
      "source": [
        "show2D(rec3)"
      ]
    },
    {
      "cell_type": "markdown",
      "metadata": {
        "id": "Rw8yokQdabJO"
      },
      "source": [
        "The colours have flipped now, so it is a step forward, but there is a big white ring. This is because the data is region-of-interest, i.e., the sample was larger than the field of view, so projections are truncated (i.e. do not have air on both sides as also seen in the sinograms). A simple way to compensate for this is to extend or pad the data on both sides of the projections. Using the CIL `Padder` processor we can for example pad by the left and rightmost pixel values, and we can play with the amount of padding required to push the ring out of the reconstruction. A `padsize` of about 600 is required:"
      ]
    },
    {
      "cell_type": "code",
      "execution_count": null,
      "metadata": {
        "id": "vCvTt4dUabJO"
      },
      "outputs": [],
      "source": [
        "padsize = 600\n",
        "data4 = Padder.edge(pad_width={'horizontal': padsize})(data3)"
      ]
    },
    {
      "cell_type": "code",
      "execution_count": null,
      "metadata": {
        "id": "g37OJ6cAabJO"
      },
      "outputs": [],
      "source": [
        "show2D(data4)"
      ]
    },
    {
      "cell_type": "markdown",
      "metadata": {
        "id": "5E9Z-08FabJO"
      },
      "source": [
        "We see the data has been extended left and right. In effect the sinogram is now larger, so we need to create a new FBP reconstructor configured for the new padded data. We keep the reconstruction volume (defined by our image geometry) the same as before as we are not interested in the extended region."
      ]
    },
    {
      "cell_type": "code",
      "execution_count": null,
      "metadata": {
        "id": "h-3rwaH5abJO"
      },
      "outputs": [],
      "source": [
        "rec4 = FBP(data4, ig, backend='astra').run()"
      ]
    },
    {
      "cell_type": "code",
      "execution_count": null,
      "metadata": {
        "id": "2IYfgPEtabJO"
      },
      "outputs": [],
      "source": [
        "show2D(rec4)"
      ]
    },
    {
      "cell_type": "markdown",
      "metadata": {
        "id": "tQht2LNYabJO"
      },
      "source": [
        "With `padsize=600` we see the region-of-interest ring has been successfully moved out and the sample features are more clearly seen. However there are still artifacts in the form of U-shaped stripes. These are centre-of-rotation artifacts caused by the sample not being perfectly centered during scanning. The log file of the dataset provides the centre value that was determined at the synchrotron. Here we use a CIL `Processor` to determine the offset and update the geometry. It works by doing FBP reconstructions for a range of offset parameters, evaluates a quality metric based on image sharpness and searches for the best offset. This technique is designed for use when you have 360 degrees of data, but can be applied to 180 degrees but will be very sample dependent."
      ]
    },
    {
      "cell_type": "code",
      "execution_count": null,
      "metadata": {
        "id": "j67qWK9labJO"
      },
      "outputs": [],
      "source": [
        "data5 = CentreOfRotationCorrector.image_sharpness(backend='astra', search_range=100, tolerance=0.1)(data4)"
      ]
    },
    {
      "cell_type": "markdown",
      "metadata": {
        "id": "ShYdvrz-abJO"
      },
      "source": [
        "We can compute the centre of rotation from a CIL geometry. The argument `distance_units` allows you to define the units of the returned value. Here we specify pixels."
      ]
    },
    {
      "cell_type": "code",
      "execution_count": null,
      "metadata": {
        "tags": [],
        "id": "SIeQH_l_abJP"
      },
      "outputs": [],
      "source": [
        "data5.geometry.get_centre_of_rotation(distance_units='pixels')"
      ]
    },
    {
      "cell_type": "code",
      "execution_count": null,
      "metadata": {
        "id": "29TB_-dDabJP"
      },
      "outputs": [],
      "source": [
        "rec5 = FBP(data5, ig, backend='astra').run()"
      ]
    },
    {
      "cell_type": "code",
      "execution_count": null,
      "metadata": {
        "id": "YX4EleY_abJP"
      },
      "outputs": [],
      "source": [
        "show2D(rec5)"
      ]
    },
    {
      "cell_type": "markdown",
      "metadata": {
        "id": "bZbr_hu4abJP"
      },
      "source": [
        "This reproduces the result from the synchrotron quite well, we show it again here for comparison:"
      ]
    },
    {
      "cell_type": "code",
      "execution_count": null,
      "metadata": {
        "id": "zuf7DIzMabJP"
      },
      "outputs": [],
      "source": [
        "show2D(np.rot90(vendor_recon))"
      ]
    },
    {
      "cell_type": "markdown",
      "metadata": {
        "id": "Os4f48_jabJP"
      },
      "source": [
        "Should the centre of rotation correction method fail, one can manually specify a rotation axis offset and carry out reconstruction in the following way. In this way, one may experiment with different offsets and manually search for a suitable value by visual inspection of the resulting reconstructions as function of the offset.\n",
        "\n",
        "**Try to find the correct axis offset within the range -100 to 100 pixels.**"
      ]
    },
    {
      "cell_type": "markdown",
      "metadata": {
        "id": "_l4VsMXxabJP"
      },
      "source": [
        "Make a copy of the dataset first:"
      ]
    },
    {
      "cell_type": "code",
      "execution_count": null,
      "metadata": {
        "tags": [],
        "id": "z9Gy4xYVabJP"
      },
      "outputs": [],
      "source": [
        "data_cor_manual = data4.copy()"
      ]
    },
    {
      "cell_type": "markdown",
      "metadata": {
        "id": "YkJOTPBNabJP"
      },
      "source": [
        "Then update the geometry with different centre of rotation offsets:"
      ]
    },
    {
      "cell_type": "code",
      "execution_count": null,
      "metadata": {
        "tags": [],
        "id": "5DhVqA1JabJP"
      },
      "outputs": [],
      "source": [
        "offset = 0\n",
        "data_cor_manual.geometry.set_centre_of_rotation(offset, distance_units='pixels')"
      ]
    },
    {
      "cell_type": "markdown",
      "metadata": {
        "id": "Ylc9lb-CabJP"
      },
      "source": [
        "Compute FBP reconstruction and display assessing the output by eye:"
      ]
    },
    {
      "cell_type": "code",
      "execution_count": null,
      "metadata": {
        "id": "ryJbeF_cabJQ"
      },
      "outputs": [],
      "source": [
        "rec_cor_manual = FBP(data_cor_manual, ig, backend='astra').run()\n",
        "\n",
        "show2D(rec_cor_manual)"
      ]
    }
  ],
  "metadata": {
    "kernelspec": {
      "display_name": "cil_phase_demo",
      "language": "python",
      "name": "python3"
    },
    "language_info": {
      "codemirror_mode": {
        "name": "ipython",
        "version": 3
      },
      "file_extension": ".py",
      "mimetype": "text/x-python",
      "name": "python",
      "nbconvert_exporter": "python",
      "pygments_lexer": "ipython3",
      "version": "3.12.7"
    },
    "colab": {
      "provenance": []
    }
  },
  "nbformat": 4,
  "nbformat_minor": 0
}