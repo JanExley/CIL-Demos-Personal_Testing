{
  "cells": [
    {
      "cell_type": "code",
      "source": [
        "!pip install -q condacolab\n",
        "import condacolab\n",
        "condacolab.install()\n",
        "!mamba install -c conda-forge -c https://software.repos.intel.com/python/conda -c ccpi cil=23.1.0 astra-toolbox ccpi-regulariser tomophantom \"ipywidgets<8\" --quiet"
      ],
      "metadata": {
        "id": "lpi63yXimDse",
        "outputId": "6bdde179-f679-48b8-b7a4-30875a82c796",
        "colab": {
          "base_uri": "https://localhost:8080/"
        }
      },
      "execution_count": 1,
      "outputs": [
        {
          "output_type": "stream",
          "name": "stdout",
          "text": [
            "⏬ Downloading https://github.com/jaimergp/miniforge/releases/download/24.11.2-1_colab/Miniforge3-colab-24.11.2-1_colab-Linux-x86_64.sh...\n",
            "📦 Installing...\n",
            "📌 Adjusting configuration...\n",
            "🩹 Patching environment...\n",
            "⏲ Done in 0:00:14\n",
            "🔁 Restarting kernel...\n",
            "Your pinning does not match what's currently installed. Please remove the pin and fix your installation\n",
            "  Pin: python=3.12\n",
            "  Currently installed: conda-forge/linux-64::python==3.11.11=h9e4cc4f_1_cpython\n"
          ]
        }
      ]
    },
    {
      "cell_type": "code",
      "source": [
        "!git clone https://github.com/CERN/TIGRE.git\n",
        "%cd TIGRE/Python\n",
        "!python setup.py install\n",
        "!python example.py"
      ],
      "metadata": {
        "id": "fduQe4rymbrE"
      },
      "execution_count": null,
      "outputs": []
    },
    {
      "cell_type": "code",
      "source": [
        "import sys\n",
        "\n",
        "sys.path.append(\"/usr/local/lib/python3.11/site-packages\")\n",
        "import cil\n",
        "print(\"CIL version:\", cil.__version__)"
      ],
      "metadata": {
        "colab": {
          "base_uri": "https://localhost:8080/"
        },
        "id": "IC77cDFRlIze",
        "outputId": "9555326c-0aed-4c61-fd02-1704c546ea36"
      },
      "execution_count": null,
      "outputs": [
        {
          "output_type": "stream",
          "name": "stdout",
          "text": [
            "CIL version: 25.0.0\n"
          ]
        }
      ]
    },
    {
      "cell_type": "code",
      "execution_count": null,
      "metadata": {
        "id": "QH2rkwvjmC2H"
      },
      "outputs": [],
      "source": [
        "# -*- coding: utf-8 -*-\n",
        "#  Copyright 2021 - 2022 United Kingdom Research and Innovation\n",
        "#  Copyright 2021 - 2022 The University of Manchester\n",
        "#  Copyright 2021 - 2022 Technical University of Denmark\n",
        "#\n",
        "#  Licensed under the Apache License, Version 2.0 (the \"License\");\n",
        "#  you may not use this file except in compliance with the License.\n",
        "#  You may obtain a copy of the License at\n",
        "#\n",
        "#      http://www.apache.org/licenses/LICENSE-2.0\n",
        "#\n",
        "#  Unless required by applicable law or agreed to in writing, software\n",
        "#  distributed under the License is distributed on an \"AS IS\" BASIS,\n",
        "#  WITHOUT WARRANTIES OR CONDITIONS OF ANY KIND, either express or implied.\n",
        "#  See the License for the specific language governing permissions and\n",
        "#  limitations under the License.\n",
        "#\n",
        "#   Authored by:    Jakob S. Jørgensen (DTU)\n",
        "#                   Gemma Fardell (UKRI-STFC)\n",
        "#                   Laura Murgatroyd (UKRI-STFC)\n",
        "#                   Hannah Robarts (UKRI-STFC)"
      ]
    },
    {
      "cell_type": "markdown",
      "metadata": {
        "id": "ez7Bej7SmC2J"
      },
      "source": [
        "# Sandstone 2D parallel-beam data reconstruction demo\n",
        "\n"
      ]
    },
    {
      "cell_type": "markdown",
      "metadata": {
        "id": "bcuEMCtJmC2K"
      },
      "source": [
        "This exercise walks through the steps needed to load in, preprocess and reconstruct by FBP a 2D parallel-beam data set from a synchrotron of a sandstone sample. Learning objectives are:\n",
        "- Load and investigate a real data set.\n",
        "- Determine geometric information of the data and set up CIL data structures.\n",
        "- Apply CIL processors to pre-process the data, including normalisation, negative log, region-of-interest and centre of rotation correction.\n",
        "- Compute FBP reconstruction using CIL and compare with reconstruction provided.\n",
        "\n",
        "This example requires the data in `small.zip` from: https://zenodo.org/record/4912435 :\n",
        " - https://zenodo.org/record/4912435/files/small.zip\n",
        "\n",
        "If running locally please download the data and update the `datapath` variable below."
      ]
    },
    {
      "cell_type": "code",
      "execution_count": null,
      "metadata": {
        "id": "3OPj_-kMmC2L"
      },
      "outputs": [],
      "source": [
        "datapath = \"/mnt/materials/SIRF/Fully3D/CIL/SandStone/\""
      ]
    },
    {
      "cell_type": "code",
      "execution_count": null,
      "metadata": {
        "id": "nkhiL67jmC2L"
      },
      "outputs": [],
      "source": [
        "# Import all CIL components needed\n",
        "from cil.framework import ImageData, ImageGeometry\n",
        "from cil.framework import AcquisitionGeometry, AcquisitionData\n",
        "\n",
        "# CIL Processors\n",
        "from cil.processors import CentreOfRotationCorrector, Slicer, TransmissionAbsorptionConverter, Normaliser, Padder\n",
        "\n",
        "# CIL display tools\n",
        "from cil.utilities.display import show2D, show_geometry\n",
        "\n",
        "# CIL FBP\n",
        "from cil.recon import FBP\n",
        "\n",
        "# From CIL ASTRA plugin\n",
        "from cil.plugins.astra import ProjectionOperator\n",
        "\n",
        "# All external imports\n",
        "import numpy as np\n",
        "import matplotlib.pyplot as plt\n",
        "import scipy.io\n",
        "import os"
      ]
    },
    {
      "cell_type": "markdown",
      "metadata": {
        "id": "B0YmxHzBmC2L"
      },
      "source": [
        "Switch on printing of more info in some of the methods including `CentreOfRotationCorrector`:"
      ]
    },
    {
      "cell_type": "code",
      "execution_count": null,
      "metadata": {
        "id": "MNat5PkHmC2M"
      },
      "outputs": [],
      "source": [
        "import logging\n",
        "logging.basicConfig(level=logging.WARNING)\n",
        "cil_log_level = logging.getLogger('cil.processors')\n",
        "cil_log_level.setLevel(logging.INFO)"
      ]
    },
    {
      "cell_type": "markdown",
      "metadata": {
        "id": "_a_L2oGJmC2M"
      },
      "source": [
        "The data contains selected 2D projections, flat and dark fields, as well as complete 2D sinograms for 4 horizontal slices. We first load and display a couple of projections"
      ]
    },
    {
      "cell_type": "code",
      "execution_count": null,
      "metadata": {
        "id": "MbljT2SumC2M"
      },
      "outputs": [],
      "source": [
        "proj1 = plt.imread(os.path.join(datapath,\"proj\",\"BBii_0131.tif\"))\n",
        "show2D(proj1)"
      ]
    },
    {
      "cell_type": "code",
      "execution_count": null,
      "metadata": {
        "id": "zIIUI1pSmC2M"
      },
      "outputs": [],
      "source": [
        "proj2 = plt.imread(os.path.join(datapath,\"proj\",\"BBii_0931.tif\"))\n",
        "show2D(proj2)"
      ]
    },
    {
      "cell_type": "markdown",
      "metadata": {
        "id": "KXxww8dlmC2M"
      },
      "source": [
        "We also load and display a flat field (image taken before projections with source on, and sample out):"
      ]
    },
    {
      "cell_type": "code",
      "execution_count": null,
      "metadata": {
        "id": "Etxdw5EbmC2M"
      },
      "outputs": [],
      "source": [
        "flat1 = plt.imread(os.path.join(datapath,\"proj\",\"BBii_0031.tif\"))\n",
        "show2D(flat1)"
      ]
    },
    {
      "cell_type": "markdown",
      "metadata": {
        "id": "fDGc3nLDmC2N"
      },
      "source": [
        "We also load and display a dark field (image taken before projections and flat with source off, and sample out, to capture any background counts):"
      ]
    },
    {
      "cell_type": "code",
      "execution_count": null,
      "metadata": {
        "id": "dcPTqF-emC2N"
      },
      "outputs": [],
      "source": [
        "dark1 = plt.imread(os.path.join(datapath,\"proj\",\"BBii_0002.tif\"))\n",
        "show2D(dark1)"
      ]
    },
    {
      "cell_type": "markdown",
      "metadata": {
        "id": "Ive_q51tmC2N"
      },
      "source": [
        "Projections have 2160 rows and 2560 columns as seen by:"
      ]
    },
    {
      "cell_type": "code",
      "execution_count": null,
      "metadata": {
        "id": "qoWpH81UmC2N"
      },
      "outputs": [],
      "source": [
        "proj1.shape"
      ]
    },
    {
      "cell_type": "markdown",
      "metadata": {
        "id": "chLxBqe1mC2N"
      },
      "source": [
        "For convenience sinograms for four selected slices have been extracted from the full 1500 projections and are provided as mat-files. We choose one and load it:"
      ]
    },
    {
      "cell_type": "markdown",
      "metadata": {
        "id": "d963HGMamC2N"
      },
      "source": [
        "Load demo data set and display the first raw projection"
      ]
    },
    {
      "cell_type": "code",
      "execution_count": null,
      "metadata": {
        "id": "O6edCbr9mC2N"
      },
      "outputs": [],
      "source": [
        "filename = \"slice_0270_data.mat\"\n",
        "all_data = scipy.io.loadmat(os.path.join(datapath,filename))"
      ]
    },
    {
      "cell_type": "markdown",
      "metadata": {
        "id": "fqdvr-pKmC2O"
      },
      "source": [
        "The data contains projections, flats and darks for the selected slice. There are 1500 projections of size 2560 pixels:"
      ]
    },
    {
      "cell_type": "code",
      "execution_count": null,
      "metadata": {
        "id": "Gu1jt-wmmC2O"
      },
      "outputs": [],
      "source": [
        "projs = all_data['X_proj'].astype(np.float32)\n",
        "projs.shape"
      ]
    },
    {
      "cell_type": "markdown",
      "metadata": {
        "id": "UIFDGIQ6mC2O"
      },
      "source": [
        "There are 200 flats (100 taken before, and 100 taken after the projections):"
      ]
    },
    {
      "cell_type": "code",
      "execution_count": null,
      "metadata": {
        "id": "RQdFNj-FmC2O"
      },
      "outputs": [],
      "source": [
        "flats = all_data['X_flat'].astype(np.float32)\n",
        "flats.shape"
      ]
    },
    {
      "cell_type": "markdown",
      "metadata": {
        "id": "yyTMVbz-mC2O"
      },
      "source": [
        "There are 30 darks taken at the beginning of the experiment:"
      ]
    },
    {
      "cell_type": "code",
      "execution_count": null,
      "metadata": {
        "id": "vN0XaUIFmC2O"
      },
      "outputs": [],
      "source": [
        "darks = all_data['X_dark'].astype(np.float32)\n",
        "darks.shape"
      ]
    },
    {
      "cell_type": "markdown",
      "metadata": {
        "id": "kN0JxOMXmC2P"
      },
      "source": [
        "The data provided also contains the reconstruction produced at the synchrotron where the data was acquired. We load and display it to see what kind of image we aim to reconstruct:"
      ]
    },
    {
      "cell_type": "code",
      "execution_count": null,
      "metadata": {
        "id": "QKHUEiI_mC2P"
      },
      "outputs": [],
      "source": [
        "vendor_recon = plt.imread(os.path.join(datapath,\"recon\",\"BBii_0270.rec.16bit.tif\"))\n",
        "show2D(np.rot90(vendor_recon))"
      ]
    },
    {
      "cell_type": "markdown",
      "metadata": {
        "id": "PBTruj_3mC2P"
      },
      "source": [
        "OK, we have now taken a look at the data and are ready to start producing our own reconstruction. We need to go through a number of steps to get there.\n",
        "\n",
        "As a first step toward reconstructing the data, we specify the CIL `AcquisitionGeometry` for a 2D parallel-beam geometry with 1500 projections over 0 to 180 degrees each consisting of 2560 detector pixels."
      ]
    },
    {
      "cell_type": "code",
      "execution_count": null,
      "metadata": {
        "id": "YzYtRx3TmC2P"
      },
      "outputs": [],
      "source": [
        "ag = AcquisitionGeometry.create_Parallel2D()  \\\n",
        "         .set_panel(num_pixels=(2560))        \\\n",
        "         .set_angles(angles=np.linspace(0,180,1500,endpoint=False))"
      ]
    },
    {
      "cell_type": "markdown",
      "metadata": {
        "id": "SPK-Cd-5mC2P"
      },
      "source": [
        "We can illustrate the geometry specified:"
      ]
    },
    {
      "cell_type": "code",
      "execution_count": null,
      "metadata": {
        "id": "fPviHXXvmC2P"
      },
      "outputs": [],
      "source": [
        "show_geometry(ag)"
      ]
    },
    {
      "cell_type": "markdown",
      "metadata": {
        "id": "SnxRQGeumC2Q"
      },
      "source": [
        "To create the CIL data structure `AcquisitionData` holding the data we check again the size of the projections"
      ]
    },
    {
      "cell_type": "code",
      "execution_count": null,
      "metadata": {
        "id": "Wx_oP1d-mC2Q"
      },
      "outputs": [],
      "source": [
        "projs.shape"
      ]
    },
    {
      "cell_type": "markdown",
      "metadata": {
        "id": "l7DtUrjDmC2Q"
      },
      "source": [
        "so along the first dimension are the horizontal detector pixels and along the second the projections/angles. We then tell CIL which axes are which:"
      ]
    },
    {
      "cell_type": "code",
      "execution_count": null,
      "metadata": {
        "id": "qzZuiecTmC2Q"
      },
      "outputs": [],
      "source": [
        "ag.set_labels(['horizontal','angle'])\n",
        "print(ag.dimension_labels)"
      ]
    },
    {
      "cell_type": "markdown",
      "metadata": {
        "id": "-5zNECzomC2Q"
      },
      "source": [
        "Now we create an `AcquisitionData` holding the projections and the geometry. We link the `projs` numpy array to the `AcquisitionData` without creating an additional copy."
      ]
    },
    {
      "cell_type": "code",
      "execution_count": null,
      "metadata": {
        "id": "5bNhppyXmC2R"
      },
      "outputs": [],
      "source": [
        "data = AcquisitionData(projs, geometry=ag, deep_copy=False)"
      ]
    },
    {
      "cell_type": "markdown",
      "metadata": {
        "id": "w7r5ZAK0mC2R"
      },
      "source": [
        "We can take a look with the CIL `show2D` display function:"
      ]
    },
    {
      "cell_type": "code",
      "execution_count": null,
      "metadata": {
        "id": "lrOWL2NNmC2R"
      },
      "outputs": [],
      "source": [
        "show2D(data)"
      ]
    },
    {
      "cell_type": "markdown",
      "metadata": {
        "id": "VvPIae8nmC2W"
      },
      "source": [
        "Let us try reconstructing straight from the raw projections. First we need to make sure the data matches the order expected by the ASTRA-Toolbox plugin. We use `reorder('astra')` to check and reorder the data if required."
      ]
    },
    {
      "cell_type": "code",
      "execution_count": null,
      "metadata": {
        "id": "m_MblhfcmC2W"
      },
      "outputs": [],
      "source": [
        "data.reorder('astra')"
      ]
    },
    {
      "cell_type": "markdown",
      "metadata": {
        "id": "R04YIHrDmC2W"
      },
      "source": [
        "Now we must specify the `ImageGeometry` we want for the reconstruction grid, here we choose the default which can be generated from the `AcquisitionGeometry`:"
      ]
    },
    {
      "cell_type": "code",
      "execution_count": null,
      "metadata": {
        "id": "QqccYL6DmC2W"
      },
      "outputs": [],
      "source": [
        "ig = ag.get_ImageGeometry()"
      ]
    },
    {
      "cell_type": "markdown",
      "metadata": {
        "id": "O7AA25GMmC2W"
      },
      "source": [
        "We set up and run the FBP reconstructor with our dataset and specify the backend to use:"
      ]
    },
    {
      "cell_type": "code",
      "execution_count": null,
      "metadata": {
        "id": "K6jJoQSSmC2W"
      },
      "outputs": [],
      "source": [
        "rec1 = FBP(data, ig, backend='astra').run()"
      ]
    },
    {
      "cell_type": "code",
      "execution_count": null,
      "metadata": {
        "id": "CfcW4PSqmC2X"
      },
      "outputs": [],
      "source": [
        "show2D(rec1)"
      ]
    },
    {
      "cell_type": "markdown",
      "metadata": {
        "id": "-fns79lsmC2X"
      },
      "source": [
        "On close inspection we see some of the right features but distorted and wrong colours. The first thing we are missing is to normalise the data, i.e., apply flat and dark field correction. This is achieved by the CIL `Normaliser` processor and we simply use the mean over the flat and dark images respectively:"
      ]
    },
    {
      "cell_type": "code",
      "execution_count": null,
      "metadata": {
        "id": "OXqzmpZumC2X"
      },
      "outputs": [],
      "source": [
        "data2 = Normaliser(flat_field=flats.mean(axis=1),\n",
        "                   dark_field=darks.mean(axis=1)\n",
        "                  )(data)"
      ]
    },
    {
      "cell_type": "code",
      "execution_count": null,
      "metadata": {
        "id": "ggkimBbPmC2X"
      },
      "outputs": [],
      "source": [
        "show2D(data2)"
      ]
    },
    {
      "cell_type": "markdown",
      "metadata": {
        "id": "WNllUfgGmC2X"
      },
      "source": [
        "Compared to the previous sinogram of the raw projections, we see on the colourbar that the range is now within 0 to 1 as is what we need. We try reconstructing again:"
      ]
    },
    {
      "cell_type": "code",
      "execution_count": null,
      "metadata": {
        "id": "eQoVXr19mC2X"
      },
      "outputs": [],
      "source": [
        "rec2 = FBP(data2, ig, backend='astra').run()"
      ]
    },
    {
      "cell_type": "code",
      "execution_count": null,
      "metadata": {
        "id": "vL8OqWa0mC2Y"
      },
      "outputs": [],
      "source": [
        "show2D(rec2)"
      ]
    },
    {
      "cell_type": "markdown",
      "metadata": {
        "id": "yeUKoZ1vmC2Y"
      },
      "source": [
        "It looks that same, only has the range change as seen on the colourbar. We realise that we need to apply the negative logarithm according to the Lambert-Beer law, which can be done manually or using a CIL `Processor`, which will prevent outliers and zeros from causing trouble:"
      ]
    },
    {
      "cell_type": "code",
      "execution_count": null,
      "metadata": {
        "id": "UaKsKWgymC2Y"
      },
      "outputs": [],
      "source": [
        "data3 = TransmissionAbsorptionConverter()(data2)"
      ]
    },
    {
      "cell_type": "code",
      "execution_count": null,
      "metadata": {
        "id": "TXU9R32UmC2Y"
      },
      "outputs": [],
      "source": [
        "show2D(data3)"
      ]
    },
    {
      "cell_type": "markdown",
      "metadata": {
        "id": "5HnlPeWamC2Z"
      },
      "source": [
        "We see the data has been transformed so the big sine band shows up white instead of dark as before. We attempt reconstructing:"
      ]
    },
    {
      "cell_type": "code",
      "execution_count": null,
      "metadata": {
        "id": "gQ8dQqA2mC2Z"
      },
      "outputs": [],
      "source": [
        "rec3 = FBP(data3, ig, backend='astra').run()"
      ]
    },
    {
      "cell_type": "code",
      "execution_count": null,
      "metadata": {
        "id": "ATZgaVWnmC2Z"
      },
      "outputs": [],
      "source": [
        "show2D(rec3)"
      ]
    },
    {
      "cell_type": "markdown",
      "metadata": {
        "id": "PbwHGNpGmC2Z"
      },
      "source": [
        "The colours have flipped now, so it is a step forward, but there is a big white ring. This is because the data is region-of-interest, i.e., the sample was larger than the field of view, so projections are truncated (i.e. do not have air on both sides as also seen in the sinograms). A simple way to compensate for this is to extend or pad the data on both sides of the projections. Using the CIL `Padder` processor we can for example pad by the left and rightmost pixel values, and we can play with the amount of padding required to push the ring out of the reconstruction. A `padsize` of about 600 is required:"
      ]
    },
    {
      "cell_type": "code",
      "execution_count": null,
      "metadata": {
        "id": "g5ONYQmfmC2Z"
      },
      "outputs": [],
      "source": [
        "padsize = 600\n",
        "data4 = Padder.edge(pad_width={'horizontal': padsize})(data3)"
      ]
    },
    {
      "cell_type": "code",
      "execution_count": null,
      "metadata": {
        "id": "p3uAKmYtmC2Z"
      },
      "outputs": [],
      "source": [
        "show2D(data4)"
      ]
    },
    {
      "cell_type": "markdown",
      "metadata": {
        "id": "J_yAtWnKmC2a"
      },
      "source": [
        "We see the data has been extended left and right. In effect the sinogram is now larger, so we need to create a new FBP reconstructor configured for the new padded data. We keep the reconstruction volume (defined by our image geometry) the same as before as we are not interested in the extended region."
      ]
    },
    {
      "cell_type": "code",
      "execution_count": null,
      "metadata": {
        "id": "8uCo1eD2mC2a"
      },
      "outputs": [],
      "source": [
        "rec4 = FBP(data4, ig, backend='astra').run()"
      ]
    },
    {
      "cell_type": "code",
      "execution_count": null,
      "metadata": {
        "id": "9wsd2I1HmC2a"
      },
      "outputs": [],
      "source": [
        "show2D(rec4)"
      ]
    },
    {
      "cell_type": "markdown",
      "metadata": {
        "id": "uGf1OyJ_mC2a"
      },
      "source": [
        "With `padsize=600` we see the region-of-interest ring has been successfully moved out and the sample features are more clearly seen. However there are still artifacts in the form of U-shaped stripes. These are centre-of-rotation artifacts caused by the sample not being perfectly centered during scanning. The log file of the dataset provides the centre value that was determined at the synchrotron. Here we use a CIL `Processor` to determine the offset and update the geometry. It works by doing FBP reconstructions for a range of offset parameters, evaluates a quality metric based on image sharpness and searches for the best offset. This technique is designed for use when you have 360 degrees of data, but can be applied to 180 degrees but will be very sample dependent."
      ]
    },
    {
      "cell_type": "code",
      "execution_count": null,
      "metadata": {
        "id": "WHwklx5SmC2a"
      },
      "outputs": [],
      "source": [
        "data5 = CentreOfRotationCorrector.image_sharpness(backend='astra', search_range=100, tolerance=0.1)(data4)"
      ]
    },
    {
      "cell_type": "markdown",
      "metadata": {
        "id": "lNSPfLW0mC2a"
      },
      "source": [
        "We can compute the centre of rotation from a CIL geometry. The argument `distance_units` allows you to define the units of the returned value. Here we specify pixels."
      ]
    },
    {
      "cell_type": "code",
      "execution_count": null,
      "metadata": {
        "tags": [],
        "id": "IqeRe4UcmC2b"
      },
      "outputs": [],
      "source": [
        "data5.geometry.get_centre_of_rotation(distance_units='pixels')"
      ]
    },
    {
      "cell_type": "code",
      "execution_count": null,
      "metadata": {
        "id": "JixSFjcQmC2b"
      },
      "outputs": [],
      "source": [
        "rec5 = FBP(data5, ig, backend='astra').run()"
      ]
    },
    {
      "cell_type": "code",
      "execution_count": null,
      "metadata": {
        "id": "_A5JuNQTmC2b"
      },
      "outputs": [],
      "source": [
        "show2D(rec5)"
      ]
    },
    {
      "cell_type": "markdown",
      "metadata": {
        "id": "qBXvL6uZmC2b"
      },
      "source": [
        "This reproduces the result from the synchrotron quite well, we show it again here for comparison:"
      ]
    },
    {
      "cell_type": "code",
      "execution_count": null,
      "metadata": {
        "id": "1aBaS6BpmC2b"
      },
      "outputs": [],
      "source": [
        "show2D(np.rot90(vendor_recon))"
      ]
    },
    {
      "cell_type": "markdown",
      "metadata": {
        "id": "GSjs-LkZmC2b"
      },
      "source": [
        "Should the centre of rotation correction method fail, one can manually specify a rotation axis offset and carry out reconstruction in the following way. In this way, one may experiment with different offsets and manually search for a suitable value by visual inspection of the resulting reconstructions as function of the offset.\n",
        "\n",
        "**Try to find the correct axis offset within the range -100 to 100 pixels.**"
      ]
    },
    {
      "cell_type": "markdown",
      "metadata": {
        "id": "X-S8iiEimC2b"
      },
      "source": [
        "Make a copy of the dataset first:"
      ]
    },
    {
      "cell_type": "code",
      "execution_count": null,
      "metadata": {
        "tags": [],
        "id": "_daPgEKxmC2c"
      },
      "outputs": [],
      "source": [
        "data_cor_manual = data4.copy()"
      ]
    },
    {
      "cell_type": "markdown",
      "metadata": {
        "id": "rlZJBsgkmC2c"
      },
      "source": [
        "Then update the geometry with different centre of rotation offsets:"
      ]
    },
    {
      "cell_type": "code",
      "execution_count": null,
      "metadata": {
        "tags": [],
        "id": "p0iljFgkmC2c"
      },
      "outputs": [],
      "source": [
        "offset = 0\n",
        "data_cor_manual.geometry.set_centre_of_rotation(offset, distance_units='pixels')"
      ]
    },
    {
      "cell_type": "markdown",
      "metadata": {
        "id": "IWlqF96mmC2c"
      },
      "source": [
        "Compute FBP reconstruction and display assessing the output by eye:"
      ]
    },
    {
      "cell_type": "code",
      "execution_count": null,
      "metadata": {
        "id": "Emgdnug5mC2c"
      },
      "outputs": [],
      "source": [
        "rec_cor_manual = FBP(data_cor_manual, ig, backend='astra').run()\n",
        "\n",
        "show2D(rec_cor_manual)"
      ]
    }
  ],
  "metadata": {
    "kernelspec": {
      "display_name": "cil_phase_demo",
      "language": "python",
      "name": "python3"
    },
    "language_info": {
      "codemirror_mode": {
        "name": "ipython",
        "version": 3
      },
      "file_extension": ".py",
      "mimetype": "text/x-python",
      "name": "python",
      "nbconvert_exporter": "python",
      "pygments_lexer": "ipython3",
      "version": "3.12.7"
    },
    "colab": {
      "provenance": []
    }
  },
  "nbformat": 4,
  "nbformat_minor": 0
}