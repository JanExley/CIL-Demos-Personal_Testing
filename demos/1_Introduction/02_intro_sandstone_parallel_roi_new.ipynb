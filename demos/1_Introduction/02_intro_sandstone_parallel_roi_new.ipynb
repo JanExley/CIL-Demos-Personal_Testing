{
  "cells": [
    {
      "cell_type": "code",
      "source": [
        "!pip install -q condacolab\n",
        "import condacolab\n",
        "condacolab.install()\n",
        "!conda install -c conda-forge -c https://software.repos.intel.com/python/conda -c ccpi cil=25.0.0 astra-toolbox ccpi-regulariser tomophantom \"ipywidgets<8\" --quiet"
      ],
      "metadata": {
        "colab": {
          "base_uri": "https://localhost:8080/"
        },
        "id": "lpi63yXimDse",
        "outputId": "16f60bb8-6a79-414d-8e46-372759779e5b"
      },
      "execution_count": 7,
      "outputs": [
        {
          "metadata": {
            "tags": null
          },
          "name": "stdout",
          "output_type": "stream",
          "text": [
            "✨🍰✨ Everything looks OK!\n",
            "Channels:\n",
            " - conda-forge\n",
            " - https://software.repos.intel.com/python/conda\n",
            " - ccpi\n",
            "Platform: linux-64\n",
            "Collecting package metadata (repodata.json): ...working... done\n",
            "Solving environment: ...working... done\n",
            "\n",
            "## Package Plan ##\n",
            "\n",
            "  environment location: /usr/local\n",
            "\n",
            "  added / updated specs:\n",
            "    - astra-toolbox\n",
            "    - ccpi-regulariser\n",
            "    - cil=25.0.0\n",
            "    - ipywidgets[version='<8']\n",
            "    - tomophantom\n",
            "\n",
            "\n",
            "The following packages will be downloaded:\n",
            "\n",
            "    package                    |            build\n",
            "    ---------------------------|-----------------\n",
            "    _openmp_mutex-4.5          |       5_kmp_llvm           8 KB  conda-forge\n",
            "    anyio-4.11.0               |     pyhcf101f3_0         135 KB  conda-forge\n",
            "    aom-3.9.1                  |       hac33072_0         2.6 MB  conda-forge\n",
            "    argon2-cffi-25.1.0         |     pyhd8ed1ab_0          18 KB  conda-forge\n",
            "    argon2-cffi-bindings-25.1.0|  py311h49ec1c0_1          35 KB  conda-forge\n",
            "    arrow-1.4.0                |     pyhcf101f3_0         111 KB  conda-forge\n",
            "    astra-toolbox-2.3.1        |  py311h6d2504e_0         406 KB  conda-forge\n",
            "    asttokens-3.0.0            |     pyhd8ed1ab_1          28 KB  conda-forge\n",
            "    async-lru-2.0.5            |     pyh29332c3_0          17 KB  conda-forge\n",
            "    attrs-25.4.0               |     pyh71513ae_0          59 KB  conda-forge\n",
            "    babel-2.17.0               |     pyhd8ed1ab_0         6.6 MB  conda-forge\n",
            "    beautifulsoup4-4.14.2      |     pyha770c72_0          87 KB  conda-forge\n",
            "    bleach-6.2.0               |     pyh29332c3_4         138 KB  conda-forge\n",
            "    bleach-with-css-6.2.0      |       h82add2a_4           4 KB  conda-forge\n",
            "    blosc-1.21.6               |       he440d0b_1          47 KB  conda-forge\n",
            "    brunsli-0.1                |       he3183e4_1         165 KB  conda-forge\n",
            "    c-blosc2-2.15.2            |       h3122c55_1         334 KB  conda-forge\n",
            "    ca-certificates-2025.10.5  |       hbd8a1cb_0         152 KB  conda-forge\n",
            "    cached-property-1.5.2      |       hd8ed1ab_1           4 KB  conda-forge\n",
            "    cached_property-1.5.2      |     pyha770c72_1          11 KB  conda-forge\n",
            "    ccpi-regulariser-25.0.0    |cpu_py311hdfdb54b_3         295 KB  ccpi\n",
            "    certifi-2025.10.5          |     pyhd8ed1ab_0         156 KB  conda-forge\n",
            "    cftime-1.6.4               |  py311h0372a8f_2         233 KB  conda-forge\n",
            "    charls-2.4.2               |       h59595ed_0         147 KB  conda-forge\n",
            "    cil-25.0.0                 |  py311h2bc3f7f_0        1010 KB  ccpi\n",
            "    cil-data-22.0.0            |                0        23.3 MB  ccpi\n",
            "    comm-0.2.3                 |     pyhe01879c_0          14 KB  conda-forge\n",
            "    conda-24.11.3              |  py311h38be061_0         1.1 MB  conda-forge\n",
            "    dav1d-1.2.1                |       hd590300_0         742 KB  conda-forge\n",
            "    debugpy-1.8.17             |  py311hc665b79_0         2.6 MB  conda-forge\n",
            "    decorator-5.2.1            |     pyhd8ed1ab_0          14 KB  conda-forge\n",
            "    defusedxml-0.7.1           |     pyhd8ed1ab_0          23 KB  conda-forge\n",
            "    dxchange-0.1.8             |     pyhd8ed1ab_0          26 KB  conda-forge\n",
            "    dxfile-0.5                 |             py_1          10 KB  conda-forge\n",
            "    edffile-5.9.4              |     pyhd8ed1ab_0          18 KB  conda-forge\n",
            "    exceptiongroup-1.3.0       |     pyhd8ed1ab_0          21 KB  conda-forge\n",
            "    executing-2.2.1            |     pyhd8ed1ab_0          30 KB  conda-forge\n",
            "    fqdn-1.5.1                 |     pyhd8ed1ab_1          16 KB  conda-forge\n",
            "    giflib-5.2.2               |       hd590300_0          75 KB  conda-forge\n",
            "    h11-0.16.0                 |     pyhd8ed1ab_0          37 KB  conda-forge\n",
            "    h5py-3.13.0                |nompi_py311hb639ac4_100         1.3 MB  conda-forge\n",
            "    hdf4-4.2.15                |       h2a13503_7         739 KB  conda-forge\n",
            "    hdf5-1.14.3                |nompi_h2d575fe_109         3.7 MB  conda-forge\n",
            "    httpcore-1.0.9             |     pyh29332c3_0          48 KB  conda-forge\n",
            "    httpx-0.28.1               |     pyhd8ed1ab_0          62 KB  conda-forge\n",
            "    imagecodecs-2024.12.30     |  py311h9971d45_0         2.0 MB  conda-forge\n",
            "    importlib-metadata-8.7.0   |     pyhe01879c_1          34 KB  conda-forge\n",
            "    ipp-2021.12.1              |         intel_14       131.1 MB  https://software.repos.intel.com/python/conda\n",
            "    ipykernel-7.1.0            |     pyha191276_0         131 KB  conda-forge\n",
            "    ipython-9.6.0              |     pyhfa0c392_0         624 KB  conda-forge\n",
            "    ipython_genutils-0.2.0     |     pyhd8ed1ab_2          27 KB  conda-forge\n",
            "    ipython_pygments_lexers-1.1.1|     pyhd8ed1ab_0          14 KB  conda-forge\n",
            "    ipywidgets-7.8.5           |     pyhd8ed1ab_0         102 KB  conda-forge\n",
            "    isoduration-20.11.0        |     pyhd8ed1ab_1          19 KB  conda-forge\n",
            "    jedi-0.19.2                |     pyhd8ed1ab_1         824 KB  conda-forge\n",
            "    jinja2-3.1.6               |     pyhd8ed1ab_0         110 KB  conda-forge\n",
            "    json5-0.12.1               |     pyhd8ed1ab_0          33 KB  conda-forge\n",
            "    jsonschema-4.25.1          |     pyhe01879c_0          80 KB  conda-forge\n",
            "    jsonschema-specifications-2025.9.1|     pyhcf101f3_0          19 KB  conda-forge\n",
            "    jsonschema-with-format-nongpl-4.25.1|       he01879c_0           5 KB  conda-forge\n",
            "    jupyter-lsp-2.3.0          |     pyhcf101f3_0          59 KB  conda-forge\n",
            "    jupyter_client-8.6.3       |     pyhd8ed1ab_1         104 KB  conda-forge\n",
            "    jupyter_core-5.9.1         |     pyhc90fa1f_0          64 KB  conda-forge\n",
            "    jupyter_events-0.12.0      |     pyh29332c3_0          23 KB  conda-forge\n",
            "    jupyter_server-2.17.0      |     pyhcf101f3_0         339 KB  conda-forge\n",
            "    jupyter_server_terminals-0.5.3|     pyhd8ed1ab_1          19 KB  conda-forge\n",
            "    jupyterlab-4.4.10          |     pyhd8ed1ab_0         7.7 MB  conda-forge\n",
            "    jupyterlab_pygments-0.3.0  |     pyhd8ed1ab_2          18 KB  conda-forge\n",
            "    jupyterlab_server-2.28.0   |     pyhcf101f3_0          50 KB  conda-forge\n",
            "    jupyterlab_widgets-1.1.11  |     pyhd8ed1ab_0         111 KB  conda-forge\n",
            "    jxrlib-1.1                 |       hd590300_3         234 KB  conda-forge\n",
            "    lark-1.3.1                 |     pyhd8ed1ab_0          92 KB  conda-forge\n",
            "    lcms2-2.17                 |       h717163a_0         242 KB  conda-forge\n",
            "    lerc-4.0.0                 |       h0aef613_1         258 KB  conda-forge\n",
            "    libaec-1.1.4               |       h3f801dc_0          36 KB  conda-forge\n",
            "    libastra-2.3.1             |       hd22cb3e_1         663 KB  conda-forge\n",
            "    libavif16-1.3.0            |       h6395336_2         136 KB  conda-forge\n",
            "    libblas-3.9.0              |37_h4a7cf45_openblas          17 KB  conda-forge\n",
            "    libbrotlicommon-1.1.0      |       hb9d3cd8_2          67 KB  conda-forge\n",
            "    libbrotlidec-1.1.0         |       hb9d3cd8_2          32 KB  conda-forge\n",
            "    libbrotlienc-1.1.0         |       hb9d3cd8_2         275 KB  conda-forge\n",
            "    libcblas-3.9.0             |37_h0358290_openblas          17 KB  conda-forge\n",
            "    libdeflate-1.23            |       h86f0d12_0          71 KB  conda-forge\n",
            "    libfreetype-2.14.1         |       ha770c72_0           7 KB  conda-forge\n",
            "    libfreetype6-2.14.1        |       h73754d4_0         378 KB  conda-forge\n",
            "    libgcc-15.2.0              |       h767d61c_7         803 KB  conda-forge\n",
            "    libgcc-ng-15.2.0           |       h69a702a_7          29 KB  conda-forge\n",
            "    libgfortran-15.2.0         |       h69a702a_7          29 KB  conda-forge\n",
            "    libgfortran5-15.2.0        |       hcd61629_7         1.5 MB  conda-forge\n",
            "    libgomp-15.2.0             |       h767d61c_7         437 KB  conda-forge\n",
            "    libhwy-1.3.0               |       h4c17acf_1         1.4 MB  conda-forge\n",
            "    libjpeg-turbo-3.1.0        |       hb9d3cd8_0         614 KB  conda-forge\n",
            "    libjxl-0.11.1              |       h6cb5226_4         1.7 MB  conda-forge\n",
            "    liblapack-3.9.0            |37_h47877c9_openblas          17 KB  conda-forge\n",
            "    libnetcdf-4.9.2            |nompi_h00e09a9_116         815 KB  conda-forge\n",
            "    libopenblas-0.3.30         |pthreads_h94d23a6_2         5.7 MB  conda-forge\n",
            "    libpng-1.6.50              |       h421ea60_1         310 KB  conda-forge\n",
            "    libsodium-1.0.20           |       h4ab18f5_0         201 KB  conda-forge\n",
            "    libstdcxx-15.2.0           |       h8f9b012_7         3.7 MB  conda-forge\n",
            "    libstdcxx-ng-15.2.0        |       h4852527_7          29 KB  conda-forge\n",
            "    libtiff-4.7.0              |       hd9ff511_3         418 KB  conda-forge\n",
            "    libwebp-base-1.6.0         |       hd42ef1d_0         419 KB  conda-forge\n",
            "    libxcb-1.17.0              |       h8a09558_0         387 KB  conda-forge\n",
            "    libzip-1.11.2              |       h6991a6a_0         106 KB  conda-forge\n",
            "    libzopfli-1.0.3            |       h9c3ff4c_0         164 KB  conda-forge\n",
            "    llvm-openmp-21.1.4         |       h4922eb0_0         3.1 MB  conda-forge\n",
            "    llvmlite-0.45.0            |  py311h1741904_0        32.6 MB  conda-forge\n",
            "    markupsafe-3.0.3           |  py311h3778330_0          25 KB  conda-forge\n",
            "    matplotlib-inline-0.2.1    |     pyhd8ed1ab_0          15 KB  conda-forge\n",
            "    mistune-3.1.4              |     pyhcf101f3_0          71 KB  conda-forge\n",
            "    nbclient-0.10.2            |     pyhd8ed1ab_0          27 KB  conda-forge\n",
            "    nbconvert-core-7.16.6      |     pyhcf101f3_1         195 KB  conda-forge\n",
            "    nbformat-5.10.4            |     pyhd8ed1ab_1          99 KB  conda-forge\n",
            "    nest-asyncio-1.6.0         |     pyhd8ed1ab_1          11 KB  conda-forge\n",
            "    netcdf4-1.7.2              |nompi_py311hae66bec_101         1.1 MB  conda-forge\n",
            "    notebook-7.4.7             |     pyhd8ed1ab_0         9.9 MB  conda-forge\n",
            "    notebook-shim-0.2.4        |     pyhd8ed1ab_1          16 KB  conda-forge\n",
            "    numba-0.62.1               |  py311h6220fa4_0         5.6 MB  conda-forge\n",
            "    numpy-1.26.4               |  py311h64a7726_0         7.7 MB  conda-forge\n",
            "    olefile-0.47               |     pyhd8ed1ab_1          38 KB  conda-forge\n",
            "    openjpeg-2.5.3             |       h55fea9a_1         349 KB  conda-forge\n",
            "    openssl-3.5.4              |       h26f9b46_0         3.0 MB  conda-forge\n",
            "    overrides-7.7.0            |     pyhd8ed1ab_1          29 KB  conda-forge\n",
            "    pandas-2.3.3               |  py311hed34c8f_1        14.6 MB  conda-forge\n",
            "    pandocfilters-1.5.0        |     pyhd8ed1ab_0          11 KB  conda-forge\n",
            "    parso-0.8.5                |     pyhcf101f3_0          80 KB  conda-forge\n",
            "    pexpect-4.9.0              |     pyhd8ed1ab_1          52 KB  conda-forge\n",
            "    pickleshare-0.7.5          |  pyhd8ed1ab_1004          11 KB  conda-forge\n",
            "    pillow-11.3.0              |  py311h98278a2_3        1021 KB  conda-forge\n",
            "    prometheus_client-0.23.1   |     pyhd8ed1ab_0          53 KB  conda-forge\n",
            "    prompt-toolkit-3.0.52      |     pyha770c72_0         268 KB  conda-forge\n",
            "    psutil-7.1.1               |  py311h49ec1c0_0         475 KB  conda-forge\n",
            "    pthread-stubs-0.4          |    hb9d3cd8_1002           8 KB  conda-forge\n",
            "    ptyprocess-0.7.0           |     pyhd8ed1ab_1          19 KB  conda-forge\n",
            "    pure_eval-0.2.3            |     pyhd8ed1ab_1          16 KB  conda-forge\n",
            "    pygments-2.19.2            |     pyhd8ed1ab_0         868 KB  conda-forge\n",
            "    python-dateutil-2.9.0.post0|     pyhe01879c_2         228 KB  conda-forge\n",
            "    python-fastjsonschema-2.21.2|     pyhe01879c_0         239 KB  conda-forge\n",
            "    python-json-logger-2.0.7   |     pyhd8ed1ab_0          13 KB  conda-forge\n",
            "    python-tzdata-2025.2       |     pyhd8ed1ab_0         141 KB  conda-forge\n",
            "    pytz-2025.2                |     pyhd8ed1ab_0         185 KB  conda-forge\n",
            "    pywavelets-1.9.0           |  py311h0372a8f_1         3.6 MB  conda-forge\n",
            "    pyyaml-6.0.3               |  py311h3778330_0         207 KB  conda-forge\n",
            "    pyzmq-27.1.0               |  py311h2315fbb_0         378 KB  conda-forge\n",
            "    rav1e-0.7.1                |       h8fae777_3         4.9 MB  conda-forge\n",
            "    referencing-0.37.0         |     pyhcf101f3_0          51 KB  conda-forge\n",
            "    rfc3339-validator-0.1.4    |     pyhd8ed1ab_1          10 KB  conda-forge\n",
            "    rfc3986-validator-0.1.1    |     pyh9f0ad1d_0           8 KB  conda-forge\n",
            "    rfc3987-syntax-1.1.0       |     pyhe01879c_1          22 KB  conda-forge\n",
            "    rpds-py-0.28.0             |  py311h902ca64_1         371 KB  conda-forge\n",
            "    scipy-1.16.2               |  py311h1e13796_0        16.5 MB  conda-forge\n",
            "    send2trash-1.8.3           |     pyh0d859eb_1          22 KB  conda-forge\n",
            "    six-1.17.0                 |     pyhe01879c_1          18 KB  conda-forge\n",
            "    snappy-1.2.2               |       h03e3b7b_0          45 KB  conda-forge\n",
            "    sniffio-1.3.1              |     pyhd8ed1ab_1          15 KB  conda-forge\n",
            "    soupsieve-2.8              |     pyhd8ed1ab_0          37 KB  conda-forge\n",
            "    spefile-1.6.1              |     pyhd8ed1ab_1          34 KB  conda-forge\n",
            "    stack_data-0.6.3           |     pyhd8ed1ab_1          26 KB  conda-forge\n",
            "    svt-av1-3.1.2              |       hecca717_0         2.6 MB  conda-forge\n",
            "    terminado-0.18.1           |     pyh0d859eb_0          22 KB  conda-forge\n",
            "    tifffile-2025.10.16        |     pyhd8ed1ab_0         178 KB  conda-forge\n",
            "    tinycss2-1.4.0             |     pyhd8ed1ab_0          28 KB  conda-forge\n",
            "    tomli-2.3.0                |     pyhcf101f3_0          20 KB  conda-forge\n",
            "    tomophantom-2.0.0          |     np126py311_0         211 KB  ccpi\n",
            "    tornado-6.5.2              |  py311h49ec1c0_1         848 KB  conda-forge\n",
            "    traitlets-5.14.3           |     pyhd8ed1ab_1         107 KB  conda-forge\n",
            "    typing-extensions-4.15.0   |       h396c80c_0          89 KB  conda-forge\n",
            "    typing_extensions-4.15.0   |     pyhcf101f3_0          50 KB  conda-forge\n",
            "    typing_utils-0.1.0         |     pyhd8ed1ab_1          15 KB  conda-forge\n",
            "    uri-template-1.3.0         |     pyhd8ed1ab_1          23 KB  conda-forge\n",
            "    wcwidth-0.2.14             |     pyhd8ed1ab_0          33 KB  conda-forge\n",
            "    webcolors-24.11.1          |     pyhd8ed1ab_0          18 KB  conda-forge\n",
            "    webencodings-0.5.1         |     pyhd8ed1ab_3          15 KB  conda-forge\n",
            "    websocket-client-1.9.0     |     pyhd8ed1ab_0          60 KB  conda-forge\n",
            "    widgetsnbextension-3.6.10  |     pyhd8ed1ab_0         619 KB  conda-forge\n",
            "    xorg-libxau-1.0.12         |       hb9d3cd8_0          14 KB  conda-forge\n",
            "    xorg-libxdmcp-1.1.5        |       hb9d3cd8_0          19 KB  conda-forge\n",
            "    yaml-0.2.5                 |       h280c20c_3          83 KB  conda-forge\n",
            "    zeromq-4.3.5               |       h387f397_9         303 KB  conda-forge\n",
            "    zfp-1.0.1                  |       h909a3a2_3         271 KB  conda-forge\n",
            "    zipp-3.23.0                |     pyhd8ed1ab_0          22 KB  conda-forge\n",
            "    zlib-1.3.1                 |       hb9d3cd8_2          90 KB  conda-forge\n",
            "    zlib-ng-2.2.5              |       hde8ca8f_0         108 KB  conda-forge\n",
            "    ------------------------------------------------------------\n",
            "                                           Total:       325.2 MB\n",
            "\n",
            "The following NEW packages will be INSTALLED:\n",
            "\n",
            "  anyio              conda-forge/noarch::anyio-4.11.0-pyhcf101f3_0 \n",
            "  aom                conda-forge/linux-64::aom-3.9.1-hac33072_0 \n",
            "  argon2-cffi        conda-forge/noarch::argon2-cffi-25.1.0-pyhd8ed1ab_0 \n",
            "  argon2-cffi-bindi~ conda-forge/linux-64::argon2-cffi-bindings-25.1.0-py311h49ec1c0_1 \n",
            "  arrow              conda-forge/noarch::arrow-1.4.0-pyhcf101f3_0 \n",
            "  astra-toolbox      conda-forge/linux-64::astra-toolbox-2.3.1-py311h6d2504e_0 \n",
            "  asttokens          conda-forge/noarch::asttokens-3.0.0-pyhd8ed1ab_1 \n",
            "  async-lru          conda-forge/noarch::async-lru-2.0.5-pyh29332c3_0 \n",
            "  attrs              conda-forge/noarch::attrs-25.4.0-pyh71513ae_0 \n",
            "  babel              conda-forge/noarch::babel-2.17.0-pyhd8ed1ab_0 \n",
            "  beautifulsoup4     conda-forge/noarch::beautifulsoup4-4.14.2-pyha770c72_0 \n",
            "  bleach             conda-forge/noarch::bleach-6.2.0-pyh29332c3_4 \n",
            "  bleach-with-css    conda-forge/noarch::bleach-with-css-6.2.0-h82add2a_4 \n",
            "  blosc              conda-forge/linux-64::blosc-1.21.6-he440d0b_1 \n",
            "  brunsli            conda-forge/linux-64::brunsli-0.1-he3183e4_1 \n",
            "  c-blosc2           conda-forge/linux-64::c-blosc2-2.15.2-h3122c55_1 \n",
            "  cached-property    conda-forge/noarch::cached-property-1.5.2-hd8ed1ab_1 \n",
            "  cached_property    conda-forge/noarch::cached_property-1.5.2-pyha770c72_1 \n",
            "  ccpi-regulariser   ccpi/linux-64::ccpi-regulariser-25.0.0-cpu_py311hdfdb54b_3 \n",
            "  cftime             conda-forge/linux-64::cftime-1.6.4-py311h0372a8f_2 \n",
            "  charls             conda-forge/linux-64::charls-2.4.2-h59595ed_0 \n",
            "  cil                ccpi/linux-64::cil-25.0.0-py311h2bc3f7f_0 \n",
            "  cil-data           ccpi/noarch::cil-data-22.0.0-0 \n",
            "  comm               conda-forge/noarch::comm-0.2.3-pyhe01879c_0 \n",
            "  dav1d              conda-forge/linux-64::dav1d-1.2.1-hd590300_0 \n",
            "  debugpy            conda-forge/linux-64::debugpy-1.8.17-py311hc665b79_0 \n",
            "  decorator          conda-forge/noarch::decorator-5.2.1-pyhd8ed1ab_0 \n",
            "  defusedxml         conda-forge/noarch::defusedxml-0.7.1-pyhd8ed1ab_0 \n",
            "  dxchange           conda-forge/noarch::dxchange-0.1.8-pyhd8ed1ab_0 \n",
            "  dxfile             conda-forge/noarch::dxfile-0.5-py_1 \n",
            "  edffile            conda-forge/noarch::edffile-5.9.4-pyhd8ed1ab_0 \n",
            "  exceptiongroup     conda-forge/noarch::exceptiongroup-1.3.0-pyhd8ed1ab_0 \n",
            "  executing          conda-forge/noarch::executing-2.2.1-pyhd8ed1ab_0 \n",
            "  fqdn               conda-forge/noarch::fqdn-1.5.1-pyhd8ed1ab_1 \n",
            "  giflib             conda-forge/linux-64::giflib-5.2.2-hd590300_0 \n",
            "  h11                conda-forge/noarch::h11-0.16.0-pyhd8ed1ab_0 \n",
            "  h5py               conda-forge/linux-64::h5py-3.13.0-nompi_py311hb639ac4_100 \n",
            "  hdf4               conda-forge/linux-64::hdf4-4.2.15-h2a13503_7 \n",
            "  hdf5               conda-forge/linux-64::hdf5-1.14.3-nompi_h2d575fe_109 \n",
            "  httpcore           conda-forge/noarch::httpcore-1.0.9-pyh29332c3_0 \n",
            "  httpx              conda-forge/noarch::httpx-0.28.1-pyhd8ed1ab_0 \n",
            "  imagecodecs        conda-forge/linux-64::imagecodecs-2024.12.30-py311h9971d45_0 \n",
            "  importlib-metadata conda-forge/noarch::importlib-metadata-8.7.0-pyhe01879c_1 \n",
            "  ipp                python/conda/linux-64::ipp-2021.12.1-intel_14 \n",
            "  ipykernel          conda-forge/noarch::ipykernel-7.1.0-pyha191276_0 \n",
            "  ipython            conda-forge/noarch::ipython-9.6.0-pyhfa0c392_0 \n",
            "  ipython_genutils   conda-forge/noarch::ipython_genutils-0.2.0-pyhd8ed1ab_2 \n",
            "  ipython_pygments_~ conda-forge/noarch::ipython_pygments_lexers-1.1.1-pyhd8ed1ab_0 \n",
            "  ipywidgets         conda-forge/noarch::ipywidgets-7.8.5-pyhd8ed1ab_0 \n",
            "  isoduration        conda-forge/noarch::isoduration-20.11.0-pyhd8ed1ab_1 \n",
            "  jedi               conda-forge/noarch::jedi-0.19.2-pyhd8ed1ab_1 \n",
            "  jinja2             conda-forge/noarch::jinja2-3.1.6-pyhd8ed1ab_0 \n",
            "  json5              conda-forge/noarch::json5-0.12.1-pyhd8ed1ab_0 \n",
            "  jsonschema         conda-forge/noarch::jsonschema-4.25.1-pyhe01879c_0 \n",
            "  jsonschema-specif~ conda-forge/noarch::jsonschema-specifications-2025.9.1-pyhcf101f3_0 \n",
            "  jsonschema-with-f~ conda-forge/noarch::jsonschema-with-format-nongpl-4.25.1-he01879c_0 \n",
            "  jupyter-lsp        conda-forge/noarch::jupyter-lsp-2.3.0-pyhcf101f3_0 \n",
            "  jupyter_client     conda-forge/noarch::jupyter_client-8.6.3-pyhd8ed1ab_1 \n",
            "  jupyter_core       conda-forge/noarch::jupyter_core-5.9.1-pyhc90fa1f_0 \n",
            "  jupyter_events     conda-forge/noarch::jupyter_events-0.12.0-pyh29332c3_0 \n",
            "  jupyter_server     conda-forge/noarch::jupyter_server-2.17.0-pyhcf101f3_0 \n",
            "  jupyter_server_te~ conda-forge/noarch::jupyter_server_terminals-0.5.3-pyhd8ed1ab_1 \n",
            "  jupyterlab         conda-forge/noarch::jupyterlab-4.4.10-pyhd8ed1ab_0 \n",
            "  jupyterlab_pygmen~ conda-forge/noarch::jupyterlab_pygments-0.3.0-pyhd8ed1ab_2 \n",
            "  jupyterlab_server  conda-forge/noarch::jupyterlab_server-2.28.0-pyhcf101f3_0 \n",
            "  jupyterlab_widgets conda-forge/noarch::jupyterlab_widgets-1.1.11-pyhd8ed1ab_0 \n",
            "  jxrlib             conda-forge/linux-64::jxrlib-1.1-hd590300_3 \n",
            "  lark               conda-forge/noarch::lark-1.3.1-pyhd8ed1ab_0 \n",
            "  lcms2              conda-forge/linux-64::lcms2-2.17-h717163a_0 \n",
            "  lerc               conda-forge/linux-64::lerc-4.0.0-h0aef613_1 \n",
            "  libaec             conda-forge/linux-64::libaec-1.1.4-h3f801dc_0 \n",
            "  libastra           conda-forge/linux-64::libastra-2.3.1-hd22cb3e_1 \n",
            "  libavif16          conda-forge/linux-64::libavif16-1.3.0-h6395336_2 \n",
            "  libblas            conda-forge/linux-64::libblas-3.9.0-37_h4a7cf45_openblas \n",
            "  libbrotlicommon    conda-forge/linux-64::libbrotlicommon-1.1.0-hb9d3cd8_2 \n",
            "  libbrotlidec       conda-forge/linux-64::libbrotlidec-1.1.0-hb9d3cd8_2 \n",
            "  libbrotlienc       conda-forge/linux-64::libbrotlienc-1.1.0-hb9d3cd8_2 \n",
            "  libcblas           conda-forge/linux-64::libcblas-3.9.0-37_h0358290_openblas \n",
            "  libdeflate         conda-forge/linux-64::libdeflate-1.23-h86f0d12_0 \n",
            "  libfreetype        conda-forge/linux-64::libfreetype-2.14.1-ha770c72_0 \n",
            "  libfreetype6       conda-forge/linux-64::libfreetype6-2.14.1-h73754d4_0 \n",
            "  libgfortran        conda-forge/linux-64::libgfortran-15.2.0-h69a702a_7 \n",
            "  libgfortran5       conda-forge/linux-64::libgfortran5-15.2.0-hcd61629_7 \n",
            "  libhwy             conda-forge/linux-64::libhwy-1.3.0-h4c17acf_1 \n",
            "  libjpeg-turbo      conda-forge/linux-64::libjpeg-turbo-3.1.0-hb9d3cd8_0 \n",
            "  libjxl             conda-forge/linux-64::libjxl-0.11.1-h6cb5226_4 \n",
            "  liblapack          conda-forge/linux-64::liblapack-3.9.0-37_h47877c9_openblas \n",
            "  libnetcdf          conda-forge/linux-64::libnetcdf-4.9.2-nompi_h00e09a9_116 \n",
            "  libopenblas        conda-forge/linux-64::libopenblas-0.3.30-pthreads_h94d23a6_2 \n",
            "  libpng             conda-forge/linux-64::libpng-1.6.50-h421ea60_1 \n",
            "  libsodium          conda-forge/linux-64::libsodium-1.0.20-h4ab18f5_0 \n",
            "  libtiff            conda-forge/linux-64::libtiff-4.7.0-hd9ff511_3 \n",
            "  libwebp-base       conda-forge/linux-64::libwebp-base-1.6.0-hd42ef1d_0 \n",
            "  libxcb             conda-forge/linux-64::libxcb-1.17.0-h8a09558_0 \n",
            "  libzip             conda-forge/linux-64::libzip-1.11.2-h6991a6a_0 \n",
            "  libzopfli          conda-forge/linux-64::libzopfli-1.0.3-h9c3ff4c_0 \n",
            "  llvm-openmp        conda-forge/linux-64::llvm-openmp-21.1.4-h4922eb0_0 \n",
            "  llvmlite           conda-forge/linux-64::llvmlite-0.45.0-py311h1741904_0 \n",
            "  markupsafe         conda-forge/linux-64::markupsafe-3.0.3-py311h3778330_0 \n",
            "  matplotlib-inline  conda-forge/noarch::matplotlib-inline-0.2.1-pyhd8ed1ab_0 \n",
            "  mistune            conda-forge/noarch::mistune-3.1.4-pyhcf101f3_0 \n",
            "  nbclient           conda-forge/noarch::nbclient-0.10.2-pyhd8ed1ab_0 \n",
            "  nbconvert-core     conda-forge/noarch::nbconvert-core-7.16.6-pyhcf101f3_1 \n",
            "  nbformat           conda-forge/noarch::nbformat-5.10.4-pyhd8ed1ab_1 \n",
            "  nest-asyncio       conda-forge/noarch::nest-asyncio-1.6.0-pyhd8ed1ab_1 \n",
            "  netcdf4            conda-forge/linux-64::netcdf4-1.7.2-nompi_py311hae66bec_101 \n",
            "  notebook           conda-forge/noarch::notebook-7.4.7-pyhd8ed1ab_0 \n",
            "  notebook-shim      conda-forge/noarch::notebook-shim-0.2.4-pyhd8ed1ab_1 \n",
            "  numba              conda-forge/linux-64::numba-0.62.1-py311h6220fa4_0 \n",
            "  numpy              conda-forge/linux-64::numpy-1.26.4-py311h64a7726_0 \n",
            "  olefile            conda-forge/noarch::olefile-0.47-pyhd8ed1ab_1 \n",
            "  openjpeg           conda-forge/linux-64::openjpeg-2.5.3-h55fea9a_1 \n",
            "  overrides          conda-forge/noarch::overrides-7.7.0-pyhd8ed1ab_1 \n",
            "  pandas             conda-forge/linux-64::pandas-2.3.3-py311hed34c8f_1 \n",
            "  pandocfilters      conda-forge/noarch::pandocfilters-1.5.0-pyhd8ed1ab_0 \n",
            "  parso              conda-forge/noarch::parso-0.8.5-pyhcf101f3_0 \n",
            "  pexpect            conda-forge/noarch::pexpect-4.9.0-pyhd8ed1ab_1 \n",
            "  pickleshare        conda-forge/noarch::pickleshare-0.7.5-pyhd8ed1ab_1004 \n",
            "  pillow             conda-forge/linux-64::pillow-11.3.0-py311h98278a2_3 \n",
            "  prometheus_client  conda-forge/noarch::prometheus_client-0.23.1-pyhd8ed1ab_0 \n",
            "  prompt-toolkit     conda-forge/noarch::prompt-toolkit-3.0.52-pyha770c72_0 \n",
            "  psutil             conda-forge/linux-64::psutil-7.1.1-py311h49ec1c0_0 \n",
            "  pthread-stubs      conda-forge/linux-64::pthread-stubs-0.4-hb9d3cd8_1002 \n",
            "  ptyprocess         conda-forge/noarch::ptyprocess-0.7.0-pyhd8ed1ab_1 \n",
            "  pure_eval          conda-forge/noarch::pure_eval-0.2.3-pyhd8ed1ab_1 \n",
            "  pygments           conda-forge/noarch::pygments-2.19.2-pyhd8ed1ab_0 \n",
            "  python-dateutil    conda-forge/noarch::python-dateutil-2.9.0.post0-pyhe01879c_2 \n",
            "  python-fastjsonsc~ conda-forge/noarch::python-fastjsonschema-2.21.2-pyhe01879c_0 \n",
            "  python-json-logger conda-forge/noarch::python-json-logger-2.0.7-pyhd8ed1ab_0 \n",
            "  python-tzdata      conda-forge/noarch::python-tzdata-2025.2-pyhd8ed1ab_0 \n",
            "  pytz               conda-forge/noarch::pytz-2025.2-pyhd8ed1ab_0 \n",
            "  pywavelets         conda-forge/linux-64::pywavelets-1.9.0-py311h0372a8f_1 \n",
            "  pyyaml             conda-forge/linux-64::pyyaml-6.0.3-py311h3778330_0 \n",
            "  pyzmq              conda-forge/linux-64::pyzmq-27.1.0-py311h2315fbb_0 \n",
            "  rav1e              conda-forge/linux-64::rav1e-0.7.1-h8fae777_3 \n",
            "  referencing        conda-forge/noarch::referencing-0.37.0-pyhcf101f3_0 \n",
            "  rfc3339-validator  conda-forge/noarch::rfc3339-validator-0.1.4-pyhd8ed1ab_1 \n",
            "  rfc3986-validator  conda-forge/noarch::rfc3986-validator-0.1.1-pyh9f0ad1d_0 \n",
            "  rfc3987-syntax     conda-forge/noarch::rfc3987-syntax-1.1.0-pyhe01879c_1 \n",
            "  rpds-py            conda-forge/linux-64::rpds-py-0.28.0-py311h902ca64_1 \n",
            "  scipy              conda-forge/linux-64::scipy-1.16.2-py311h1e13796_0 \n",
            "  send2trash         conda-forge/noarch::send2trash-1.8.3-pyh0d859eb_1 \n",
            "  six                conda-forge/noarch::six-1.17.0-pyhe01879c_1 \n",
            "  snappy             conda-forge/linux-64::snappy-1.2.2-h03e3b7b_0 \n",
            "  sniffio            conda-forge/noarch::sniffio-1.3.1-pyhd8ed1ab_1 \n",
            "  soupsieve          conda-forge/noarch::soupsieve-2.8-pyhd8ed1ab_0 \n",
            "  spefile            conda-forge/noarch::spefile-1.6.1-pyhd8ed1ab_1 \n",
            "  stack_data         conda-forge/noarch::stack_data-0.6.3-pyhd8ed1ab_1 \n",
            "  svt-av1            conda-forge/linux-64::svt-av1-3.1.2-hecca717_0 \n",
            "  terminado          conda-forge/noarch::terminado-0.18.1-pyh0d859eb_0 \n",
            "  tifffile           conda-forge/noarch::tifffile-2025.10.16-pyhd8ed1ab_0 \n",
            "  tinycss2           conda-forge/noarch::tinycss2-1.4.0-pyhd8ed1ab_0 \n",
            "  tomli              conda-forge/noarch::tomli-2.3.0-pyhcf101f3_0 \n",
            "  tomophantom        ccpi/linux-64::tomophantom-2.0.0-np126py311_0 \n",
            "  tornado            conda-forge/linux-64::tornado-6.5.2-py311h49ec1c0_1 \n",
            "  traitlets          conda-forge/noarch::traitlets-5.14.3-pyhd8ed1ab_1 \n",
            "  typing-extensions  conda-forge/noarch::typing-extensions-4.15.0-h396c80c_0 \n",
            "  typing_extensions  conda-forge/noarch::typing_extensions-4.15.0-pyhcf101f3_0 \n",
            "  typing_utils       conda-forge/noarch::typing_utils-0.1.0-pyhd8ed1ab_1 \n",
            "  uri-template       conda-forge/noarch::uri-template-1.3.0-pyhd8ed1ab_1 \n",
            "  wcwidth            conda-forge/noarch::wcwidth-0.2.14-pyhd8ed1ab_0 \n",
            "  webcolors          conda-forge/noarch::webcolors-24.11.1-pyhd8ed1ab_0 \n",
            "  webencodings       conda-forge/noarch::webencodings-0.5.1-pyhd8ed1ab_3 \n",
            "  websocket-client   conda-forge/noarch::websocket-client-1.9.0-pyhd8ed1ab_0 \n",
            "  widgetsnbextension conda-forge/noarch::widgetsnbextension-3.6.10-pyhd8ed1ab_0 \n",
            "  xorg-libxau        conda-forge/linux-64::xorg-libxau-1.0.12-hb9d3cd8_0 \n",
            "  xorg-libxdmcp      conda-forge/linux-64::xorg-libxdmcp-1.1.5-hb9d3cd8_0 \n",
            "  yaml               conda-forge/linux-64::yaml-0.2.5-h280c20c_3 \n",
            "  zeromq             conda-forge/linux-64::zeromq-4.3.5-h387f397_9 \n",
            "  zfp                conda-forge/linux-64::zfp-1.0.1-h909a3a2_3 \n",
            "  zipp               conda-forge/noarch::zipp-3.23.0-pyhd8ed1ab_0 \n",
            "  zlib               conda-forge/linux-64::zlib-1.3.1-hb9d3cd8_2 \n",
            "  zlib-ng            conda-forge/linux-64::zlib-ng-2.2.5-hde8ca8f_0 \n",
            "\n",
            "The following packages will be UPDATED:\n",
            "\n",
            "  ca-certificates    conda-forge/linux-64::ca-certificates~ --> conda-forge/noarch::ca-certificates-2025.10.5-hbd8a1cb_0 \n",
            "  certifi                           2024.12.14-pyhd8ed1ab_0 --> 2025.10.5-pyhd8ed1ab_0 \n",
            "  conda                             24.11.2-py311h38be061_1 --> 24.11.3-py311h38be061_0 \n",
            "  libgcc                                  14.2.0-h77fa898_1 --> 15.2.0-h767d61c_7 \n",
            "  libgcc-ng                               14.2.0-h69a702a_1 --> 15.2.0-h69a702a_7 \n",
            "  libgomp                                 14.2.0-h77fa898_1 --> 15.2.0-h767d61c_7 \n",
            "  libstdcxx                               14.2.0-hc0a3c3a_1 --> 15.2.0-h8f9b012_7 \n",
            "  libstdcxx-ng                            14.2.0-h4852527_1 --> 15.2.0-h4852527_7 \n",
            "  openssl                                  3.4.0-h7b32b05_1 --> 3.5.4-h26f9b46_0 \n",
            "\n",
            "The following packages will be DOWNGRADED:\n",
            "\n",
            "  _openmp_mutex                                   4.5-2_gnu --> 4.5-5_kmp_llvm \n",
            "\n",
            "\n",
            "Preparing transaction: ...working... done\n",
            "Verifying transaction: ...working... done\n",
            "Executing transaction: ...working... done\n"
          ]
        }
      ]
    },
    {
      "cell_type": "code",
      "source": [
        "import sys\n",
        "print(sys.version)"
      ],
      "metadata": {
        "id": "tlwBc1mFpuP3",
        "outputId": "2dfdcaa9-9506-47be-c6fe-234cc7a13f13",
        "colab": {
          "base_uri": "https://localhost:8080/"
        }
      },
      "execution_count": 6,
      "outputs": [
        {
          "output_type": "stream",
          "name": "stdout",
          "text": [
            "3.12.12 (main, Oct 10 2025, 08:52:57) [GCC 11.4.0]\n"
          ]
        }
      ]
    },
    {
      "cell_type": "code",
      "source": [
        "!git clone https://github.com/CERN/TIGRE.git\n",
        "%cd TIGRE/Python\n",
        "!python setup.py install\n",
        "!python example.py"
      ],
      "metadata": {
        "colab": {
          "base_uri": "https://localhost:8080/"
        },
        "id": "fduQe4rymbrE",
        "outputId": "a64d3396-6dfa-4efb-a4f6-1526fa0f9929"
      },
      "execution_count": 4,
      "outputs": [
        {
          "output_type": "stream",
          "name": "stdout",
          "text": [
            "Cloning into 'TIGRE'...\n",
            "remote: Enumerating objects: 12688, done.\u001b[K\n",
            "remote: Counting objects: 100% (611/611), done.\u001b[K\n",
            "remote: Compressing objects: 100% (269/269), done.\u001b[K\n",
            "remote: Total 12688 (delta 450), reused 346 (delta 342), pack-reused 12077 (from 4)\u001b[K\n",
            "Receiving objects: 100% (12688/12688), 157.59 MiB | 26.53 MiB/s, done.\n",
            "Resolving deltas: 100% (9189/9189), done.\n",
            "/content/TIGRE/Python\n",
            "python: can't open file '/content/TIGRE/Python/setup.py': [Errno 2] No such file or directory\n",
            "Traceback (most recent call last):\n",
            "  File \"/content/TIGRE/Python/example.py\", line 4, in <module>\n",
            "    import numpy as np\n",
            "ModuleNotFoundError: No module named 'numpy'\n"
          ]
        }
      ]
    },
    {
      "cell_type": "code",
      "source": [
        "import sys\n",
        "\n",
        "sys.path.append(\"/usr/local/lib/python3.12/site-packages\")\n",
        "import cil\n",
        "print(\"CIL version:\", cil.__version__)"
      ],
      "metadata": {
        "colab": {
          "base_uri": "https://localhost:8080/",
          "height": 367
        },
        "id": "IC77cDFRlIze",
        "outputId": "cc0d99a3-0d43-4207-c9bf-1052112fedf4"
      },
      "execution_count": 3,
      "outputs": [
        {
          "output_type": "error",
          "ename": "ModuleNotFoundError",
          "evalue": "No module named 'cil'",
          "traceback": [
            "\u001b[0;31m---------------------------------------------------------------------------\u001b[0m",
            "\u001b[0;31mModuleNotFoundError\u001b[0m                       Traceback (most recent call last)",
            "\u001b[0;32m/tmp/ipython-input-1463117951.py\u001b[0m in \u001b[0;36m<cell line: 0>\u001b[0;34m()\u001b[0m\n\u001b[1;32m      2\u001b[0m \u001b[0;34m\u001b[0m\u001b[0m\n\u001b[1;32m      3\u001b[0m \u001b[0msys\u001b[0m\u001b[0;34m.\u001b[0m\u001b[0mpath\u001b[0m\u001b[0;34m.\u001b[0m\u001b[0mappend\u001b[0m\u001b[0;34m(\u001b[0m\u001b[0;34m\"/usr/local/lib/python3.12/site-packages\"\u001b[0m\u001b[0;34m)\u001b[0m\u001b[0;34m\u001b[0m\u001b[0;34m\u001b[0m\u001b[0m\n\u001b[0;32m----> 4\u001b[0;31m \u001b[0;32mimport\u001b[0m \u001b[0mcil\u001b[0m\u001b[0;34m\u001b[0m\u001b[0;34m\u001b[0m\u001b[0m\n\u001b[0m\u001b[1;32m      5\u001b[0m \u001b[0mprint\u001b[0m\u001b[0;34m(\u001b[0m\u001b[0;34m\"CIL version:\"\u001b[0m\u001b[0;34m,\u001b[0m \u001b[0mcil\u001b[0m\u001b[0;34m.\u001b[0m\u001b[0m__version__\u001b[0m\u001b[0;34m)\u001b[0m\u001b[0;34m\u001b[0m\u001b[0;34m\u001b[0m\u001b[0m\n",
            "\u001b[0;31mModuleNotFoundError\u001b[0m: No module named 'cil'",
            "",
            "\u001b[0;31m---------------------------------------------------------------------------\u001b[0;32m\nNOTE: If your import is failing due to a missing package, you can\nmanually install dependencies using either !pip or !apt.\n\nTo view examples of installing some common dependencies, click the\n\"Open Examples\" button below.\n\u001b[0;31m---------------------------------------------------------------------------\u001b[0m\n"
          ],
          "errorDetails": {
            "actions": [
              {
                "action": "open_url",
                "actionText": "Open Examples",
                "url": "/notebooks/snippets/importing_libraries.ipynb"
              }
            ]
          }
        }
      ]
    },
    {
      "cell_type": "code",
      "execution_count": null,
      "metadata": {
        "id": "QH2rkwvjmC2H"
      },
      "outputs": [],
      "source": [
        "# -*- coding: utf-8 -*-\n",
        "#  Copyright 2021 - 2022 United Kingdom Research and Innovation\n",
        "#  Copyright 2021 - 2022 The University of Manchester\n",
        "#  Copyright 2021 - 2022 Technical University of Denmark\n",
        "#\n",
        "#  Licensed under the Apache License, Version 2.0 (the \"License\");\n",
        "#  you may not use this file except in compliance with the License.\n",
        "#  You may obtain a copy of the License at\n",
        "#\n",
        "#      http://www.apache.org/licenses/LICENSE-2.0\n",
        "#\n",
        "#  Unless required by applicable law or agreed to in writing, software\n",
        "#  distributed under the License is distributed on an \"AS IS\" BASIS,\n",
        "#  WITHOUT WARRANTIES OR CONDITIONS OF ANY KIND, either express or implied.\n",
        "#  See the License for the specific language governing permissions and\n",
        "#  limitations under the License.\n",
        "#\n",
        "#   Authored by:    Jakob S. Jørgensen (DTU)\n",
        "#                   Gemma Fardell (UKRI-STFC)\n",
        "#                   Laura Murgatroyd (UKRI-STFC)\n",
        "#                   Hannah Robarts (UKRI-STFC)"
      ]
    },
    {
      "cell_type": "markdown",
      "metadata": {
        "id": "ez7Bej7SmC2J"
      },
      "source": [
        "# Sandstone 2D parallel-beam data reconstruction demo\n",
        "\n"
      ]
    },
    {
      "cell_type": "markdown",
      "metadata": {
        "id": "bcuEMCtJmC2K"
      },
      "source": [
        "This exercise walks through the steps needed to load in, preprocess and reconstruct by FBP a 2D parallel-beam data set from a synchrotron of a sandstone sample. Learning objectives are:\n",
        "- Load and investigate a real data set.\n",
        "- Determine geometric information of the data and set up CIL data structures.\n",
        "- Apply CIL processors to pre-process the data, including normalisation, negative log, region-of-interest and centre of rotation correction.\n",
        "- Compute FBP reconstruction using CIL and compare with reconstruction provided.\n",
        "\n",
        "This example requires the data in `small.zip` from: https://zenodo.org/record/4912435 :\n",
        " - https://zenodo.org/record/4912435/files/small.zip\n",
        "\n",
        "If running locally please download the data and update the `datapath` variable below."
      ]
    },
    {
      "cell_type": "code",
      "execution_count": null,
      "metadata": {
        "id": "3OPj_-kMmC2L"
      },
      "outputs": [],
      "source": [
        "datapath = \"/mnt/materials/SIRF/Fully3D/CIL/SandStone/\""
      ]
    },
    {
      "cell_type": "code",
      "execution_count": null,
      "metadata": {
        "id": "nkhiL67jmC2L"
      },
      "outputs": [],
      "source": [
        "# Import all CIL components needed\n",
        "from cil.framework import ImageData, ImageGeometry\n",
        "from cil.framework import AcquisitionGeometry, AcquisitionData\n",
        "\n",
        "# CIL Processors\n",
        "from cil.processors import CentreOfRotationCorrector, Slicer, TransmissionAbsorptionConverter, Normaliser, Padder\n",
        "\n",
        "# CIL display tools\n",
        "from cil.utilities.display import show2D, show_geometry\n",
        "\n",
        "# CIL FBP\n",
        "from cil.recon import FBP\n",
        "\n",
        "# From CIL ASTRA plugin\n",
        "from cil.plugins.astra import ProjectionOperator\n",
        "\n",
        "# All external imports\n",
        "import numpy as np\n",
        "import matplotlib.pyplot as plt\n",
        "import scipy.io\n",
        "import os"
      ]
    },
    {
      "cell_type": "markdown",
      "metadata": {
        "id": "B0YmxHzBmC2L"
      },
      "source": [
        "Switch on printing of more info in some of the methods including `CentreOfRotationCorrector`:"
      ]
    },
    {
      "cell_type": "code",
      "execution_count": null,
      "metadata": {
        "id": "MNat5PkHmC2M"
      },
      "outputs": [],
      "source": [
        "import logging\n",
        "logging.basicConfig(level=logging.WARNING)\n",
        "cil_log_level = logging.getLogger('cil.processors')\n",
        "cil_log_level.setLevel(logging.INFO)"
      ]
    },
    {
      "cell_type": "markdown",
      "metadata": {
        "id": "_a_L2oGJmC2M"
      },
      "source": [
        "The data contains selected 2D projections, flat and dark fields, as well as complete 2D sinograms for 4 horizontal slices. We first load and display a couple of projections"
      ]
    },
    {
      "cell_type": "code",
      "execution_count": null,
      "metadata": {
        "id": "MbljT2SumC2M"
      },
      "outputs": [],
      "source": [
        "proj1 = plt.imread(os.path.join(datapath,\"proj\",\"BBii_0131.tif\"))\n",
        "show2D(proj1)"
      ]
    },
    {
      "cell_type": "code",
      "execution_count": null,
      "metadata": {
        "id": "zIIUI1pSmC2M"
      },
      "outputs": [],
      "source": [
        "proj2 = plt.imread(os.path.join(datapath,\"proj\",\"BBii_0931.tif\"))\n",
        "show2D(proj2)"
      ]
    },
    {
      "cell_type": "markdown",
      "metadata": {
        "id": "KXxww8dlmC2M"
      },
      "source": [
        "We also load and display a flat field (image taken before projections with source on, and sample out):"
      ]
    },
    {
      "cell_type": "code",
      "execution_count": null,
      "metadata": {
        "id": "Etxdw5EbmC2M"
      },
      "outputs": [],
      "source": [
        "flat1 = plt.imread(os.path.join(datapath,\"proj\",\"BBii_0031.tif\"))\n",
        "show2D(flat1)"
      ]
    },
    {
      "cell_type": "markdown",
      "metadata": {
        "id": "fDGc3nLDmC2N"
      },
      "source": [
        "We also load and display a dark field (image taken before projections and flat with source off, and sample out, to capture any background counts):"
      ]
    },
    {
      "cell_type": "code",
      "execution_count": null,
      "metadata": {
        "id": "dcPTqF-emC2N"
      },
      "outputs": [],
      "source": [
        "dark1 = plt.imread(os.path.join(datapath,\"proj\",\"BBii_0002.tif\"))\n",
        "show2D(dark1)"
      ]
    },
    {
      "cell_type": "markdown",
      "metadata": {
        "id": "Ive_q51tmC2N"
      },
      "source": [
        "Projections have 2160 rows and 2560 columns as seen by:"
      ]
    },
    {
      "cell_type": "code",
      "execution_count": null,
      "metadata": {
        "id": "qoWpH81UmC2N"
      },
      "outputs": [],
      "source": [
        "proj1.shape"
      ]
    },
    {
      "cell_type": "markdown",
      "metadata": {
        "id": "chLxBqe1mC2N"
      },
      "source": [
        "For convenience sinograms for four selected slices have been extracted from the full 1500 projections and are provided as mat-files. We choose one and load it:"
      ]
    },
    {
      "cell_type": "markdown",
      "metadata": {
        "id": "d963HGMamC2N"
      },
      "source": [
        "Load demo data set and display the first raw projection"
      ]
    },
    {
      "cell_type": "code",
      "execution_count": null,
      "metadata": {
        "id": "O6edCbr9mC2N"
      },
      "outputs": [],
      "source": [
        "filename = \"slice_0270_data.mat\"\n",
        "all_data = scipy.io.loadmat(os.path.join(datapath,filename))"
      ]
    },
    {
      "cell_type": "markdown",
      "metadata": {
        "id": "fqdvr-pKmC2O"
      },
      "source": [
        "The data contains projections, flats and darks for the selected slice. There are 1500 projections of size 2560 pixels:"
      ]
    },
    {
      "cell_type": "code",
      "execution_count": null,
      "metadata": {
        "id": "Gu1jt-wmmC2O"
      },
      "outputs": [],
      "source": [
        "projs = all_data['X_proj'].astype(np.float32)\n",
        "projs.shape"
      ]
    },
    {
      "cell_type": "markdown",
      "metadata": {
        "id": "UIFDGIQ6mC2O"
      },
      "source": [
        "There are 200 flats (100 taken before, and 100 taken after the projections):"
      ]
    },
    {
      "cell_type": "code",
      "execution_count": null,
      "metadata": {
        "id": "RQdFNj-FmC2O"
      },
      "outputs": [],
      "source": [
        "flats = all_data['X_flat'].astype(np.float32)\n",
        "flats.shape"
      ]
    },
    {
      "cell_type": "markdown",
      "metadata": {
        "id": "yyTMVbz-mC2O"
      },
      "source": [
        "There are 30 darks taken at the beginning of the experiment:"
      ]
    },
    {
      "cell_type": "code",
      "execution_count": null,
      "metadata": {
        "id": "vN0XaUIFmC2O"
      },
      "outputs": [],
      "source": [
        "darks = all_data['X_dark'].astype(np.float32)\n",
        "darks.shape"
      ]
    },
    {
      "cell_type": "markdown",
      "metadata": {
        "id": "kN0JxOMXmC2P"
      },
      "source": [
        "The data provided also contains the reconstruction produced at the synchrotron where the data was acquired. We load and display it to see what kind of image we aim to reconstruct:"
      ]
    },
    {
      "cell_type": "code",
      "execution_count": null,
      "metadata": {
        "id": "QKHUEiI_mC2P"
      },
      "outputs": [],
      "source": [
        "vendor_recon = plt.imread(os.path.join(datapath,\"recon\",\"BBii_0270.rec.16bit.tif\"))\n",
        "show2D(np.rot90(vendor_recon))"
      ]
    },
    {
      "cell_type": "markdown",
      "metadata": {
        "id": "PBTruj_3mC2P"
      },
      "source": [
        "OK, we have now taken a look at the data and are ready to start producing our own reconstruction. We need to go through a number of steps to get there.\n",
        "\n",
        "As a first step toward reconstructing the data, we specify the CIL `AcquisitionGeometry` for a 2D parallel-beam geometry with 1500 projections over 0 to 180 degrees each consisting of 2560 detector pixels."
      ]
    },
    {
      "cell_type": "code",
      "execution_count": null,
      "metadata": {
        "id": "YzYtRx3TmC2P"
      },
      "outputs": [],
      "source": [
        "ag = AcquisitionGeometry.create_Parallel2D()  \\\n",
        "         .set_panel(num_pixels=(2560))        \\\n",
        "         .set_angles(angles=np.linspace(0,180,1500,endpoint=False))"
      ]
    },
    {
      "cell_type": "markdown",
      "metadata": {
        "id": "SPK-Cd-5mC2P"
      },
      "source": [
        "We can illustrate the geometry specified:"
      ]
    },
    {
      "cell_type": "code",
      "execution_count": null,
      "metadata": {
        "id": "fPviHXXvmC2P"
      },
      "outputs": [],
      "source": [
        "show_geometry(ag)"
      ]
    },
    {
      "cell_type": "markdown",
      "metadata": {
        "id": "SnxRQGeumC2Q"
      },
      "source": [
        "To create the CIL data structure `AcquisitionData` holding the data we check again the size of the projections"
      ]
    },
    {
      "cell_type": "code",
      "execution_count": null,
      "metadata": {
        "id": "Wx_oP1d-mC2Q"
      },
      "outputs": [],
      "source": [
        "projs.shape"
      ]
    },
    {
      "cell_type": "markdown",
      "metadata": {
        "id": "l7DtUrjDmC2Q"
      },
      "source": [
        "so along the first dimension are the horizontal detector pixels and along the second the projections/angles. We then tell CIL which axes are which:"
      ]
    },
    {
      "cell_type": "code",
      "execution_count": null,
      "metadata": {
        "id": "qzZuiecTmC2Q"
      },
      "outputs": [],
      "source": [
        "ag.set_labels(['horizontal','angle'])\n",
        "print(ag.dimension_labels)"
      ]
    },
    {
      "cell_type": "markdown",
      "metadata": {
        "id": "-5zNECzomC2Q"
      },
      "source": [
        "Now we create an `AcquisitionData` holding the projections and the geometry. We link the `projs` numpy array to the `AcquisitionData` without creating an additional copy."
      ]
    },
    {
      "cell_type": "code",
      "execution_count": null,
      "metadata": {
        "id": "5bNhppyXmC2R"
      },
      "outputs": [],
      "source": [
        "data = AcquisitionData(projs, geometry=ag, deep_copy=False)"
      ]
    },
    {
      "cell_type": "markdown",
      "metadata": {
        "id": "w7r5ZAK0mC2R"
      },
      "source": [
        "We can take a look with the CIL `show2D` display function:"
      ]
    },
    {
      "cell_type": "code",
      "execution_count": null,
      "metadata": {
        "id": "lrOWL2NNmC2R"
      },
      "outputs": [],
      "source": [
        "show2D(data)"
      ]
    },
    {
      "cell_type": "markdown",
      "metadata": {
        "id": "VvPIae8nmC2W"
      },
      "source": [
        "Let us try reconstructing straight from the raw projections. First we need to make sure the data matches the order expected by the ASTRA-Toolbox plugin. We use `reorder('astra')` to check and reorder the data if required."
      ]
    },
    {
      "cell_type": "code",
      "execution_count": null,
      "metadata": {
        "id": "m_MblhfcmC2W"
      },
      "outputs": [],
      "source": [
        "data.reorder('astra')"
      ]
    },
    {
      "cell_type": "markdown",
      "metadata": {
        "id": "R04YIHrDmC2W"
      },
      "source": [
        "Now we must specify the `ImageGeometry` we want for the reconstruction grid, here we choose the default which can be generated from the `AcquisitionGeometry`:"
      ]
    },
    {
      "cell_type": "code",
      "execution_count": null,
      "metadata": {
        "id": "QqccYL6DmC2W"
      },
      "outputs": [],
      "source": [
        "ig = ag.get_ImageGeometry()"
      ]
    },
    {
      "cell_type": "markdown",
      "metadata": {
        "id": "O7AA25GMmC2W"
      },
      "source": [
        "We set up and run the FBP reconstructor with our dataset and specify the backend to use:"
      ]
    },
    {
      "cell_type": "code",
      "execution_count": null,
      "metadata": {
        "id": "K6jJoQSSmC2W"
      },
      "outputs": [],
      "source": [
        "rec1 = FBP(data, ig, backend='astra').run()"
      ]
    },
    {
      "cell_type": "code",
      "execution_count": null,
      "metadata": {
        "id": "CfcW4PSqmC2X"
      },
      "outputs": [],
      "source": [
        "show2D(rec1)"
      ]
    },
    {
      "cell_type": "markdown",
      "metadata": {
        "id": "-fns79lsmC2X"
      },
      "source": [
        "On close inspection we see some of the right features but distorted and wrong colours. The first thing we are missing is to normalise the data, i.e., apply flat and dark field correction. This is achieved by the CIL `Normaliser` processor and we simply use the mean over the flat and dark images respectively:"
      ]
    },
    {
      "cell_type": "code",
      "execution_count": null,
      "metadata": {
        "id": "OXqzmpZumC2X"
      },
      "outputs": [],
      "source": [
        "data2 = Normaliser(flat_field=flats.mean(axis=1),\n",
        "                   dark_field=darks.mean(axis=1)\n",
        "                  )(data)"
      ]
    },
    {
      "cell_type": "code",
      "execution_count": null,
      "metadata": {
        "id": "ggkimBbPmC2X"
      },
      "outputs": [],
      "source": [
        "show2D(data2)"
      ]
    },
    {
      "cell_type": "markdown",
      "metadata": {
        "id": "WNllUfgGmC2X"
      },
      "source": [
        "Compared to the previous sinogram of the raw projections, we see on the colourbar that the range is now within 0 to 1 as is what we need. We try reconstructing again:"
      ]
    },
    {
      "cell_type": "code",
      "execution_count": null,
      "metadata": {
        "id": "eQoVXr19mC2X"
      },
      "outputs": [],
      "source": [
        "rec2 = FBP(data2, ig, backend='astra').run()"
      ]
    },
    {
      "cell_type": "code",
      "execution_count": null,
      "metadata": {
        "id": "vL8OqWa0mC2Y"
      },
      "outputs": [],
      "source": [
        "show2D(rec2)"
      ]
    },
    {
      "cell_type": "markdown",
      "metadata": {
        "id": "yeUKoZ1vmC2Y"
      },
      "source": [
        "It looks that same, only has the range change as seen on the colourbar. We realise that we need to apply the negative logarithm according to the Lambert-Beer law, which can be done manually or using a CIL `Processor`, which will prevent outliers and zeros from causing trouble:"
      ]
    },
    {
      "cell_type": "code",
      "execution_count": null,
      "metadata": {
        "id": "UaKsKWgymC2Y"
      },
      "outputs": [],
      "source": [
        "data3 = TransmissionAbsorptionConverter()(data2)"
      ]
    },
    {
      "cell_type": "code",
      "execution_count": null,
      "metadata": {
        "id": "TXU9R32UmC2Y"
      },
      "outputs": [],
      "source": [
        "show2D(data3)"
      ]
    },
    {
      "cell_type": "markdown",
      "metadata": {
        "id": "5HnlPeWamC2Z"
      },
      "source": [
        "We see the data has been transformed so the big sine band shows up white instead of dark as before. We attempt reconstructing:"
      ]
    },
    {
      "cell_type": "code",
      "execution_count": null,
      "metadata": {
        "id": "gQ8dQqA2mC2Z"
      },
      "outputs": [],
      "source": [
        "rec3 = FBP(data3, ig, backend='astra').run()"
      ]
    },
    {
      "cell_type": "code",
      "execution_count": null,
      "metadata": {
        "id": "ATZgaVWnmC2Z"
      },
      "outputs": [],
      "source": [
        "show2D(rec3)"
      ]
    },
    {
      "cell_type": "markdown",
      "metadata": {
        "id": "PbwHGNpGmC2Z"
      },
      "source": [
        "The colours have flipped now, so it is a step forward, but there is a big white ring. This is because the data is region-of-interest, i.e., the sample was larger than the field of view, so projections are truncated (i.e. do not have air on both sides as also seen in the sinograms). A simple way to compensate for this is to extend or pad the data on both sides of the projections. Using the CIL `Padder` processor we can for example pad by the left and rightmost pixel values, and we can play with the amount of padding required to push the ring out of the reconstruction. A `padsize` of about 600 is required:"
      ]
    },
    {
      "cell_type": "code",
      "execution_count": null,
      "metadata": {
        "id": "g5ONYQmfmC2Z"
      },
      "outputs": [],
      "source": [
        "padsize = 600\n",
        "data4 = Padder.edge(pad_width={'horizontal': padsize})(data3)"
      ]
    },
    {
      "cell_type": "code",
      "execution_count": null,
      "metadata": {
        "id": "p3uAKmYtmC2Z"
      },
      "outputs": [],
      "source": [
        "show2D(data4)"
      ]
    },
    {
      "cell_type": "markdown",
      "metadata": {
        "id": "J_yAtWnKmC2a"
      },
      "source": [
        "We see the data has been extended left and right. In effect the sinogram is now larger, so we need to create a new FBP reconstructor configured for the new padded data. We keep the reconstruction volume (defined by our image geometry) the same as before as we are not interested in the extended region."
      ]
    },
    {
      "cell_type": "code",
      "execution_count": null,
      "metadata": {
        "id": "8uCo1eD2mC2a"
      },
      "outputs": [],
      "source": [
        "rec4 = FBP(data4, ig, backend='astra').run()"
      ]
    },
    {
      "cell_type": "code",
      "execution_count": null,
      "metadata": {
        "id": "9wsd2I1HmC2a"
      },
      "outputs": [],
      "source": [
        "show2D(rec4)"
      ]
    },
    {
      "cell_type": "markdown",
      "metadata": {
        "id": "uGf1OyJ_mC2a"
      },
      "source": [
        "With `padsize=600` we see the region-of-interest ring has been successfully moved out and the sample features are more clearly seen. However there are still artifacts in the form of U-shaped stripes. These are centre-of-rotation artifacts caused by the sample not being perfectly centered during scanning. The log file of the dataset provides the centre value that was determined at the synchrotron. Here we use a CIL `Processor` to determine the offset and update the geometry. It works by doing FBP reconstructions for a range of offset parameters, evaluates a quality metric based on image sharpness and searches for the best offset. This technique is designed for use when you have 360 degrees of data, but can be applied to 180 degrees but will be very sample dependent."
      ]
    },
    {
      "cell_type": "code",
      "execution_count": null,
      "metadata": {
        "id": "WHwklx5SmC2a"
      },
      "outputs": [],
      "source": [
        "data5 = CentreOfRotationCorrector.image_sharpness(backend='astra', search_range=100, tolerance=0.1)(data4)"
      ]
    },
    {
      "cell_type": "markdown",
      "metadata": {
        "id": "lNSPfLW0mC2a"
      },
      "source": [
        "We can compute the centre of rotation from a CIL geometry. The argument `distance_units` allows you to define the units of the returned value. Here we specify pixels."
      ]
    },
    {
      "cell_type": "code",
      "execution_count": null,
      "metadata": {
        "tags": [],
        "id": "IqeRe4UcmC2b"
      },
      "outputs": [],
      "source": [
        "data5.geometry.get_centre_of_rotation(distance_units='pixels')"
      ]
    },
    {
      "cell_type": "code",
      "execution_count": null,
      "metadata": {
        "id": "JixSFjcQmC2b"
      },
      "outputs": [],
      "source": [
        "rec5 = FBP(data5, ig, backend='astra').run()"
      ]
    },
    {
      "cell_type": "code",
      "execution_count": null,
      "metadata": {
        "id": "_A5JuNQTmC2b"
      },
      "outputs": [],
      "source": [
        "show2D(rec5)"
      ]
    },
    {
      "cell_type": "markdown",
      "metadata": {
        "id": "qBXvL6uZmC2b"
      },
      "source": [
        "This reproduces the result from the synchrotron quite well, we show it again here for comparison:"
      ]
    },
    {
      "cell_type": "code",
      "execution_count": null,
      "metadata": {
        "id": "1aBaS6BpmC2b"
      },
      "outputs": [],
      "source": [
        "show2D(np.rot90(vendor_recon))"
      ]
    },
    {
      "cell_type": "markdown",
      "metadata": {
        "id": "GSjs-LkZmC2b"
      },
      "source": [
        "Should the centre of rotation correction method fail, one can manually specify a rotation axis offset and carry out reconstruction in the following way. In this way, one may experiment with different offsets and manually search for a suitable value by visual inspection of the resulting reconstructions as function of the offset.\n",
        "\n",
        "**Try to find the correct axis offset within the range -100 to 100 pixels.**"
      ]
    },
    {
      "cell_type": "markdown",
      "metadata": {
        "id": "X-S8iiEimC2b"
      },
      "source": [
        "Make a copy of the dataset first:"
      ]
    },
    {
      "cell_type": "code",
      "execution_count": null,
      "metadata": {
        "tags": [],
        "id": "_daPgEKxmC2c"
      },
      "outputs": [],
      "source": [
        "data_cor_manual = data4.copy()"
      ]
    },
    {
      "cell_type": "markdown",
      "metadata": {
        "id": "rlZJBsgkmC2c"
      },
      "source": [
        "Then update the geometry with different centre of rotation offsets:"
      ]
    },
    {
      "cell_type": "code",
      "execution_count": null,
      "metadata": {
        "tags": [],
        "id": "p0iljFgkmC2c"
      },
      "outputs": [],
      "source": [
        "offset = 0\n",
        "data_cor_manual.geometry.set_centre_of_rotation(offset, distance_units='pixels')"
      ]
    },
    {
      "cell_type": "markdown",
      "metadata": {
        "id": "IWlqF96mmC2c"
      },
      "source": [
        "Compute FBP reconstruction and display assessing the output by eye:"
      ]
    },
    {
      "cell_type": "code",
      "execution_count": null,
      "metadata": {
        "id": "Emgdnug5mC2c"
      },
      "outputs": [],
      "source": [
        "rec_cor_manual = FBP(data_cor_manual, ig, backend='astra').run()\n",
        "\n",
        "show2D(rec_cor_manual)"
      ]
    }
  ],
  "metadata": {
    "kernelspec": {
      "display_name": "cil_phase_demo",
      "language": "python",
      "name": "python3"
    },
    "language_info": {
      "codemirror_mode": {
        "name": "ipython",
        "version": 3
      },
      "file_extension": ".py",
      "mimetype": "text/x-python",
      "name": "python",
      "nbconvert_exporter": "python",
      "pygments_lexer": "ipython3",
      "version": "3.12.7"
    },
    "colab": {
      "provenance": []
    }
  },
  "nbformat": 4,
  "nbformat_minor": 0
}