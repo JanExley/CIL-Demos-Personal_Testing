{
  "cells": [
    {
      "cell_type": "code",
      "execution_count": 1,
      "metadata": {
        "colab": {
          "base_uri": "https://localhost:8080/"
        },
        "id": "838BuFRskW9s",
        "outputId": "f053f017-2213-45b1-a60b-0e95ca693f4c"
      },
      "outputs": [
        {
          "output_type": "stream",
          "name": "stdout",
          "text": [
            "✨🍰✨ Everything looks OK!\n",
            "Channels:\n",
            " - conda-forge\n",
            " - https://software.repos.intel.com/python/conda\n",
            " - ccpi\n",
            "Platform: linux-64\n",
            "Collecting package metadata (repodata.json): ...working... done\n",
            "Solving environment: ...working... done\n",
            "\n",
            "# All requested packages already installed.\n",
            "\n"
          ]
        }
      ],
      "source": [
        "!pip install -q condacolab\n",
        "import condacolab\n",
        "condacolab.install()\n",
        "!conda install -c conda-forge -c https://software.repos.intel.com/python/conda -c ccpi cil=25.0.0 astra-toolbox ccpi-regulariser tomophantom \"ipywidgets<8\" --quiet"
      ]
    },
    {
      "cell_type": "code",
      "source": [
        "import sys\n",
        "\n",
        "sys.path.append(\"/usr/local/lib/python3.11/site-packages\")\n",
        "import cil\n",
        "print(\"CIL version:\", cil.__version__)"
      ],
      "metadata": {
        "colab": {
          "base_uri": "https://localhost:8080/"
        },
        "id": "IC77cDFRlIze",
        "outputId": "3711744e-8a4d-409e-b03d-b072d659d4c0"
      },
      "execution_count": 2,
      "outputs": [
        {
          "output_type": "stream",
          "name": "stdout",
          "text": [
            "CIL version: 25.0.0\n"
          ]
        }
      ]
    },
    {
      "cell_type": "code",
      "execution_count": null,
      "metadata": {
        "id": "YAsOEkqAaDvW"
      },
      "outputs": [],
      "source": [
        "# -*- coding: utf-8 -*-\n",
        "#  Copyright 2019 - 2024 United Kingdom Research and Innovation\n",
        "#  Copyright 2019 - 2022 The University of Manchester\n",
        "#  Copyright 2019 - 2024 Technical University of Denmark\n",
        "#\n",
        "#  Licensed under the Apache License, Version 2.0 (the \"License\");\n",
        "#  you may not use this file except in compliance with the License.\n",
        "#  You may obtain a copy of the License at\n",
        "#\n",
        "#      http://www.apache.org/licenses/LICENSE-2.0\n",
        "#\n",
        "#  Unless required by applicable law or agreed to in writing, software\n",
        "#  distributed under the License is distributed on an \"AS IS\" BASIS,\n",
        "#  WITHOUT WARRANTIES OR CONDITIONS OF ANY KIND, either express or implied.\n",
        "#  See the License for the specific language governing permissions and\n",
        "#  limitations under the License.\n",
        "#\n",
        "#   Authored by:    Jakob S. Jørgensen (DTU)\n",
        "#                   Gemma Fardell (UKRI-STFC)\n",
        "#                   Laura Murgatroyd (UKRI-STFC)\n",
        "#                   Margaret Duff (UKRI-STFC)\n",
        "#                   Hannah Robarts (UKRI-STFC)"
      ]
    },
    {
      "cell_type": "markdown",
      "metadata": {
        "id": "bvS3l_nyaDvY"
      },
      "source": [
        "# Demo of optimisation-based reconstruction in CIL\n",
        "\n",
        "### The case is a 3D parallel-beam synchrotron dataset of a steel wire.\n",
        "\n",
        "This exercise introduces you to regularised reconstructions. By using prior knowledge of the sample we can choose the most suitable regulariser for the problem. As we introduce different priors we need to use different algorithms to solve the optimisation problem.\n",
        "\n",
        "Learning objectives are:\n",
        "- Load a dataset and reconstruct with FBP\n",
        "- Set-up a least-squares problem to solve using CIL's algorithms, a projection operator and objective function\n",
        "- Add regularisation to the least-squares problem and compare the results: Tikhonov, Non-negativity, L1-Norm, Total-Variation\n",
        "- Solve the optimisation problem with the appropriate algorithm: Gradient Descent, FISTA, PDHG\n"
      ]
    },
    {
      "cell_type": "markdown",
      "metadata": {
        "id": "ZTLNDEVAaDvY"
      },
      "source": [
        "First we import everything we need:"
      ]
    },
    {
      "cell_type": "code",
      "source": [
        "# Import algorithms, operators and functions from CIL optimisation module\n",
        "from cil.optimisation.algorithms import GD, FISTA, PDHG\n",
        "from cil.optimisation.operators import BlockOperator, GradientOperator,\\\n",
        "                                       GradientOperator\n",
        "from cil.optimisation.functions import IndicatorBox, MixedL21Norm, L2NormSquared, \\\n",
        "                                       BlockFunction, L1Norm, LeastSquares, \\\n",
        "                                       OperatorCompositionFunction, TotalVariation \\\n",
        "\n",
        "# Import CIL Processors for preprocessing\n",
        "from cil.processors import CentreOfRotationCorrector, Slicer, TransmissionAbsorptionConverter\n",
        "\n",
        "# Import CIL display function\n",
        "from cil.utilities.display import show2D"
      ],
      "metadata": {
        "id": "jxCHETvOc5RP",
        "outputId": "f5874469-fb92-4d95-be3f-7788fe57dbbf",
        "colab": {
          "base_uri": "https://localhost:8080/"
        }
      },
      "execution_count": 3,
      "outputs": [
        {
          "output_type": "stream",
          "name": "stderr",
          "text": [
            "/usr/local/lib/python3.11/site-packages/cil/optimisation/utilities/callbacks.py:180: SyntaxWarning: invalid escape sequence '\\e'\n",
            "  '''Callback to work with CGLS. It causes the algorithm to terminate if  :math:`||A^T(Ax-b)||_2 < \\epsilon||A^T(Ax_0-b)||_2` where `epsilon` is set to default as '1e-6', :math:`x` is the current iterate and :math:`x_0` is the initial value.\n",
            "/usr/local/lib/python3.11/site-packages/cil/optimisation/algorithms/SIRT.py:140: SyntaxWarning: invalid escape sequence '\\o'\n",
            "  \"\"\"Get the relaxation parameter :math:`\\omega`\"\"\"\n",
            "/usr/local/lib/python3.11/site-packages/cil/optimisation/algorithms/SIRT.py:149: SyntaxWarning: invalid escape sequence '\\o'\n",
            "  \"\"\"Set the relaxation parameter :math:`\\omega`\n",
            "/usr/local/lib/python3.11/site-packages/cil/optimisation/functions/Function.py:268: SyntaxWarning: invalid escape sequence '\\s'\n",
            "  .. math:: L = \\sum_{i} L_{i}\n",
            "/usr/local/lib/python3.11/site-packages/cil/optimisation/functions/Function.py:294: SyntaxWarning: invalid escape sequence '\\m'\n",
            "  .. math:: L = \\max_{i}\\{L_{i}\\}\n",
            "/usr/local/lib/python3.11/site-packages/cil/optimisation/operators/DiagonalOperator.py:53: SyntaxWarning: invalid escape sequence '\\c'\n",
            "  \"Returns :math:`D\\circ x` \"\n",
            "/usr/local/lib/python3.11/site-packages/cil/optimisation/operators/DiagonalOperator.py:61: SyntaxWarning: invalid escape sequence '\\c'\n",
            "  \"Returns :math:`D^*\\circ x` \"\n",
            "/usr/local/lib/python3.11/site-packages/cil/optimisation/functions/OperatorCompositionFunction.py:26: SyntaxWarning: invalid escape sequence '\\c'\n",
            "  \"\"\" Composition of a function with an operator as : :math:`(F \\circ A)(x) = F(Ax)`\n",
            "/usr/local/lib/python3.11/site-packages/cil/optimisation/functions/MixedL21Norm.py:96: SyntaxWarning: invalid escape sequence '\\s'\n",
            "  \"\"\" MixedL21Norm function: :math:`F(x) = ||x||_{2,1} = \\sum |x|_{2} = \\sum \\sqrt{ (x^{1})^{2} + (x^{2})^{2} + \\dots}`\n",
            "/usr/local/lib/python3.11/site-packages/cil/optimisation/functions/MixedL21Norm.py:177: SyntaxWarning: invalid escape sequence '\\s'\n",
            "  \"\"\" SmoothMixedL21Norm function: :math:`F(x) = ||x||_{2,1} = \\sum |x|_{2} = \\sum \\sqrt{ (x^{1})^{2} + (x^{2})^{2} + \\epsilon^2 + \\dots}`\n",
            "/usr/local/lib/python3.11/site-packages/cil/optimisation/functions/SVRGFunction.py:159: SyntaxWarning: invalid escape sequence '\\s'\n",
            "  Takes a \"snapshot\" at the point :math:`x`, saving both the point :math:`\\tilde{x}=x` and its gradient :math:`\\sum_{i=0}^{n-1}f_i{\\tilde{x}}`. The function returns :math:`\\sum_{i=0}^{n-1}f_i{\\tilde{x}}` as the gradient calculation. If :code:`store_gradients==True`, the gradient of all the :math:`f_i`s is computed and stored at the \"snapshot\"..\n",
            "/usr/local/lib/python3.11/site-packages/cil/optimisation/algorithms/APGD.py:100: SyntaxWarning: invalid escape sequence '\\d'\n",
            "  .. math:: t_{k+1}=\\dfrac{1}{2}(1+\\sqrt{1+4t_{k}^2})\n"
          ]
        }
      ]
    },
    {
      "cell_type": "code",
      "execution_count": 4,
      "metadata": {
        "colab": {
          "base_uri": "https://localhost:8080/",
          "height": 477
        },
        "id": "F6joqxwkaDvY",
        "outputId": "f8af2f66-8dab-4fb9-d616-e185abe4ae36"
      },
      "outputs": [
        {
          "output_type": "error",
          "ename": "ImportError",
          "evalue": "cannot import name 'astra_c' from partially initialized module 'astra' (most likely due to a circular import) (/usr/local/lib/python3.11/site-packages/astra/__init__.py)",
          "traceback": [
            "\u001b[0;31m---------------------------------------------------------------------------\u001b[0m",
            "\u001b[0;31mImportError\u001b[0m                               Traceback (most recent call last)",
            "\u001b[0;32m/tmp/ipython-input-1774729763.py\u001b[0m in \u001b[0;36m<cell line: 0>\u001b[0;34m()\u001b[0m\n\u001b[1;32m      1\u001b[0m \u001b[0;31m# Import from CIL ASTRA plugin\u001b[0m\u001b[0;34m\u001b[0m\u001b[0;34m\u001b[0m\u001b[0m\n\u001b[0;32m----> 2\u001b[0;31m \u001b[0;32mfrom\u001b[0m \u001b[0mcil\u001b[0m\u001b[0;34m.\u001b[0m\u001b[0mplugins\u001b[0m\u001b[0;34m.\u001b[0m\u001b[0mastra\u001b[0m \u001b[0;32mimport\u001b[0m \u001b[0mProjectionOperator\u001b[0m\u001b[0;34m\u001b[0m\u001b[0;34m\u001b[0m\u001b[0m\n\u001b[0m",
            "\u001b[0;32m/usr/local/lib/python3.11/site-packages/cil/plugins/astra/__init__.py\u001b[0m in \u001b[0;36m<module>\u001b[0;34m\u001b[0m\n\u001b[1;32m     17\u001b[0m \u001b[0;31m# CIL Developers, listed at: https://github.com/TomographicImaging/CIL/blob/master/NOTICE.txt\u001b[0m\u001b[0;34m\u001b[0m\u001b[0;34m\u001b[0m\u001b[0m\n\u001b[1;32m     18\u001b[0m \u001b[0;34m\u001b[0m\u001b[0m\n\u001b[0;32m---> 19\u001b[0;31m \u001b[0;32mfrom\u001b[0m \u001b[0;34m.\u001b[0m\u001b[0moperators\u001b[0m \u001b[0;32mimport\u001b[0m \u001b[0mProjectionOperator\u001b[0m\u001b[0;34m\u001b[0m\u001b[0;34m\u001b[0m\u001b[0m\n\u001b[0m\u001b[1;32m     20\u001b[0m \u001b[0;32mfrom\u001b[0m \u001b[0;34m.\u001b[0m\u001b[0mprocessors\u001b[0m \u001b[0;32mimport\u001b[0m \u001b[0mFBP\u001b[0m\u001b[0;34m\u001b[0m\u001b[0;34m\u001b[0m\u001b[0m\n",
            "\u001b[0;32m/usr/local/lib/python3.11/site-packages/cil/plugins/astra/operators/__init__.py\u001b[0m in \u001b[0;36m<module>\u001b[0;34m\u001b[0m\n\u001b[1;32m     18\u001b[0m \u001b[0;34m\u001b[0m\u001b[0m\n\u001b[1;32m     19\u001b[0m \u001b[0;34m\u001b[0m\u001b[0m\n\u001b[0;32m---> 20\u001b[0;31m \u001b[0;32mfrom\u001b[0m \u001b[0;34m.\u001b[0m\u001b[0mAstraProjector2D\u001b[0m \u001b[0;32mimport\u001b[0m \u001b[0mAstraProjector2D\u001b[0m\u001b[0;34m\u001b[0m\u001b[0;34m\u001b[0m\u001b[0m\n\u001b[0m\u001b[1;32m     21\u001b[0m \u001b[0;32mfrom\u001b[0m \u001b[0;34m.\u001b[0m\u001b[0mAstraProjector3D\u001b[0m \u001b[0;32mimport\u001b[0m \u001b[0mAstraProjector3D\u001b[0m\u001b[0;34m\u001b[0m\u001b[0;34m\u001b[0m\u001b[0m\n\u001b[1;32m     22\u001b[0m \u001b[0;32mfrom\u001b[0m \u001b[0;34m.\u001b[0m\u001b[0mProjectionOperator\u001b[0m \u001b[0;32mimport\u001b[0m \u001b[0mProjectionOperator\u001b[0m\u001b[0;34m\u001b[0m\u001b[0;34m\u001b[0m\u001b[0m\n",
            "\u001b[0;32m/usr/local/lib/python3.11/site-packages/cil/plugins/astra/operators/AstraProjector2D.py\u001b[0m in \u001b[0;36m<module>\u001b[0;34m\u001b[0m\n\u001b[1;32m     19\u001b[0m \u001b[0;34m\u001b[0m\u001b[0m\n\u001b[1;32m     20\u001b[0m \u001b[0;32mfrom\u001b[0m \u001b[0mcil\u001b[0m\u001b[0;34m.\u001b[0m\u001b[0moptimisation\u001b[0m\u001b[0;34m.\u001b[0m\u001b[0moperators\u001b[0m \u001b[0;32mimport\u001b[0m \u001b[0mLinearOperator\u001b[0m\u001b[0;34m\u001b[0m\u001b[0;34m\u001b[0m\u001b[0m\n\u001b[0;32m---> 21\u001b[0;31m \u001b[0;32mfrom\u001b[0m \u001b[0mcil\u001b[0m\u001b[0;34m.\u001b[0m\u001b[0mplugins\u001b[0m\u001b[0;34m.\u001b[0m\u001b[0mastra\u001b[0m\u001b[0;34m.\u001b[0m\u001b[0mprocessors\u001b[0m \u001b[0;32mimport\u001b[0m \u001b[0mAstraForwardProjector2D\u001b[0m\u001b[0;34m,\u001b[0m \u001b[0mAstraBackProjector2D\u001b[0m\u001b[0;34m\u001b[0m\u001b[0;34m\u001b[0m\u001b[0m\n\u001b[0m\u001b[1;32m     22\u001b[0m \u001b[0;34m\u001b[0m\u001b[0m\n\u001b[1;32m     23\u001b[0m \u001b[0;34m\u001b[0m\u001b[0m\n",
            "\u001b[0;32m/usr/local/lib/python3.11/site-packages/cil/plugins/astra/processors/__init__.py\u001b[0m in \u001b[0;36m<module>\u001b[0;34m\u001b[0m\n\u001b[1;32m     18\u001b[0m \u001b[0;34m\u001b[0m\u001b[0m\n\u001b[1;32m     19\u001b[0m \u001b[0;34m\u001b[0m\u001b[0m\n\u001b[0;32m---> 20\u001b[0;31m \u001b[0;32mfrom\u001b[0m \u001b[0;34m.\u001b[0m\u001b[0mAstraForwardProjector2D\u001b[0m \u001b[0;32mimport\u001b[0m \u001b[0mAstraForwardProjector2D\u001b[0m\u001b[0;34m\u001b[0m\u001b[0;34m\u001b[0m\u001b[0m\n\u001b[0m\u001b[1;32m     21\u001b[0m \u001b[0;32mfrom\u001b[0m \u001b[0;34m.\u001b[0m\u001b[0mAstraBackProjector2D\u001b[0m \u001b[0;32mimport\u001b[0m \u001b[0mAstraBackProjector2D\u001b[0m\u001b[0;34m\u001b[0m\u001b[0;34m\u001b[0m\u001b[0m\n\u001b[1;32m     22\u001b[0m \u001b[0;32mfrom\u001b[0m \u001b[0;34m.\u001b[0m\u001b[0mAstraForwardProjector3D\u001b[0m \u001b[0;32mimport\u001b[0m \u001b[0mAstraForwardProjector3D\u001b[0m\u001b[0;34m\u001b[0m\u001b[0;34m\u001b[0m\u001b[0m\n",
            "\u001b[0;32m/usr/local/lib/python3.11/site-packages/cil/plugins/astra/processors/AstraForwardProjector2D.py\u001b[0m in \u001b[0;36m<module>\u001b[0;34m\u001b[0m\n\u001b[1;32m     19\u001b[0m \u001b[0;34m\u001b[0m\u001b[0m\n\u001b[1;32m     20\u001b[0m \u001b[0;32mfrom\u001b[0m \u001b[0mcil\u001b[0m\u001b[0;34m.\u001b[0m\u001b[0mframework\u001b[0m \u001b[0;32mimport\u001b[0m \u001b[0mDataProcessor\u001b[0m\u001b[0;34m,\u001b[0m \u001b[0mAcquisitionData\u001b[0m\u001b[0;34m\u001b[0m\u001b[0;34m\u001b[0m\u001b[0m\n\u001b[0;32m---> 21\u001b[0;31m \u001b[0;32mfrom\u001b[0m \u001b[0mcil\u001b[0m\u001b[0;34m.\u001b[0m\u001b[0mplugins\u001b[0m\u001b[0;34m.\u001b[0m\u001b[0mastra\u001b[0m\u001b[0;34m.\u001b[0m\u001b[0mutilities\u001b[0m \u001b[0;32mimport\u001b[0m \u001b[0mconvert_geometry_to_astra_vec_2D\u001b[0m\u001b[0;34m\u001b[0m\u001b[0;34m\u001b[0m\u001b[0m\n\u001b[0m\u001b[1;32m     22\u001b[0m \u001b[0;32mimport\u001b[0m \u001b[0mastra\u001b[0m\u001b[0;34m\u001b[0m\u001b[0;34m\u001b[0m\u001b[0m\n\u001b[1;32m     23\u001b[0m \u001b[0;32mimport\u001b[0m \u001b[0mnumpy\u001b[0m \u001b[0;32mas\u001b[0m \u001b[0mnp\u001b[0m\u001b[0;34m\u001b[0m\u001b[0;34m\u001b[0m\u001b[0m\n",
            "\u001b[0;32m/usr/local/lib/python3.11/site-packages/cil/plugins/astra/utilities/__init__.py\u001b[0m in \u001b[0;36m<module>\u001b[0;34m\u001b[0m\n\u001b[1;32m     18\u001b[0m \u001b[0;34m\u001b[0m\u001b[0m\n\u001b[1;32m     19\u001b[0m \u001b[0;34m\u001b[0m\u001b[0m\n\u001b[0;32m---> 20\u001b[0;31m \u001b[0;32mfrom\u001b[0m \u001b[0;34m.\u001b[0m\u001b[0mconvert_geometry_to_astra\u001b[0m \u001b[0;32mimport\u001b[0m \u001b[0mconvert_geometry_to_astra\u001b[0m\u001b[0;34m\u001b[0m\u001b[0;34m\u001b[0m\u001b[0m\n\u001b[0m\u001b[1;32m     21\u001b[0m \u001b[0;32mfrom\u001b[0m \u001b[0;34m.\u001b[0m\u001b[0mconvert_geometry_to_astra_vec_3D\u001b[0m \u001b[0;32mimport\u001b[0m \u001b[0mconvert_geometry_to_astra_vec_3D\u001b[0m\u001b[0;34m\u001b[0m\u001b[0;34m\u001b[0m\u001b[0m\n\u001b[1;32m     22\u001b[0m \u001b[0;32mfrom\u001b[0m \u001b[0;34m.\u001b[0m\u001b[0mconvert_geometry_to_astra_vec_2D\u001b[0m \u001b[0;32mimport\u001b[0m \u001b[0mconvert_geometry_to_astra_vec_2D\u001b[0m\u001b[0;34m\u001b[0m\u001b[0;34m\u001b[0m\u001b[0m\n",
            "\u001b[0;32m/usr/local/lib/python3.11/site-packages/cil/plugins/astra/utilities/convert_geometry_to_astra.py\u001b[0m in \u001b[0;36m<module>\u001b[0;34m\u001b[0m\n\u001b[1;32m     18\u001b[0m \u001b[0;34m\u001b[0m\u001b[0m\n\u001b[1;32m     19\u001b[0m \u001b[0;34m\u001b[0m\u001b[0m\n\u001b[0;32m---> 20\u001b[0;31m \u001b[0;32mimport\u001b[0m \u001b[0mastra\u001b[0m\u001b[0;34m\u001b[0m\u001b[0;34m\u001b[0m\u001b[0m\n\u001b[0m\u001b[1;32m     21\u001b[0m \u001b[0;32mimport\u001b[0m \u001b[0mnumpy\u001b[0m \u001b[0;32mas\u001b[0m \u001b[0mnp\u001b[0m\u001b[0;34m\u001b[0m\u001b[0;34m\u001b[0m\u001b[0m\n\u001b[1;32m     22\u001b[0m \u001b[0;32mfrom\u001b[0m \u001b[0mcil\u001b[0m\u001b[0;34m.\u001b[0m\u001b[0mframework\u001b[0m\u001b[0;34m.\u001b[0m\u001b[0mlabels\u001b[0m \u001b[0;32mimport\u001b[0m \u001b[0mAcquisitionType\u001b[0m\u001b[0;34m,\u001b[0m \u001b[0mAngleUnit\u001b[0m\u001b[0;34m\u001b[0m\u001b[0;34m\u001b[0m\u001b[0m\n",
            "\u001b[0;32m/usr/local/lib/python3.11/site-packages/astra/__init__.py\u001b[0m in \u001b[0;36m<module>\u001b[0;34m\u001b[0m\n\u001b[1;32m     24\u001b[0m \u001b[0;31m# -----------------------------------------------------------------------\u001b[0m\u001b[0;34m\u001b[0m\u001b[0;34m\u001b[0m\u001b[0m\n\u001b[1;32m     25\u001b[0m \u001b[0;34m\u001b[0m\u001b[0m\n\u001b[0;32m---> 26\u001b[0;31m \u001b[0;32mfrom\u001b[0m \u001b[0;34m.\u001b[0m \u001b[0;32mimport\u001b[0m \u001b[0mmatlab\u001b[0m \u001b[0;32mas\u001b[0m \u001b[0mm\u001b[0m\u001b[0;34m\u001b[0m\u001b[0;34m\u001b[0m\u001b[0m\n\u001b[0m\u001b[1;32m     27\u001b[0m \u001b[0;32mfrom\u001b[0m \u001b[0;34m.\u001b[0m\u001b[0mcreators\u001b[0m \u001b[0;32mimport\u001b[0m \u001b[0mastra_dict\u001b[0m\u001b[0;34m,\u001b[0m\u001b[0mcreate_vol_geom\u001b[0m\u001b[0;34m,\u001b[0m \u001b[0mcreate_proj_geom\u001b[0m\u001b[0;34m,\u001b[0m \u001b[0mcreate_backprojection\u001b[0m\u001b[0;34m,\u001b[0m \u001b[0mcreate_sino\u001b[0m\u001b[0;34m,\u001b[0m \u001b[0mcreate_reconstruction\u001b[0m\u001b[0;34m,\u001b[0m \u001b[0mcreate_projector\u001b[0m\u001b[0;34m,\u001b[0m\u001b[0mcreate_sino3d_gpu\u001b[0m\u001b[0;34m,\u001b[0m \u001b[0mcreate_backprojection3d_gpu\u001b[0m\u001b[0;34m\u001b[0m\u001b[0;34m\u001b[0m\u001b[0m\n\u001b[1;32m     28\u001b[0m \u001b[0;32mfrom\u001b[0m \u001b[0;34m.\u001b[0m\u001b[0mfunctions\u001b[0m \u001b[0;32mimport\u001b[0m \u001b[0mdata_op\u001b[0m\u001b[0;34m,\u001b[0m \u001b[0madd_noise_to_sino\u001b[0m\u001b[0;34m,\u001b[0m \u001b[0mclear\u001b[0m\u001b[0;34m,\u001b[0m \u001b[0mmove_vol_geom\u001b[0m\u001b[0;34m,\u001b[0m \u001b[0mgeom_size\u001b[0m\u001b[0;34m,\u001b[0m \u001b[0mgeom_2vec\u001b[0m\u001b[0;34m,\u001b[0m \u001b[0mgeom_postalignment\u001b[0m\u001b[0;34m\u001b[0m\u001b[0;34m\u001b[0m\u001b[0m\n",
            "\u001b[0;32m/usr/local/lib/python3.11/site-packages/astra/matlab.py\u001b[0m in \u001b[0;36m<module>\u001b[0;34m\u001b[0m\n\u001b[1;32m     36\u001b[0m \"\"\"\n\u001b[1;32m     37\u001b[0m \u001b[0;34m\u001b[0m\u001b[0m\n\u001b[0;32m---> 38\u001b[0;31m \u001b[0;32mfrom\u001b[0m \u001b[0;34m.\u001b[0m \u001b[0;32mimport\u001b[0m \u001b[0mastra_c\u001b[0m\u001b[0;34m\u001b[0m\u001b[0;34m\u001b[0m\u001b[0m\n\u001b[0m\u001b[1;32m     39\u001b[0m \u001b[0;32mfrom\u001b[0m \u001b[0;34m.\u001b[0m \u001b[0;32mimport\u001b[0m \u001b[0mdata2d_c\u001b[0m\u001b[0;34m\u001b[0m\u001b[0;34m\u001b[0m\u001b[0m\n\u001b[1;32m     40\u001b[0m \u001b[0;32mfrom\u001b[0m \u001b[0;34m.\u001b[0m \u001b[0;32mimport\u001b[0m \u001b[0mdata3d_c\u001b[0m\u001b[0;34m\u001b[0m\u001b[0;34m\u001b[0m\u001b[0m\n",
            "\u001b[0;31mImportError\u001b[0m: cannot import name 'astra_c' from partially initialized module 'astra' (most likely due to a circular import) (/usr/local/lib/python3.11/site-packages/astra/__init__.py)",
            "",
            "\u001b[0;31m---------------------------------------------------------------------------\u001b[0;32m\nNOTE: If your import is failing due to a missing package, you can\nmanually install dependencies using either !pip or !apt.\n\nTo view examples of installing some common dependencies, click the\n\"Open Examples\" button below.\n\u001b[0;31m---------------------------------------------------------------------------\u001b[0m\n"
          ],
          "errorDetails": {
            "actions": [
              {
                "action": "open_url",
                "actionText": "Open Examples",
                "url": "/notebooks/snippets/importing_libraries.ipynb"
              }
            ]
          }
        }
      ],
      "source": [
        "\n",
        "# Import from CIL ASTRA plugin\n",
        "from cil.plugins.astra import ProjectionOperator"
      ]
    },
    {
      "cell_type": "code",
      "source": [
        "# Import FBP from CIL recon class\n",
        "from cil.recon import FBP"
      ],
      "metadata": {
        "id": "fLcrV1Hr7PXi"
      },
      "execution_count": 5,
      "outputs": []
    },
    {
      "cell_type": "code",
      "source": [
        "#Import Total Variation from the regularisation toolkit plugin\n",
        "from cil.plugins.ccpi_regularisation.functions import FGP_TV\n",
        "\n",
        "# All external imports\n",
        "import matplotlib.pyplot as plt\n",
        "import math\n",
        "\n",
        "import warnings\n",
        "warnings.filterwarnings(\"ignore\", category=DeprecationWarning)"
      ],
      "metadata": {
        "id": "nmPTRQHYdDS_"
      },
      "execution_count": 6,
      "outputs": []
    },
    {
      "cell_type": "markdown",
      "metadata": {
        "id": "juCR9T_yaDvZ"
      },
      "source": [
        "## Load, pre-process and reconstruct the data using FBP"
      ]
    },
    {
      "cell_type": "markdown",
      "metadata": {
        "id": "SYpzS_5DaDvZ"
      },
      "source": [
        "Exactly as in the notebook [1_Introduction/03_preprocessing](../1_Introduction/03_preprocessing.ipynb), we load the steel-wire demonstration data provided as part of CIL, carry out some preprocessing and FBP reconstructions for reference:"
      ]
    },
    {
      "cell_type": "code",
      "source": [
        "# Load the example data set\n",
        "from cil.utilities.dataexample import SYNCHROTRON_PARALLEL_BEAM_DATA\n",
        "data_sync = SYNCHROTRON_PARALLEL_BEAM_DATA.get()"
      ],
      "metadata": {
        "id": "pZYUBzVi8OM2",
        "outputId": "ff995c26-5880-4bb7-944b-8b7847ca3a51",
        "colab": {
          "base_uri": "https://localhost:8080/",
          "height": 356
        }
      },
      "execution_count": 8,
      "outputs": [
        {
          "output_type": "error",
          "ename": "Exception",
          "evalue": "File\n /usr/share/cil/24737_fd_normalised.nxs\n does not exist.",
          "traceback": [
            "\u001b[0;31m---------------------------------------------------------------------------\u001b[0m",
            "\u001b[0;31mException\u001b[0m                                 Traceback (most recent call last)",
            "\u001b[0;32m/tmp/ipython-input-971208710.py\u001b[0m in \u001b[0;36m<cell line: 0>\u001b[0;34m()\u001b[0m\n\u001b[1;32m      1\u001b[0m \u001b[0;31m# Load the example data set\u001b[0m\u001b[0;34m\u001b[0m\u001b[0;34m\u001b[0m\u001b[0m\n\u001b[1;32m      2\u001b[0m \u001b[0;32mfrom\u001b[0m \u001b[0mcil\u001b[0m\u001b[0;34m.\u001b[0m\u001b[0mutilities\u001b[0m\u001b[0;34m.\u001b[0m\u001b[0mdataexample\u001b[0m \u001b[0;32mimport\u001b[0m \u001b[0mSYNCHROTRON_PARALLEL_BEAM_DATA\u001b[0m\u001b[0;34m\u001b[0m\u001b[0;34m\u001b[0m\u001b[0m\n\u001b[0;32m----> 3\u001b[0;31m \u001b[0mdata_sync\u001b[0m \u001b[0;34m=\u001b[0m \u001b[0mSYNCHROTRON_PARALLEL_BEAM_DATA\u001b[0m\u001b[0;34m.\u001b[0m\u001b[0mget\u001b[0m\u001b[0;34m(\u001b[0m\u001b[0;34m)\u001b[0m\u001b[0;34m\u001b[0m\u001b[0;34m\u001b[0m\u001b[0m\n\u001b[0m",
            "\u001b[0;32m/usr/local/lib/python3.11/site-packages/cil/utilities/dataexample.py\u001b[0m in \u001b[0;36mget\u001b[0;34m(cls, **kwargs)\u001b[0m\n\u001b[1;32m    133\u001b[0m         \u001b[0mddir\u001b[0m \u001b[0;34m=\u001b[0m \u001b[0mkwargs\u001b[0m\u001b[0;34m.\u001b[0m\u001b[0mget\u001b[0m\u001b[0;34m(\u001b[0m\u001b[0;34m'data_dir'\u001b[0m\u001b[0;34m,\u001b[0m \u001b[0mCILDATA\u001b[0m\u001b[0;34m.\u001b[0m\u001b[0mdata_dir\u001b[0m\u001b[0;34m)\u001b[0m\u001b[0;34m\u001b[0m\u001b[0;34m\u001b[0m\u001b[0m\n\u001b[1;32m    134\u001b[0m         \u001b[0mloader\u001b[0m \u001b[0;34m=\u001b[0m \u001b[0mNEXUSDataReader\u001b[0m\u001b[0;34m(\u001b[0m\u001b[0;34m)\u001b[0m\u001b[0;34m\u001b[0m\u001b[0;34m\u001b[0m\u001b[0m\n\u001b[0;32m--> 135\u001b[0;31m         \u001b[0mloader\u001b[0m\u001b[0;34m.\u001b[0m\u001b[0mset_up\u001b[0m\u001b[0;34m(\u001b[0m\u001b[0mfile_name\u001b[0m\u001b[0;34m=\u001b[0m\u001b[0mos\u001b[0m\u001b[0;34m.\u001b[0m\u001b[0mpath\u001b[0m\u001b[0;34m.\u001b[0m\u001b[0mjoin\u001b[0m\u001b[0;34m(\u001b[0m\u001b[0mos\u001b[0m\u001b[0;34m.\u001b[0m\u001b[0mpath\u001b[0m\u001b[0;34m.\u001b[0m\u001b[0mabspath\u001b[0m\u001b[0;34m(\u001b[0m\u001b[0mddir\u001b[0m\u001b[0;34m)\u001b[0m\u001b[0;34m,\u001b[0m \u001b[0;34m'24737_fd_normalised.nxs'\u001b[0m\u001b[0;34m)\u001b[0m\u001b[0;34m)\u001b[0m\u001b[0;34m\u001b[0m\u001b[0;34m\u001b[0m\u001b[0m\n\u001b[0m\u001b[1;32m    136\u001b[0m         \u001b[0;32mreturn\u001b[0m \u001b[0mloader\u001b[0m\u001b[0;34m.\u001b[0m\u001b[0mread\u001b[0m\u001b[0;34m(\u001b[0m\u001b[0;34m)\u001b[0m\u001b[0;34m\u001b[0m\u001b[0;34m\u001b[0m\u001b[0m\n\u001b[1;32m    137\u001b[0m \u001b[0;32mclass\u001b[0m \u001b[0mSIMULATED_PARALLEL_BEAM_DATA\u001b[0m\u001b[0;34m(\u001b[0m\u001b[0mCILDATA\u001b[0m\u001b[0;34m)\u001b[0m\u001b[0;34m:\u001b[0m\u001b[0;34m\u001b[0m\u001b[0;34m\u001b[0m\u001b[0m\n",
            "\u001b[0;32m/usr/local/lib/python3.11/site-packages/cil/io/NEXUSDataReader.py\u001b[0m in \u001b[0;36mset_up\u001b[0;34m(self, file_name)\u001b[0m\n\u001b[1;32m     69\u001b[0m         \u001b[0;31m# check if nexus file exists\u001b[0m\u001b[0;34m\u001b[0m\u001b[0;34m\u001b[0m\u001b[0m\n\u001b[1;32m     70\u001b[0m         \u001b[0;32mif\u001b[0m \u001b[0;32mnot\u001b[0m\u001b[0;34m(\u001b[0m\u001b[0mos\u001b[0m\u001b[0;34m.\u001b[0m\u001b[0mpath\u001b[0m\u001b[0;34m.\u001b[0m\u001b[0misfile\u001b[0m\u001b[0;34m(\u001b[0m\u001b[0mself\u001b[0m\u001b[0;34m.\u001b[0m\u001b[0mfile_name\u001b[0m\u001b[0;34m)\u001b[0m\u001b[0;34m)\u001b[0m\u001b[0;34m:\u001b[0m\u001b[0;34m\u001b[0m\u001b[0;34m\u001b[0m\u001b[0m\n\u001b[0;32m---> 71\u001b[0;31m             \u001b[0;32mraise\u001b[0m \u001b[0mException\u001b[0m\u001b[0;34m(\u001b[0m\u001b[0;34m'File\\n {}\\n does not exist.'\u001b[0m\u001b[0;34m.\u001b[0m\u001b[0mformat\u001b[0m\u001b[0;34m(\u001b[0m\u001b[0mself\u001b[0m\u001b[0;34m.\u001b[0m\u001b[0mfile_name\u001b[0m\u001b[0;34m)\u001b[0m\u001b[0;34m)\u001b[0m\u001b[0;34m\u001b[0m\u001b[0;34m\u001b[0m\u001b[0m\n\u001b[0m\u001b[1;32m     72\u001b[0m \u001b[0;34m\u001b[0m\u001b[0m\n\u001b[1;32m     73\u001b[0m         \u001b[0mself\u001b[0m\u001b[0;34m.\u001b[0m\u001b[0m_geometry\u001b[0m \u001b[0;34m=\u001b[0m \u001b[0;32mNone\u001b[0m\u001b[0;34m\u001b[0m\u001b[0;34m\u001b[0m\u001b[0m\n",
            "\u001b[0;31mException\u001b[0m: File\n /usr/share/cil/24737_fd_normalised.nxs\n does not exist."
          ]
        }
      ]
    },
    {
      "cell_type": "code",
      "execution_count": 9,
      "metadata": {
        "id": "YcNAuRgkaDvZ",
        "outputId": "c9368a00-36ff-4508-b1f4-e6e36d84737b",
        "colab": {
          "base_uri": "https://localhost:8080/",
          "height": 211
        }
      },
      "outputs": [
        {
          "output_type": "error",
          "ename": "NameError",
          "evalue": "name 'data_sync' is not defined",
          "traceback": [
            "\u001b[0;31m---------------------------------------------------------------------------\u001b[0m",
            "\u001b[0;31mNameError\u001b[0m                                 Traceback (most recent call last)",
            "\u001b[0;32m/tmp/ipython-input-3634902344.py\u001b[0m in \u001b[0;36m<cell line: 0>\u001b[0;34m()\u001b[0m\n\u001b[1;32m      1\u001b[0m \u001b[0;31m# Preprocessing\u001b[0m\u001b[0;34m\u001b[0m\u001b[0;34m\u001b[0m\u001b[0m\n\u001b[0;32m----> 2\u001b[0;31m \u001b[0mscale\u001b[0m \u001b[0;34m=\u001b[0m \u001b[0mdata_sync\u001b[0m\u001b[0;34m.\u001b[0m\u001b[0mget_slice\u001b[0m\u001b[0;34m(\u001b[0m\u001b[0mvertical\u001b[0m\u001b[0;34m=\u001b[0m\u001b[0;36m20\u001b[0m\u001b[0;34m)\u001b[0m\u001b[0;34m.\u001b[0m\u001b[0mmean\u001b[0m\u001b[0;34m(\u001b[0m\u001b[0;34m)\u001b[0m\u001b[0;34m\u001b[0m\u001b[0;34m\u001b[0m\u001b[0m\n\u001b[0m\u001b[1;32m      3\u001b[0m \u001b[0mdata_sync\u001b[0m \u001b[0;34m=\u001b[0m \u001b[0mdata_sync\u001b[0m\u001b[0;34m/\u001b[0m\u001b[0mscale\u001b[0m\u001b[0;34m\u001b[0m\u001b[0;34m\u001b[0m\u001b[0m\n\u001b[1;32m      4\u001b[0m \u001b[0mdata_sync\u001b[0m \u001b[0;34m=\u001b[0m \u001b[0mTransmissionAbsorptionConverter\u001b[0m\u001b[0;34m(\u001b[0m\u001b[0;34m)\u001b[0m\u001b[0;34m(\u001b[0m\u001b[0mdata_sync\u001b[0m\u001b[0;34m)\u001b[0m\u001b[0;34m\u001b[0m\u001b[0;34m\u001b[0m\u001b[0m\n\u001b[1;32m      5\u001b[0m \u001b[0mdata_sync\u001b[0m \u001b[0;34m=\u001b[0m \u001b[0mCentreOfRotationCorrector\u001b[0m\u001b[0;34m.\u001b[0m\u001b[0mxcorrelation\u001b[0m\u001b[0;34m(\u001b[0m\u001b[0mslice_index\u001b[0m\u001b[0;34m=\u001b[0m\u001b[0;34m'centre'\u001b[0m\u001b[0;34m)\u001b[0m\u001b[0;34m(\u001b[0m\u001b[0mdata_sync\u001b[0m\u001b[0;34m)\u001b[0m\u001b[0;34m\u001b[0m\u001b[0;34m\u001b[0m\u001b[0m\n",
            "\u001b[0;31mNameError\u001b[0m: name 'data_sync' is not defined"
          ]
        }
      ],
      "source": [
        "# Preprocessing\n",
        "scale = data_sync.get_slice(vertical=20).mean()\n",
        "data_sync = data_sync/scale\n",
        "data_sync = TransmissionAbsorptionConverter()(data_sync)\n",
        "data_sync = CentreOfRotationCorrector.xcorrelation(slice_index='centre')(data_sync)\n",
        "\n",
        "# Crop data and reorder for ASTRA backend\n",
        "data90 = Slicer(roi={'angle':(0,90),\n",
        "                     'horizontal':(20,140,1)})(data_sync)\n",
        "data90.reorder(order='astra')\n",
        "\n",
        "# Set up and run FBP for 90-angle dataset\n",
        "recon90 = FBP(data90, backend='astra').run(verbose=0)\n",
        "\n",
        "# Set up and run FBP for 15-angle dataset\n",
        "data15 = Slicer(roi={'angle': (0,90,6)})(data90)\n",
        "recon15 = FBP(data15, backend='astra').run(verbose=0)"
      ]
    },
    {
      "cell_type": "code",
      "execution_count": null,
      "metadata": {
        "id": "HXfg1ZrmaDvZ"
      },
      "outputs": [],
      "source": [
        "# Define custom parameters for show2D for visualizing all reconstructions consistently\n",
        "sx = 44\n",
        "sz = 103\n",
        "ca1 = -0.01\n",
        "ca2 =  0.11\n",
        "slices = [('horizontal_x',sx),('vertical',sz)]"
      ]
    },
    {
      "cell_type": "markdown",
      "metadata": {
        "id": "A-de2qEmaDvZ"
      },
      "source": [
        "Show a slice of the 90-degree FBP reconstruction:"
      ]
    },
    {
      "cell_type": "code",
      "execution_count": null,
      "metadata": {
        "id": "msZPfvwmaDva"
      },
      "outputs": [],
      "source": [
        "show2D(recon90,\n",
        "     slice_list=slices, cmap='inferno', fix_range=(ca1,ca2), origin='upper-left')"
      ]
    },
    {
      "cell_type": "markdown",
      "metadata": {
        "id": "HMixohyjaDva"
      },
      "source": [
        "And the 15-projection FBP reconstruction, which contains severe streak artifacts:"
      ]
    },
    {
      "cell_type": "code",
      "execution_count": null,
      "metadata": {
        "id": "KGk3MOapaDva"
      },
      "outputs": [],
      "source": [
        "show2D(recon15,\n",
        "     slice_list=slices, cmap='inferno', fix_range=(ca1,ca2), origin='upper-left')"
      ]
    },
    {
      "cell_type": "markdown",
      "metadata": {
        "id": "Tdrzop17aDva"
      },
      "source": [
        "## Use Gradient Descent to solve a Least Squares problem"
      ]
    },
    {
      "cell_type": "markdown",
      "metadata": {
        "id": "bHLVfEHXaDva"
      },
      "source": [
        "Optimisation-based reconstruction is based on a fully discretized model that is conventionally assumed to be linear:\n",
        "$$Au = b$$\n",
        "where $A$  is the linear operator known as the system matrix representing forward projection of an image to its sinogram, $b$ is the sinogram data, and $u$ is the unknown image to be reconstructed."
      ]
    },
    {
      "cell_type": "markdown",
      "metadata": {
        "id": "HOO06T7XaDva"
      },
      "source": [
        "The first thing we are going to need is the LinearOperator representing forward and back-projections. We set up the ProjectionOperator from the ASTRA plugin by passing the 15-projection acquisition geometry, and image geometry:"
      ]
    },
    {
      "cell_type": "code",
      "execution_count": null,
      "metadata": {
        "id": "Dc4jm4dcaDva"
      },
      "outputs": [],
      "source": [
        "ag = data15.geometry\n",
        "ig = ag.get_ImageGeometry()\n",
        "A = ProjectionOperator(ig, ag, device=\"gpu\")"
      ]
    },
    {
      "cell_type": "markdown",
      "metadata": {
        "id": "rLDkptO3aDva"
      },
      "source": [
        "We choose to work with the 15-projection dataset here and refer to it by `b` for convenience:"
      ]
    },
    {
      "cell_type": "code",
      "execution_count": null,
      "metadata": {
        "id": "OQxgwwK_aDvb"
      },
      "outputs": [],
      "source": [
        "b = data15"
      ]
    },
    {
      "cell_type": "markdown",
      "metadata": {
        "id": "HadoFYwwaDvb"
      },
      "source": [
        "Unfortunately, as we normally have noise, model errors and other inconsistencies in the data, we cannot expect a solution exists to $Au = b$.  We therefore relax the problem and aim to find a solution that is as close as possible to fitting the data. This is conventionally measured in a least-squares sense in that we solve the least-squares problem\n",
        "$$ \\min_u \\|Au - b \\|_2^2 $$\n",
        "where\n",
        "$$\\|y \\|_2^2 = \\sum_i y_i^2.$$\n",
        "The function that is to be minimized is called the objective function."
      ]
    },
    {
      "cell_type": "markdown",
      "metadata": {
        "id": "vBh0dm6aaDvb"
      },
      "source": [
        "The reconstruction is the image $u$ that is the solution to the optimisation problem, i.e., that results in the lowest possible value of the objective function, in this case of the (squared) residual norm $\\|Au - b \\|_2^2$. In order to find the solution we use an iterative optimisation algorithm. Many exist, perhaps the most basic one is the gradient descent method, which is available in CIL as the [`GD`](https://tomographicimaging.github.io/CIL/nightly/optimisation.html#gd) algorithm. To set it up we need to specify the objective function in terms of a CIL Function. For [`LeastSquares`](https://tomographicimaging.github.io/CIL/nightly/optimisation.html#least-squares) this is simply:"
      ]
    },
    {
      "cell_type": "code",
      "execution_count": null,
      "metadata": {
        "id": "_0N0GkyJaDvb"
      },
      "outputs": [],
      "source": [
        "f1 = LeastSquares(A, b)"
      ]
    },
    {
      "cell_type": "markdown",
      "metadata": {
        "id": "fJ1vqXwCaDvb"
      },
      "source": [
        "In iterative algorithms we must provide an initial point from which to start, here we choose the zero image."
      ]
    },
    {
      "cell_type": "code",
      "execution_count": null,
      "metadata": {
        "id": "iAtaG4CdaDvb"
      },
      "outputs": [],
      "source": [
        "x0 = ig.allocate(0.0)"
      ]
    },
    {
      "cell_type": "markdown",
      "metadata": {
        "id": "1kfJiqnnaDvb"
      },
      "source": [
        "`f1` is a CIL Function and CIL Functions can be evaluated for particular input images, for example we can evaluate it (which is the starting objective value of the optimisation problem)  for `x0`:"
      ]
    },
    {
      "cell_type": "code",
      "execution_count": null,
      "metadata": {
        "id": "uzYXid0aaDvb"
      },
      "outputs": [],
      "source": [
        "f1(x0)"
      ]
    },
    {
      "cell_type": "markdown",
      "metadata": {
        "id": "du-6JH3laDvc"
      },
      "source": [
        "CIL Functions provide a number of methods that are used by optimisation algorithms, most notably, if a function is smooth (continuously differentiable), then a CIL Function provides the `gradient` method using which the gradient of the function can be evaluated at a particular input image. For example we can evaluate the gradient at `x0` and since it contains an element for each voxel, we can display it as an image:"
      ]
    },
    {
      "cell_type": "code",
      "execution_count": null,
      "metadata": {
        "id": "vC7Q8yPeaDvc"
      },
      "outputs": [],
      "source": [
        "show2D(f1.gradient(x0),slice_list=slices,origin='upper-left')"
      ]
    },
    {
      "cell_type": "markdown",
      "metadata": {
        "id": "ccGyHfyqaDvc"
      },
      "source": [
        "To set up the gradient descent algorithm, we specify:\n",
        " - `initial` - the initial point\n",
        " - `f` - the objective function\n",
        " - `step_size` - whether to use a fixed step size or a back-tracking line search (None) or  a function that takes the initialised algorithm and returns a step size which can vary e.g. on objective value or iteration number. For more information see: https://tomographicimaging.github.io/CIL/nightly/optimisation/#step-size-methods.\n",
        " - `update_objective_interval` - how often to evaluate the objective function value\n",
        " - `preconditioner` (optional) a functional that takes a calculated gradient and the initialised algorithm and *preconditions* the gradient, e.g. multiplies it by a matrix to provide a (hopefully) more effective descent direction. For more information see, https://tomographicimaging.github.io/CIL/nightly/optimisation/#preconditioners.\n",
        "\n"
      ]
    },
    {
      "cell_type": "code",
      "execution_count": null,
      "metadata": {
        "id": "uo3akzFlaDvc"
      },
      "outputs": [],
      "source": [
        "myGD_LS = GD(initial=x0,\n",
        "             f=f1,\n",
        "             step_size=None,\n",
        "             update_objective_interval=10)"
      ]
    },
    {
      "cell_type": "markdown",
      "metadata": {
        "id": "PTaBVVgcaDvc"
      },
      "source": [
        "Once the algorithm is set up, we can run it for a specified number of iterations and here using `verbose=1` to print out progress information:"
      ]
    },
    {
      "cell_type": "code",
      "execution_count": null,
      "metadata": {
        "id": "mwf_rE5TaDvc"
      },
      "outputs": [],
      "source": [
        "myGD_LS.run(300, verbose=1)"
      ]
    },
    {
      "cell_type": "markdown",
      "metadata": {
        "id": "YCynXdNoaDvc"
      },
      "source": [
        "Once done, the latest image/solution in the algorithm can be shown as an image:"
      ]
    },
    {
      "cell_type": "code",
      "execution_count": null,
      "metadata": {
        "id": "iqiRkqMYaDvc"
      },
      "outputs": [],
      "source": [
        "show2D(myGD_LS.solution,\n",
        "     slice_list=slices, cmap='inferno', fix_range=(ca1,ca2), origin='upper-left')"
      ]
    },
    {
      "cell_type": "markdown",
      "metadata": {
        "id": "ZzPRvgaRaDvc"
      },
      "source": [
        "### Add an L2-Norm penalty to the solution"
      ]
    },
    {
      "cell_type": "markdown",
      "metadata": {
        "id": "v_qeJRDGaDvd"
      },
      "source": [
        "This was a basic least-squares example. We can specify more involved optimisation problems by combining multiple CIL Functions through addition, scalar multiplication as well as composition with CIL operators. For example, as an alternative to using CGLS to solve the Tikhonov problem with gradient operator D, i.e.,  \n",
        "$$\\min_u \\|Au-b\\|_2^2 + \\alpha^2\\|Du\\|_2^2$$\n",
        "\n",
        "Tikhonov regularisation is more explicit in that a regularisation term is added to the least squares fitting term, specifically a squared 2-norm. This is covered in detail by the next notebook [02_tikhonov_block_framework.ipynb](02_tikhonov_block_framework.ipynb)\n",
        "\n",
        "We can set this objective function up step by step. First, we set again the least-squares data fitting term as before:"
      ]
    },
    {
      "cell_type": "code",
      "execution_count": null,
      "metadata": {
        "id": "LhQdexK-aDvd"
      },
      "outputs": [],
      "source": [
        "f1 = LeastSquares(A, b)"
      ]
    },
    {
      "cell_type": "markdown",
      "metadata": {
        "id": "wFl7PRiVaDvd"
      },
      "source": [
        "Next we specify the operator `D` in the regularisation term and the value of the regularisation parameter `alpha`:"
      ]
    },
    {
      "cell_type": "code",
      "execution_count": null,
      "metadata": {
        "id": "PRW8U63naDvd"
      },
      "outputs": [],
      "source": [
        "D = GradientOperator(ig)\n",
        "alpha = 10.0"
      ]
    },
    {
      "cell_type": "markdown",
      "metadata": {
        "id": "CkOeEVj0aDvd"
      },
      "source": [
        "We can construct the regularisation term by composing the squared L2-norm with the operator D as:"
      ]
    },
    {
      "cell_type": "code",
      "execution_count": null,
      "metadata": {
        "id": "n5J-yQRdaDvh"
      },
      "outputs": [],
      "source": [
        "f2 = OperatorCompositionFunction(L2NormSquared(),D)"
      ]
    },
    {
      "cell_type": "markdown",
      "metadata": {
        "id": "lfUj4W8kaDvh"
      },
      "source": [
        "Finally we form the full optimisation problem from the components defined:"
      ]
    },
    {
      "cell_type": "code",
      "execution_count": null,
      "metadata": {
        "id": "DYiF_gdTaDvh"
      },
      "outputs": [],
      "source": [
        "f = f1 + (alpha**2)*f2"
      ]
    },
    {
      "cell_type": "markdown",
      "metadata": {
        "id": "j94V4SXMaDvh"
      },
      "source": [
        "As before we can set up a gradient descent algorithm to solve this problem. This time, we determine a fixed step size, the reciprical of the Lipschitz constant of `f`."
      ]
    },
    {
      "cell_type": "code",
      "execution_count": null,
      "metadata": {
        "id": "C06tqV56aDvh"
      },
      "outputs": [],
      "source": [
        "myGD_tikh = GD(initial=x0,\n",
        "               f=f,\n",
        "               step_size=1/f.L,\n",
        "               update_objective_interval = 10)"
      ]
    },
    {
      "cell_type": "code",
      "execution_count": null,
      "metadata": {
        "id": "2VxBzhU1aDvh"
      },
      "outputs": [],
      "source": [
        "myGD_tikh.run(200, verbose=1)"
      ]
    },
    {
      "cell_type": "code",
      "execution_count": null,
      "metadata": {
        "id": "nkZeOZd7aDvh"
      },
      "outputs": [],
      "source": [
        "show2D(myGD_tikh.solution,\n",
        "     slice_list=slices, cmap='inferno', fix_range=(ca1,ca2), origin='upper-left')"
      ]
    },
    {
      "cell_type": "markdown",
      "metadata": {
        "id": "d3YzNPI4aDvh"
      },
      "source": [
        "In the next notebook we solve the Tikhonov problem using CGLS. As an exercise  you can compare the result and performance of the two algorithms."
      ]
    },
    {
      "cell_type": "markdown",
      "metadata": {
        "id": "VtGDcO58aDvi"
      },
      "source": [
        "## Use FISTA to solve a Least Squares problem with a non-negativity constraint"
      ]
    },
    {
      "cell_type": "markdown",
      "metadata": {
        "id": "hww-7mMIaDvi"
      },
      "source": [
        "Many useful reconstruction methods involve minimisation of functions that are NOT smooth and in those cases we need dedicated optimisation algorithms for non-smooth problems. In this notebook we consider optimisation problems that can be written in the form\n",
        "$$\\min_u f(u) + g(u)  $$\n",
        "where $f$ is a smooth function as before, but $g$ may now be non-smooth. $g$ further needs to be \"simple\", in a certain sense, namely it should have a proximal mapping that is easy to evaluate. Proximal mapping can be thought of a generalisation of the gradient for a non-smooth function.\n",
        "\n",
        "For this problem class the algorithm FISTA (Fast iterative shrinkage thresholding algorithm) can be employed. It is also known as the accelerated proximal gradient method.\n",
        "\n",
        "We consider a couple of examples for different functions $g$. First we consider again least-squares but with a non-negativity constraint on all pixels. This problem can be written\n",
        "$$\\min_u \\|Au-b\\|_2^2 + I_{C}(u) $$\n",
        "where $I_{C}(u)$ is a special convex function known as an indicator function, which takes on the value 0 in its convex domain C (which we here take to be the set of images with only nonnegative pixel values), and the (extended) value of $\\infty$ outside its domain. This can be specified in CIL using an `IndicatorBox` function:"
      ]
    },
    {
      "cell_type": "code",
      "execution_count": null,
      "metadata": {
        "id": "ANbA-fmqaDvi"
      },
      "outputs": [],
      "source": [
        "F = LeastSquares(A, b)\n",
        "G = IndicatorBox(lower=0.0)"
      ]
    },
    {
      "cell_type": "markdown",
      "metadata": {
        "id": "uGei8E7IaDvi"
      },
      "source": [
        "A FISTA algorithm instance can be set up similarly to the GD algorithm but specifying the $f$ and $g$ functions separately:"
      ]
    },
    {
      "cell_type": "code",
      "execution_count": null,
      "metadata": {
        "id": "jAegbUSLaDvi"
      },
      "outputs": [],
      "source": [
        "myFISTANN = FISTA(f=F,\n",
        "                  g=G,\n",
        "                  initial=x0,\n",
        "                  update_objective_interval = 10)"
      ]
    },
    {
      "cell_type": "markdown",
      "metadata": {
        "id": "BT1CGiITaDvi"
      },
      "source": [
        "We run it and display the resulting solution:"
      ]
    },
    {
      "cell_type": "code",
      "execution_count": null,
      "metadata": {
        "id": "M2Q_gM5faDvi"
      },
      "outputs": [],
      "source": [
        "myFISTANN.run(300, verbose=1)"
      ]
    },
    {
      "cell_type": "code",
      "execution_count": null,
      "metadata": {
        "id": "ZFmZxysDaDvi"
      },
      "outputs": [],
      "source": [
        "show2D(myFISTANN.solution,\n",
        "     slice_list=slices, cmap='inferno', fix_range=(ca1,ca2), origin='upper-left')"
      ]
    },
    {
      "cell_type": "markdown",
      "metadata": {
        "id": "PX0tpLOkaDvi"
      },
      "source": [
        "We see that the non-negativity constraint, as expected, prevents any negative values. Furthermore, this has a positive effect of removing some of the streak artifacts in the background."
      ]
    },
    {
      "cell_type": "markdown",
      "metadata": {
        "id": "vVIwgyaUaDvj"
      },
      "source": [
        "## Use FISTA to solve a Least Squares problem with an L1-norm penalty"
      ]
    },
    {
      "cell_type": "markdown",
      "metadata": {
        "id": "gOE_v375aDvj"
      },
      "source": [
        "Another possibility is sparsity regularisation which we can achieve by choosing $g$ as the L1-norm multiplied by a regularisation parameter $\\alpha$ to balance the strength of fitting to the data and enforcing regularisation:\n",
        "$$g(u) = \\alpha\\|u\\|_1 = \\alpha\\sum_u |u_i| $$"
      ]
    },
    {
      "cell_type": "markdown",
      "metadata": {
        "id": "iWC1m_IQaDvj"
      },
      "source": [
        "**Exercise 1**"
      ]
    },
    {
      "cell_type": "markdown",
      "metadata": {
        "id": "79w7hOr8aDvj"
      },
      "source": [
        "We will set up the fista algorithm as we did before. But replace the `IndicatorBox()` with `alpha * L1Norm()`"
      ]
    },
    {
      "cell_type": "code",
      "execution_count": null,
      "metadata": {
        "id": "Bs8baziEaDvj"
      },
      "outputs": [],
      "source": [
        "alpha = 30\n",
        "myFISTAL1 = FISTA(...)"
      ]
    },
    {
      "cell_type": "markdown",
      "metadata": {
        "id": "Hupl0KxSaDvj"
      },
      "source": [
        "**Uncomment and run the cells to see the solution:**"
      ]
    },
    {
      "cell_type": "code",
      "execution_count": null,
      "metadata": {
        "id": "I-UhjUBtaDvj"
      },
      "outputs": [],
      "source": [
        "# %load 'snippets/01_ex1_a.py'"
      ]
    },
    {
      "cell_type": "markdown",
      "metadata": {
        "id": "EawHGbXoaDvj"
      },
      "source": [
        "Now run 300 iterations of `myFISTAL1`"
      ]
    },
    {
      "cell_type": "code",
      "execution_count": null,
      "metadata": {
        "id": "sMfh4a8raDvj"
      },
      "outputs": [],
      "source": [
        "..."
      ]
    },
    {
      "cell_type": "code",
      "execution_count": null,
      "metadata": {
        "id": "KYYUTxluaDvk"
      },
      "outputs": [],
      "source": [
        "# %load 'snippets/01_ex1_b.py'"
      ]
    },
    {
      "cell_type": "markdown",
      "metadata": {
        "id": "AhFFQN29aDvk"
      },
      "source": [
        "We show the solution of L1 regularised least-squares produced by FISTA:"
      ]
    },
    {
      "cell_type": "code",
      "execution_count": null,
      "metadata": {
        "id": "AnjLLIfsaDvk"
      },
      "outputs": [],
      "source": [
        "show2D(myFISTAL1.solution,\n",
        "     slice_list=slices, cmap='inferno', fix_range=(ca1,ca2), origin='upper-left')"
      ]
    },
    {
      "cell_type": "markdown",
      "metadata": {
        "id": "91PwOfAAaDvk"
      },
      "source": [
        "Here, all small values of the background, and the lowest-density parts of the sample, have been forced to be zero by the sparsity regularisation term, keeping only the pixel values of the largest magnitude. Sparsity regularisation does not directly enforce smoothing, which is seen in the image by neighbouring pixel values being rather different in the part of the image that is not zero."
      ]
    },
    {
      "cell_type": "markdown",
      "metadata": {
        "id": "WSHBTcYGaDvk"
      },
      "source": [
        "## Use FISTA to solve a Least Squares problem with Total Variation regularisation"
      ]
    },
    {
      "cell_type": "markdown",
      "metadata": {
        "id": "bjEedrAFaDvk"
      },
      "source": [
        "Sometimes a better option is to enforce sparsity of the image gradient. This is known as Total Variation (TV) regularisation and tends to enforce piecewise constant areas separated by sharp edges. Recall that for example Tikhonov regularisation may reduce noise but tends to blur edges, so TV may have an advantage if the image to be reconstructed is known to consist of relatively homogeneous areas separated by sharp edges. In CIL, TV is available as the `TotalVariation` function and from the CCPi regularisation toolkit as `FGP_TV` which can be run on the `GPU`. We can set up and solve the TV-regularised problem in the same way as before:"
      ]
    },
    {
      "cell_type": "markdown",
      "metadata": {
        "id": "xw-kqVk6aDvk"
      },
      "source": [
        "**Exercise 2**\n",
        "\n",
        "Change the strength of the regularisation and see what effect high and very low values of alpha have on the reconstruction. Try to find a value that smooths the streaks but preserves the features."
      ]
    },
    {
      "cell_type": "code",
      "execution_count": null,
      "metadata": {
        "id": "O490cqleaDvk"
      },
      "outputs": [],
      "source": [
        "alpha = ..."
      ]
    },
    {
      "cell_type": "code",
      "execution_count": null,
      "metadata": {
        "id": "0wVWvhoaaDvk"
      },
      "outputs": [],
      "source": [
        "# %load snippets/01_ex2.py"
      ]
    },
    {
      "cell_type": "code",
      "execution_count": null,
      "metadata": {
        "id": "34QN8LAXaDvl"
      },
      "outputs": [],
      "source": [
        "GTV = alpha*FGP_TV(device='gpu', nonnegativity=True)\n",
        "myFISTATV = FISTA(f=F,\n",
        "                  g=GTV,\n",
        "                  initial=x0 ,\n",
        "                  update_objective_interval = 10)"
      ]
    },
    {
      "cell_type": "markdown",
      "metadata": {
        "vscode": {
          "languageId": "markdown"
        },
        "id": "jo3h_1cFaDvl"
      },
      "source": [
        "Show the slices of the TV reconstruction by FISTA:"
      ]
    },
    {
      "cell_type": "markdown",
      "metadata": {
        "id": "H8_bwkx5aDvl"
      },
      "source": [
        "Note that the proximal mapping of Total Variation is not simple but needs to be evaluated numerically, but this is handled by the `TotalVariation` and `FGP_TV` functions, however it does take a while to run which is why we use the `GPU` implementation on real data (approximately 3 minutes):"
      ]
    },
    {
      "cell_type": "code",
      "execution_count": null,
      "metadata": {
        "id": "uInZ483jaDvl"
      },
      "outputs": [],
      "source": [
        "myFISTATV.run(200,verbose=1)"
      ]
    },
    {
      "cell_type": "code",
      "execution_count": null,
      "metadata": {
        "id": "Nf0l63yraDvl"
      },
      "outputs": [],
      "source": [
        "show2D(myFISTATV.solution,\n",
        "     slice_list=slices, cmap='inferno', fix_range=(ca1,ca2), origin='upper-left')"
      ]
    },
    {
      "cell_type": "markdown",
      "metadata": {
        "id": "ObdvLlmqaDvl"
      },
      "source": [
        "We can see that TV-regularisation successfully compensates for the streak artifacts caused by few projections, suppresses noise and preserves sharp edges in the reconstruction."
      ]
    },
    {
      "cell_type": "code",
      "execution_count": null,
      "metadata": {
        "id": "lV-ZVz_uaDvl"
      },
      "outputs": [],
      "source": [
        "if math.isclose(myFISTATV.g.alpha, 0.02, abs_tol=0.006) and myFISTATV.iteration > 199:\n",
        "    print(\"Good job, carry on!\")\n",
        "else:\n",
        "    raise ValueError(\"Try again: run 200 iterations with alpha of 0.02\")\n"
      ]
    },
    {
      "cell_type": "markdown",
      "metadata": {
        "id": "ayL3vqpPaDvl"
      },
      "source": [
        "## Use PDHG to solve a Least Squares problem with Total Variation regularisation"
      ]
    },
    {
      "cell_type": "markdown",
      "metadata": {
        "id": "6x7nRRvvaDvl"
      },
      "source": [
        "An even more flexible algorithm for non-smooth problems is the Primal Dual Hybrid Gradient (PDHG) algorithm, which also goes under other names such as the Chambolle-Pock algorithm. In PDHG we can split complicated functionals into simpler parts for which the proximal mapping can be evaluated. PDHG will be covered in more detail in a separate notebook [03_PDHG.ipynb](03_PDHG.ipynb), here it is demonstrated how to set up the same TV-regularised problem we just solved with FISTA. Note how `BlockFunctions` and `BlockOperators` are used to specify multiple terms/operators:"
      ]
    },
    {
      "cell_type": "code",
      "execution_count": null,
      "metadata": {
        "id": "pu_M9Eq8aDvm"
      },
      "outputs": [],
      "source": [
        "alpha = 0.02\n",
        "F = BlockFunction(L2NormSquared(b=b),\n",
        "                  alpha*MixedL21Norm())\n",
        "K = BlockOperator(A,\n",
        "                  D)\n",
        "G = IndicatorBox(lower=0.0)\n",
        "myPDHG = PDHG(f=F,\n",
        "              g=G,\n",
        "              operator=K,\n",
        "              update_objective_interval = 10,\n",
        "              check_convergence = False)"
      ]
    },
    {
      "cell_type": "markdown",
      "metadata": {
        "id": "DSbR-bLYaDvm"
      },
      "source": [
        "Run the algorithm for a specified number of iterations with increased verbosity/amount of printing to screen.\n",
        "\n",
        "Here we run for 500 iterations."
      ]
    },
    {
      "cell_type": "code",
      "execution_count": null,
      "metadata": {
        "id": "bccqba3saDvm"
      },
      "outputs": [],
      "source": [
        "myPDHG.run(500,verbose=2)"
      ]
    },
    {
      "cell_type": "markdown",
      "metadata": {
        "id": "B13bvDcOaDvm"
      },
      "source": [
        "Show the TV-regularised solution obtained by the PDHG Algorithm:"
      ]
    },
    {
      "cell_type": "code",
      "execution_count": null,
      "metadata": {
        "id": "7N_LipOBaDvm"
      },
      "outputs": [],
      "source": [
        "show2D(myPDHG.solution,\n",
        "     slice_list=slices, cmap='inferno', fix_range=(ca1,ca2), origin='upper-left')"
      ]
    },
    {
      "cell_type": "markdown",
      "metadata": {
        "id": "KO8LeymDaDvm"
      },
      "source": [
        "## Convergence of the algorithms"
      ]
    },
    {
      "cell_type": "markdown",
      "metadata": {
        "id": "ANFngdkJaDvm"
      },
      "source": [
        "CIL Algorithms can record history of objective values (primal and dual for PDHG) for monitoring convergence:"
      ]
    },
    {
      "cell_type": "code",
      "execution_count": null,
      "metadata": {
        "id": "I9gwBEMVaDvm"
      },
      "outputs": [],
      "source": [
        "plt.figure()\n",
        "plt.loglog(myPDHG.iterations[1:], myPDHG.objective[1:])\n",
        "plt.loglog(myPDHG.iterations[1:], myPDHG.dual_objective[1:])\n",
        "plt.loglog(myPDHG.iterations[1:], myPDHG.primal_dual_gap[1:])\n",
        "plt.ylim((1e0,1e4))\n",
        "plt.legend(['PDHG primal','PDHG dual','PDHG gap'])\n",
        "plt.grid()\n",
        "plt.xlabel('Number of iterations')\n",
        "plt.ylabel('Objective value')"
      ]
    },
    {
      "cell_type": "markdown",
      "metadata": {
        "id": "jd0EqN-UaDvm"
      },
      "source": [
        "PDHG supplies the primal objective, the dual objective, and the primal-dual gap (difference of primal of dual objectives) which helps for monitoring convergence. We see that the primal-dual gap is tending towards zero as the algorithm approaches the solution.\n",
        "\n",
        "To have a well-converged primal-dual gap, we want to run for more iterations, in this case, another 500 iterations. In practice, we often see a visually converged image in fewer iterations.  "
      ]
    },
    {
      "cell_type": "code",
      "execution_count": null,
      "metadata": {
        "id": "3Vey1Xc1aDvm"
      },
      "outputs": [],
      "source": [
        "myPDHG.run(500,verbose=2)"
      ]
    },
    {
      "cell_type": "code",
      "execution_count": null,
      "metadata": {
        "id": "kTU_sMS0aDvn"
      },
      "outputs": [],
      "source": [
        "show2D(myPDHG.solution,\n",
        "     slice_list=slices, cmap='inferno', fix_range=(ca1,ca2), origin='upper-left')"
      ]
    },
    {
      "cell_type": "markdown",
      "metadata": {
        "id": "uYcs3wYnaDvn"
      },
      "source": [
        "We see the resulting image matches the FISTA solution, and plotting the conververgence we observe that the two algorithms achieve approximately the same (primal) objective value."
      ]
    },
    {
      "cell_type": "code",
      "execution_count": null,
      "metadata": {
        "id": "2VJbdCytaDvn"
      },
      "outputs": [],
      "source": [
        "plt.figure()\n",
        "plt.loglog(myFISTATV.iterations[1:], myFISTATV.objective[1:])\n",
        "plt.loglog(myPDHG.iterations[1:], myPDHG.objective[1:])\n",
        "plt.legend(['FISTA','PDHG primal'])\n",
        "plt.grid()\n",
        "plt.xlabel('Number of iterations')\n",
        "plt.ylabel('Objective value')"
      ]
    }
  ],
  "metadata": {
    "kernelspec": {
      "display_name": "cil_demos",
      "language": "python",
      "name": "python3"
    },
    "language_info": {
      "codemirror_mode": {
        "name": "ipython",
        "version": 3
      },
      "file_extension": ".py",
      "mimetype": "text/x-python",
      "name": "python",
      "nbconvert_exporter": "python",
      "pygments_lexer": "ipython3",
      "version": "3.12.8"
    },
    "colab": {
      "provenance": []
    }
  },
  "nbformat": 4,
  "nbformat_minor": 0
}