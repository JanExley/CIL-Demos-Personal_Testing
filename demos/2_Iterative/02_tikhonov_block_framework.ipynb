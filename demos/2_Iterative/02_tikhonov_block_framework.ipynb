{
  "cells": [
    {
      "cell_type": "code",
      "source": [
        "!pip install -q condacolab\n",
        "import condacolab\n",
        "condacolab.install()\n",
        "!conda install -c conda-forge -c https://software.repos.intel.com/python/conda -c ccpi cil=25.0.0 astra-toolbox ccpi-regulariser tomophantom \"ipywidgets<8\" --quiet"
      ],
      "metadata": {
        "id": "emOZDZ-w_B6d",
        "outputId": "81f1460c-eb3c-43ce-9182-9d387c3296a2",
        "colab": {
          "base_uri": "https://localhost:8080/"
        }
      },
      "execution_count": 1,
      "outputs": [
        {
          "output_type": "stream",
          "name": "stdout",
          "text": [
            "✨🍰✨ Everything looks OK!\n",
            "Channels:\n",
            " - conda-forge\n",
            " - https://software.repos.intel.com/python/conda\n",
            " - ccpi\n",
            "Platform: linux-64\n",
            "Collecting package metadata (repodata.json): ...working... done\n",
            "Solving environment: ...working... done\n",
            "\n",
            "# All requested packages already installed.\n",
            "\n"
          ]
        }
      ]
    },
    {
      "cell_type": "code",
      "source": [
        "import sys\n",
        "\n",
        "sys.path.append(\"/usr/local/lib/python3.11/site-packages\")\n",
        "import cil\n",
        "print(\"CIL version:\", cil.__version__)"
      ],
      "metadata": {
        "id": "nrIKrAUO_ElU",
        "outputId": "5b9fd142-0ef3-4c81-e3da-a95f380d7ee3",
        "colab": {
          "base_uri": "https://localhost:8080/"
        }
      },
      "execution_count": 2,
      "outputs": [
        {
          "output_type": "stream",
          "name": "stdout",
          "text": [
            "CIL version: 25.0.0\n"
          ]
        }
      ]
    },
    {
      "cell_type": "code",
      "execution_count": null,
      "metadata": {
        "id": "T-MFG9xC-99K"
      },
      "outputs": [],
      "source": [
        "# -*- coding: utf-8 -*-\n",
        "#  Copyright 2019 - 2024 United Kingdom Research and Innovation\n",
        "#  Copyright 2019 - 2022 The University of Manchester\n",
        "#  Copyright 2019 - 2024 Technical University of Denmark\n",
        "#\n",
        "#  Licensed under the Apache License, Version 2.0 (the \"License\");\n",
        "#  you may not use this file except in compliance with the License.\n",
        "#  You may obtain a copy of the License at\n",
        "#\n",
        "#      http://www.apache.org/licenses/LICENSE-2.0\n",
        "#\n",
        "#  Unless required by applicable law or agreed to in writing, software\n",
        "#  distributed under the License is distributed on an \"AS IS\" BASIS,\n",
        "#  WITHOUT WARRANTIES OR CONDITIONS OF ANY KIND, either express or implied.\n",
        "#  See the License for the specific language governing permissions and\n",
        "#  limitations under the License.\n",
        "#\n",
        "#   Authored by:    Jakob S. Jørgensen (DTU)\n",
        "#                   Gemma Fardell (UKRI-STFC)\n",
        "#                   Margaret Duff (UKRI-STFC)\n",
        "#                   Hannah Robarts (UKRI-STFC)"
      ]
    },
    {
      "cell_type": "markdown",
      "metadata": {
        "id": "V1cWLoCG-99M"
      },
      "source": [
        "## Tikhonov regularisation using CGLS and block framework"
      ]
    },
    {
      "cell_type": "markdown",
      "metadata": {
        "id": "rzyYzpL3-99M"
      },
      "source": [
        "This exercise introduces Tikhonov regularisation and explains how this is implemented in the CIL framework using the so-called block framework.\n",
        "\n",
        "In a previous exercise, it was seen how CGLS could be used to determine a reconstruction based on the least squares reconstruction problem. It was seen that in case of noisy data, the least squares solution obtained by running until convergence is not desirable due to a high amount of noise. The number of iterations was seen to have a regularising effect, with the smooth, low-frequency components of the image recovered in the first iterations, while high-frequency components of the image such as edges were recovered later. Unfortunately, noise also kicks in, and one needs to pick the number of iterations that best balances the sharpness and amount of noise. As such, the regularising effect is implicitly obtained by choosing the number of iterations to run and never actually running until converged to the least squares solution.\n",
        "\n",
        "Tikhonov regularisation is more explicit in that a regularisation term is added to the least squares fitting term, specifically a squared 2-norm. This problem should now be solved to convergence instead of using the number of iterations as implicit regularising effect. Instead, a parameter, the regularisation parameter, balances the emphasis on fitting the data and enforcing the regularity and must be chosen to provide the best trade-off.\n",
        "\n",
        "Tikhonov regularisation tends to offer reduction of noise in the reconstruction, at the price of some blurring. This will be seen in what follows.\n",
        "\n",
        "To set up Tikhonov problems we need to represent block matrices and concatenate data. In CIL we can do this using BlockOperator and BlockDataContainer as demonstrated in the exercise."
      ]
    },
    {
      "cell_type": "markdown",
      "metadata": {
        "id": "DDa3BCNO-99N"
      },
      "source": [
        "**Learning objectives:**\n",
        "1. Construct and manipulate BlockOperators and BlockDataContainer, including direct and adjoint operations and algebra.\n",
        "2. Use Block Framework to solve Tikhonov regularisation with CGLS algorithm.\n",
        "3. Apply Tikhonov regularisation to tomographic reconstruction and explain the effect of regularisation parameter and operator in regulariser."
      ]
    },
    {
      "cell_type": "markdown",
      "metadata": {
        "id": "JNQOA8mw-99N"
      },
      "source": [
        "First, all imports required are carried out. This includes tools from the cil.framework and cil.optimisation modules, as well as test image generation tools in the tomophantom library and standard imports such as numpy."
      ]
    },
    {
      "cell_type": "code",
      "source": [
        "# CIL core components needed\n",
        "from cil.framework import ImageGeometry, AcquisitionGeometry, BlockDataContainer\n",
        "\n",
        "# CIL optimisation algorithms and linear operators\n",
        "from cil.optimisation.algorithms import CGLS\n",
        "from cil.optimisation.operators import BlockOperator, GradientOperator, IdentityOperator, FiniteDifferenceOperator\n",
        "\n",
        "# CIL example synthetic test image\n",
        "from cil.utilities.dataexample import SHAPES\n",
        "\n",
        "# CIL display tools\n",
        "from cil.utilities.display import show2D, show1D, show_geometry"
      ],
      "metadata": {
        "id": "IaoOGc8PAjPW"
      },
      "execution_count": 11,
      "outputs": []
    },
    {
      "cell_type": "code",
      "source": [
        "# Forward/backprojector from CIL ASTRA plugin\n",
        "from cil.plugins.astra import ProjectionOperator"
      ],
      "metadata": {
        "id": "M5xEMmjLA4yW",
        "outputId": "e404f139-333e-4c5c-c8db-14cf54b58fad",
        "colab": {
          "base_uri": "https://localhost:8080/",
          "height": 477
        }
      },
      "execution_count": 12,
      "outputs": [
        {
          "output_type": "error",
          "ename": "ImportError",
          "evalue": "cannot import name 'astra_c' from partially initialized module 'astra' (most likely due to a circular import) (/usr/local/lib/python3.11/site-packages/astra/__init__.py)",
          "traceback": [
            "\u001b[0;31m---------------------------------------------------------------------------\u001b[0m",
            "\u001b[0;31mImportError\u001b[0m                               Traceback (most recent call last)",
            "\u001b[0;32m/tmp/ipython-input-1191893144.py\u001b[0m in \u001b[0;36m<cell line: 0>\u001b[0;34m()\u001b[0m\n\u001b[1;32m      1\u001b[0m \u001b[0;31m# Forward/backprojector from CIL ASTRA plugin\u001b[0m\u001b[0;34m\u001b[0m\u001b[0;34m\u001b[0m\u001b[0m\n\u001b[0;32m----> 2\u001b[0;31m \u001b[0;32mfrom\u001b[0m \u001b[0mcil\u001b[0m\u001b[0;34m.\u001b[0m\u001b[0mplugins\u001b[0m\u001b[0;34m.\u001b[0m\u001b[0mastra\u001b[0m \u001b[0;32mimport\u001b[0m \u001b[0mProjectionOperator\u001b[0m\u001b[0;34m\u001b[0m\u001b[0;34m\u001b[0m\u001b[0m\n\u001b[0m",
            "\u001b[0;32m/usr/local/lib/python3.11/site-packages/cil/plugins/astra/__init__.py\u001b[0m in \u001b[0;36m<module>\u001b[0;34m\u001b[0m\n\u001b[1;32m     17\u001b[0m \u001b[0;31m# CIL Developers, listed at: https://github.com/TomographicImaging/CIL/blob/master/NOTICE.txt\u001b[0m\u001b[0;34m\u001b[0m\u001b[0;34m\u001b[0m\u001b[0m\n\u001b[1;32m     18\u001b[0m \u001b[0;34m\u001b[0m\u001b[0m\n\u001b[0;32m---> 19\u001b[0;31m \u001b[0;32mfrom\u001b[0m \u001b[0;34m.\u001b[0m\u001b[0moperators\u001b[0m \u001b[0;32mimport\u001b[0m \u001b[0mProjectionOperator\u001b[0m\u001b[0;34m\u001b[0m\u001b[0;34m\u001b[0m\u001b[0m\n\u001b[0m\u001b[1;32m     20\u001b[0m \u001b[0;32mfrom\u001b[0m \u001b[0;34m.\u001b[0m\u001b[0mprocessors\u001b[0m \u001b[0;32mimport\u001b[0m \u001b[0mFBP\u001b[0m\u001b[0;34m\u001b[0m\u001b[0;34m\u001b[0m\u001b[0m\n",
            "\u001b[0;32m/usr/local/lib/python3.11/site-packages/cil/plugins/astra/operators/__init__.py\u001b[0m in \u001b[0;36m<module>\u001b[0;34m\u001b[0m\n\u001b[1;32m     18\u001b[0m \u001b[0;34m\u001b[0m\u001b[0m\n\u001b[1;32m     19\u001b[0m \u001b[0;34m\u001b[0m\u001b[0m\n\u001b[0;32m---> 20\u001b[0;31m \u001b[0;32mfrom\u001b[0m \u001b[0;34m.\u001b[0m\u001b[0mAstraProjector2D\u001b[0m \u001b[0;32mimport\u001b[0m \u001b[0mAstraProjector2D\u001b[0m\u001b[0;34m\u001b[0m\u001b[0;34m\u001b[0m\u001b[0m\n\u001b[0m\u001b[1;32m     21\u001b[0m \u001b[0;32mfrom\u001b[0m \u001b[0;34m.\u001b[0m\u001b[0mAstraProjector3D\u001b[0m \u001b[0;32mimport\u001b[0m \u001b[0mAstraProjector3D\u001b[0m\u001b[0;34m\u001b[0m\u001b[0;34m\u001b[0m\u001b[0m\n\u001b[1;32m     22\u001b[0m \u001b[0;32mfrom\u001b[0m \u001b[0;34m.\u001b[0m\u001b[0mProjectionOperator\u001b[0m \u001b[0;32mimport\u001b[0m \u001b[0mProjectionOperator\u001b[0m\u001b[0;34m\u001b[0m\u001b[0;34m\u001b[0m\u001b[0m\n",
            "\u001b[0;32m/usr/local/lib/python3.11/site-packages/cil/plugins/astra/operators/AstraProjector2D.py\u001b[0m in \u001b[0;36m<module>\u001b[0;34m\u001b[0m\n\u001b[1;32m     19\u001b[0m \u001b[0;34m\u001b[0m\u001b[0m\n\u001b[1;32m     20\u001b[0m \u001b[0;32mfrom\u001b[0m \u001b[0mcil\u001b[0m\u001b[0;34m.\u001b[0m\u001b[0moptimisation\u001b[0m\u001b[0;34m.\u001b[0m\u001b[0moperators\u001b[0m \u001b[0;32mimport\u001b[0m \u001b[0mLinearOperator\u001b[0m\u001b[0;34m\u001b[0m\u001b[0;34m\u001b[0m\u001b[0m\n\u001b[0;32m---> 21\u001b[0;31m \u001b[0;32mfrom\u001b[0m \u001b[0mcil\u001b[0m\u001b[0;34m.\u001b[0m\u001b[0mplugins\u001b[0m\u001b[0;34m.\u001b[0m\u001b[0mastra\u001b[0m\u001b[0;34m.\u001b[0m\u001b[0mprocessors\u001b[0m \u001b[0;32mimport\u001b[0m \u001b[0mAstraForwardProjector2D\u001b[0m\u001b[0;34m,\u001b[0m \u001b[0mAstraBackProjector2D\u001b[0m\u001b[0;34m\u001b[0m\u001b[0;34m\u001b[0m\u001b[0m\n\u001b[0m\u001b[1;32m     22\u001b[0m \u001b[0;34m\u001b[0m\u001b[0m\n\u001b[1;32m     23\u001b[0m \u001b[0;34m\u001b[0m\u001b[0m\n",
            "\u001b[0;32m/usr/local/lib/python3.11/site-packages/cil/plugins/astra/processors/__init__.py\u001b[0m in \u001b[0;36m<module>\u001b[0;34m\u001b[0m\n\u001b[1;32m     18\u001b[0m \u001b[0;34m\u001b[0m\u001b[0m\n\u001b[1;32m     19\u001b[0m \u001b[0;34m\u001b[0m\u001b[0m\n\u001b[0;32m---> 20\u001b[0;31m \u001b[0;32mfrom\u001b[0m \u001b[0;34m.\u001b[0m\u001b[0mAstraForwardProjector2D\u001b[0m \u001b[0;32mimport\u001b[0m \u001b[0mAstraForwardProjector2D\u001b[0m\u001b[0;34m\u001b[0m\u001b[0;34m\u001b[0m\u001b[0m\n\u001b[0m\u001b[1;32m     21\u001b[0m \u001b[0;32mfrom\u001b[0m \u001b[0;34m.\u001b[0m\u001b[0mAstraBackProjector2D\u001b[0m \u001b[0;32mimport\u001b[0m \u001b[0mAstraBackProjector2D\u001b[0m\u001b[0;34m\u001b[0m\u001b[0;34m\u001b[0m\u001b[0m\n\u001b[1;32m     22\u001b[0m \u001b[0;32mfrom\u001b[0m \u001b[0;34m.\u001b[0m\u001b[0mAstraForwardProjector3D\u001b[0m \u001b[0;32mimport\u001b[0m \u001b[0mAstraForwardProjector3D\u001b[0m\u001b[0;34m\u001b[0m\u001b[0;34m\u001b[0m\u001b[0m\n",
            "\u001b[0;32m/usr/local/lib/python3.11/site-packages/cil/plugins/astra/processors/AstraForwardProjector2D.py\u001b[0m in \u001b[0;36m<module>\u001b[0;34m\u001b[0m\n\u001b[1;32m     19\u001b[0m \u001b[0;34m\u001b[0m\u001b[0m\n\u001b[1;32m     20\u001b[0m \u001b[0;32mfrom\u001b[0m \u001b[0mcil\u001b[0m\u001b[0;34m.\u001b[0m\u001b[0mframework\u001b[0m \u001b[0;32mimport\u001b[0m \u001b[0mDataProcessor\u001b[0m\u001b[0;34m,\u001b[0m \u001b[0mAcquisitionData\u001b[0m\u001b[0;34m\u001b[0m\u001b[0;34m\u001b[0m\u001b[0m\n\u001b[0;32m---> 21\u001b[0;31m \u001b[0;32mfrom\u001b[0m \u001b[0mcil\u001b[0m\u001b[0;34m.\u001b[0m\u001b[0mplugins\u001b[0m\u001b[0;34m.\u001b[0m\u001b[0mastra\u001b[0m\u001b[0;34m.\u001b[0m\u001b[0mutilities\u001b[0m \u001b[0;32mimport\u001b[0m \u001b[0mconvert_geometry_to_astra_vec_2D\u001b[0m\u001b[0;34m\u001b[0m\u001b[0;34m\u001b[0m\u001b[0m\n\u001b[0m\u001b[1;32m     22\u001b[0m \u001b[0;32mimport\u001b[0m \u001b[0mastra\u001b[0m\u001b[0;34m\u001b[0m\u001b[0;34m\u001b[0m\u001b[0m\n\u001b[1;32m     23\u001b[0m \u001b[0;32mimport\u001b[0m \u001b[0mnumpy\u001b[0m \u001b[0;32mas\u001b[0m \u001b[0mnp\u001b[0m\u001b[0;34m\u001b[0m\u001b[0;34m\u001b[0m\u001b[0m\n",
            "\u001b[0;32m/usr/local/lib/python3.11/site-packages/cil/plugins/astra/utilities/__init__.py\u001b[0m in \u001b[0;36m<module>\u001b[0;34m\u001b[0m\n\u001b[1;32m     18\u001b[0m \u001b[0;34m\u001b[0m\u001b[0m\n\u001b[1;32m     19\u001b[0m \u001b[0;34m\u001b[0m\u001b[0m\n\u001b[0;32m---> 20\u001b[0;31m \u001b[0;32mfrom\u001b[0m \u001b[0;34m.\u001b[0m\u001b[0mconvert_geometry_to_astra\u001b[0m \u001b[0;32mimport\u001b[0m \u001b[0mconvert_geometry_to_astra\u001b[0m\u001b[0;34m\u001b[0m\u001b[0;34m\u001b[0m\u001b[0m\n\u001b[0m\u001b[1;32m     21\u001b[0m \u001b[0;32mfrom\u001b[0m \u001b[0;34m.\u001b[0m\u001b[0mconvert_geometry_to_astra_vec_3D\u001b[0m \u001b[0;32mimport\u001b[0m \u001b[0mconvert_geometry_to_astra_vec_3D\u001b[0m\u001b[0;34m\u001b[0m\u001b[0;34m\u001b[0m\u001b[0m\n\u001b[1;32m     22\u001b[0m \u001b[0;32mfrom\u001b[0m \u001b[0;34m.\u001b[0m\u001b[0mconvert_geometry_to_astra_vec_2D\u001b[0m \u001b[0;32mimport\u001b[0m \u001b[0mconvert_geometry_to_astra_vec_2D\u001b[0m\u001b[0;34m\u001b[0m\u001b[0;34m\u001b[0m\u001b[0m\n",
            "\u001b[0;32m/usr/local/lib/python3.11/site-packages/cil/plugins/astra/utilities/convert_geometry_to_astra.py\u001b[0m in \u001b[0;36m<module>\u001b[0;34m\u001b[0m\n\u001b[1;32m     18\u001b[0m \u001b[0;34m\u001b[0m\u001b[0m\n\u001b[1;32m     19\u001b[0m \u001b[0;34m\u001b[0m\u001b[0m\n\u001b[0;32m---> 20\u001b[0;31m \u001b[0;32mimport\u001b[0m \u001b[0mastra\u001b[0m\u001b[0;34m\u001b[0m\u001b[0;34m\u001b[0m\u001b[0m\n\u001b[0m\u001b[1;32m     21\u001b[0m \u001b[0;32mimport\u001b[0m \u001b[0mnumpy\u001b[0m \u001b[0;32mas\u001b[0m \u001b[0mnp\u001b[0m\u001b[0;34m\u001b[0m\u001b[0;34m\u001b[0m\u001b[0m\n\u001b[1;32m     22\u001b[0m \u001b[0;32mfrom\u001b[0m \u001b[0mcil\u001b[0m\u001b[0;34m.\u001b[0m\u001b[0mframework\u001b[0m\u001b[0;34m.\u001b[0m\u001b[0mlabels\u001b[0m \u001b[0;32mimport\u001b[0m \u001b[0mAcquisitionType\u001b[0m\u001b[0;34m,\u001b[0m \u001b[0mAngleUnit\u001b[0m\u001b[0;34m\u001b[0m\u001b[0;34m\u001b[0m\u001b[0m\n",
            "\u001b[0;32m/usr/local/lib/python3.11/site-packages/astra/__init__.py\u001b[0m in \u001b[0;36m<module>\u001b[0;34m\u001b[0m\n\u001b[1;32m     24\u001b[0m \u001b[0;31m# -----------------------------------------------------------------------\u001b[0m\u001b[0;34m\u001b[0m\u001b[0;34m\u001b[0m\u001b[0m\n\u001b[1;32m     25\u001b[0m \u001b[0;34m\u001b[0m\u001b[0m\n\u001b[0;32m---> 26\u001b[0;31m \u001b[0;32mfrom\u001b[0m \u001b[0;34m.\u001b[0m \u001b[0;32mimport\u001b[0m \u001b[0mmatlab\u001b[0m \u001b[0;32mas\u001b[0m \u001b[0mm\u001b[0m\u001b[0;34m\u001b[0m\u001b[0;34m\u001b[0m\u001b[0m\n\u001b[0m\u001b[1;32m     27\u001b[0m \u001b[0;32mfrom\u001b[0m \u001b[0;34m.\u001b[0m\u001b[0mcreators\u001b[0m \u001b[0;32mimport\u001b[0m \u001b[0mastra_dict\u001b[0m\u001b[0;34m,\u001b[0m\u001b[0mcreate_vol_geom\u001b[0m\u001b[0;34m,\u001b[0m \u001b[0mcreate_proj_geom\u001b[0m\u001b[0;34m,\u001b[0m \u001b[0mcreate_backprojection\u001b[0m\u001b[0;34m,\u001b[0m \u001b[0mcreate_sino\u001b[0m\u001b[0;34m,\u001b[0m \u001b[0mcreate_reconstruction\u001b[0m\u001b[0;34m,\u001b[0m \u001b[0mcreate_projector\u001b[0m\u001b[0;34m,\u001b[0m\u001b[0mcreate_sino3d_gpu\u001b[0m\u001b[0;34m,\u001b[0m \u001b[0mcreate_backprojection3d_gpu\u001b[0m\u001b[0;34m\u001b[0m\u001b[0;34m\u001b[0m\u001b[0m\n\u001b[1;32m     28\u001b[0m \u001b[0;32mfrom\u001b[0m \u001b[0;34m.\u001b[0m\u001b[0mfunctions\u001b[0m \u001b[0;32mimport\u001b[0m \u001b[0mdata_op\u001b[0m\u001b[0;34m,\u001b[0m \u001b[0madd_noise_to_sino\u001b[0m\u001b[0;34m,\u001b[0m \u001b[0mclear\u001b[0m\u001b[0;34m,\u001b[0m \u001b[0mmove_vol_geom\u001b[0m\u001b[0;34m,\u001b[0m \u001b[0mgeom_size\u001b[0m\u001b[0;34m,\u001b[0m \u001b[0mgeom_2vec\u001b[0m\u001b[0;34m,\u001b[0m \u001b[0mgeom_postalignment\u001b[0m\u001b[0;34m\u001b[0m\u001b[0;34m\u001b[0m\u001b[0m\n",
            "\u001b[0;32m/usr/local/lib/python3.11/site-packages/astra/matlab.py\u001b[0m in \u001b[0;36m<module>\u001b[0;34m\u001b[0m\n\u001b[1;32m     36\u001b[0m \"\"\"\n\u001b[1;32m     37\u001b[0m \u001b[0;34m\u001b[0m\u001b[0m\n\u001b[0;32m---> 38\u001b[0;31m \u001b[0;32mfrom\u001b[0m \u001b[0;34m.\u001b[0m \u001b[0;32mimport\u001b[0m \u001b[0mastra_c\u001b[0m\u001b[0;34m\u001b[0m\u001b[0;34m\u001b[0m\u001b[0m\n\u001b[0m\u001b[1;32m     39\u001b[0m \u001b[0;32mfrom\u001b[0m \u001b[0;34m.\u001b[0m \u001b[0;32mimport\u001b[0m \u001b[0mdata2d_c\u001b[0m\u001b[0;34m\u001b[0m\u001b[0;34m\u001b[0m\u001b[0m\n\u001b[1;32m     40\u001b[0m \u001b[0;32mfrom\u001b[0m \u001b[0;34m.\u001b[0m \u001b[0;32mimport\u001b[0m \u001b[0mdata3d_c\u001b[0m\u001b[0;34m\u001b[0m\u001b[0;34m\u001b[0m\u001b[0m\n",
            "\u001b[0;31mImportError\u001b[0m: cannot import name 'astra_c' from partially initialized module 'astra' (most likely due to a circular import) (/usr/local/lib/python3.11/site-packages/astra/__init__.py)",
            "",
            "\u001b[0;31m---------------------------------------------------------------------------\u001b[0;32m\nNOTE: If your import is failing due to a missing package, you can\nmanually install dependencies using either !pip or !apt.\n\nTo view examples of installing some common dependencies, click the\n\"Open Examples\" button below.\n\u001b[0;31m---------------------------------------------------------------------------\u001b[0m\n"
          ],
          "errorDetails": {
            "actions": [
              {
                "action": "open_url",
                "actionText": "Open Examples",
                "url": "/notebooks/snippets/importing_libraries.ipynb"
              }
            ]
          }
        }
      ]
    },
    {
      "cell_type": "code",
      "execution_count": 13,
      "metadata": {
        "id": "DOMCql2E-99N",
        "outputId": "74fad5db-0277-4d3f-b94b-a4ef391f847b",
        "colab": {
          "base_uri": "https://localhost:8080/",
          "height": 391
        }
      },
      "outputs": [
        {
          "output_type": "error",
          "ename": "ImportError",
          "evalue": "/usr/local/lib/python3.11/site-packages/tomophantom/TomoP2D.cpython-311-x86_64-linux-gnu.so: undefined symbol: _PyUnicode_Ready",
          "traceback": [
            "\u001b[0;31m---------------------------------------------------------------------------\u001b[0m",
            "\u001b[0;31mImportError\u001b[0m                               Traceback (most recent call last)",
            "\u001b[0;32m/tmp/ipython-input-1621802753.py\u001b[0m in \u001b[0;36m<cell line: 0>\u001b[0;34m()\u001b[0m\n\u001b[1;32m      1\u001b[0m \u001b[0;31m# For shepp-logan test image in CIL tomophantom plugin\u001b[0m\u001b[0;34m\u001b[0m\u001b[0;34m\u001b[0m\u001b[0m\n\u001b[0;32m----> 2\u001b[0;31m \u001b[0;32mfrom\u001b[0m \u001b[0mcil\u001b[0m\u001b[0;34m.\u001b[0m\u001b[0mplugins\u001b[0m \u001b[0;32mimport\u001b[0m \u001b[0mTomoPhantom\u001b[0m \u001b[0;32mas\u001b[0m \u001b[0mcilTomoPhantom\u001b[0m\u001b[0;34m\u001b[0m\u001b[0;34m\u001b[0m\u001b[0m\n\u001b[0m",
            "\u001b[0;32m/usr/local/lib/python3.11/site-packages/cil/plugins/TomoPhantom.py\u001b[0m in \u001b[0;36m<module>\u001b[0;34m\u001b[0m\n\u001b[1;32m     20\u001b[0m \u001b[0;32mfrom\u001b[0m \u001b[0mcil\u001b[0m\u001b[0;34m.\u001b[0m\u001b[0mframework\u001b[0m\u001b[0;34m.\u001b[0m\u001b[0mlabels\u001b[0m \u001b[0;32mimport\u001b[0m \u001b[0mImageDimension\u001b[0m\u001b[0;34m\u001b[0m\u001b[0;34m\u001b[0m\u001b[0m\n\u001b[1;32m     21\u001b[0m \u001b[0;32mimport\u001b[0m \u001b[0mtomophantom\u001b[0m\u001b[0;34m\u001b[0m\u001b[0;34m\u001b[0m\u001b[0m\n\u001b[0;32m---> 22\u001b[0;31m \u001b[0;32mfrom\u001b[0m \u001b[0mtomophantom\u001b[0m \u001b[0;32mimport\u001b[0m \u001b[0mTomoP2D\u001b[0m\u001b[0;34m,\u001b[0m \u001b[0mTomoP3D\u001b[0m\u001b[0;34m\u001b[0m\u001b[0;34m\u001b[0m\u001b[0m\n\u001b[0m\u001b[1;32m     23\u001b[0m \u001b[0;32mimport\u001b[0m \u001b[0mos\u001b[0m\u001b[0;34m\u001b[0m\u001b[0;34m\u001b[0m\u001b[0m\n\u001b[1;32m     24\u001b[0m \u001b[0;32mimport\u001b[0m \u001b[0mnumpy\u001b[0m \u001b[0;32mas\u001b[0m \u001b[0mnp\u001b[0m\u001b[0;34m\u001b[0m\u001b[0;34m\u001b[0m\u001b[0m\n",
            "\u001b[0;32m/usr/local/lib/python3.11/site-packages/tomophantom/TomoP2D.cpython-311-x86_64-linux-gnu.so\u001b[0m in \u001b[0;36m<module>\u001b[0;34m\u001b[0m\n",
            "\u001b[0;32m/usr/local/lib/python3.11/site-packages/tomophantom/TomoP2D.cpython-311-x86_64-linux-gnu.so\u001b[0m in \u001b[0;36m__bootstrap__\u001b[0;34m()\u001b[0m\n",
            "\u001b[0;31mImportError\u001b[0m: /usr/local/lib/python3.11/site-packages/tomophantom/TomoP2D.cpython-311-x86_64-linux-gnu.so: undefined symbol: _PyUnicode_Ready",
            "",
            "\u001b[0;31m---------------------------------------------------------------------------\u001b[0;32m\nNOTE: If your import is failing due to a missing package, you can\nmanually install dependencies using either !pip or !apt.\n\nTo view examples of installing some common dependencies, click the\n\"Open Examples\" button below.\n\u001b[0;31m---------------------------------------------------------------------------\u001b[0m\n"
          ],
          "errorDetails": {
            "actions": [
              {
                "action": "open_url",
                "actionText": "Open Examples",
                "url": "/notebooks/snippets/importing_libraries.ipynb"
              }
            ]
          }
        }
      ],
      "source": [
        "# For shepp-logan test image in CIL tomophantom plugin\n",
        "from cil.plugins import TomoPhantom as cilTomoPhantom"
      ]
    },
    {
      "cell_type": "code",
      "source": [
        "# Third-party imports\n",
        "import numpy as np\n",
        "import matplotlib.pyplot as plt"
      ],
      "metadata": {
        "id": "dKDzj5xkAq--"
      },
      "execution_count": 14,
      "outputs": []
    },
    {
      "cell_type": "markdown",
      "metadata": {
        "id": "Nu9mOhQX-99N"
      },
      "source": [
        "### Setting up a simulated 2D dataset"
      ]
    },
    {
      "cell_type": "markdown",
      "metadata": {
        "id": "JjXrepbb-99N"
      },
      "source": [
        "A 2D parallel beam case will be simulated. We start by creating a test image and will use the classic Shepp-Logan Phantom with 1024x1024 pixels on the square domain $x:[-1,1]$, $y:[-1,1]$. We set up the `ImageGeometry` to specify the dimensions and pixel size of the image:"
      ]
    },
    {
      "cell_type": "code",
      "execution_count": 15,
      "metadata": {
        "id": "anZMCcbM-99O",
        "outputId": "4a114804-6812-48ab-ecfd-1fb1226cfdb0",
        "colab": {
          "base_uri": "https://localhost:8080/"
        }
      },
      "outputs": [
        {
          "output_type": "stream",
          "name": "stdout",
          "text": [
            "Number of channels: 1\n",
            "channel_spacing: 1.0\n",
            "voxel_num : x256,y256\n",
            "voxel_size : x0.0078125,y0.0078125\n",
            "center : x0,y0\n",
            "\n"
          ]
        }
      ],
      "source": [
        "# Set up image geometry\n",
        "n = 256\n",
        "ig = ImageGeometry(voxel_num_x=n,\n",
        "                   voxel_num_y=n,\n",
        "                   voxel_size_x=2/n,\n",
        "                   voxel_size_y=2/n)\n",
        "print(ig)"
      ]
    },
    {
      "cell_type": "markdown",
      "metadata": {
        "id": "iLhN40Y1-99O"
      },
      "source": [
        "Using the CIL tomophantom plugin we can create a CIL `ImageData` holding the Shepp-Logan image of the desired size:"
      ]
    },
    {
      "cell_type": "code",
      "execution_count": 18,
      "metadata": {
        "id": "heKZQB80-99O",
        "outputId": "05055fa2-6ae2-4666-c913-5494a67c0a1a",
        "colab": {
          "base_uri": "https://localhost:8080/",
          "height": 141
        }
      },
      "outputs": [
        {
          "output_type": "error",
          "ename": "NameError",
          "evalue": "name 'cilTomoPhantom' is not defined",
          "traceback": [
            "\u001b[0;31m---------------------------------------------------------------------------\u001b[0m",
            "\u001b[0;31mNameError\u001b[0m                                 Traceback (most recent call last)",
            "\u001b[0;32m/tmp/ipython-input-3909253341.py\u001b[0m in \u001b[0;36m<cell line: 0>\u001b[0;34m()\u001b[0m\n\u001b[0;32m----> 1\u001b[0;31m \u001b[0mphantom2D\u001b[0m \u001b[0;34m=\u001b[0m \u001b[0mcilTomoPhantom\u001b[0m\u001b[0;34m.\u001b[0m\u001b[0mget_ImageData\u001b[0m\u001b[0;34m(\u001b[0m\u001b[0mnum_model\u001b[0m\u001b[0;34m=\u001b[0m\u001b[0;36m1\u001b[0m\u001b[0;34m,\u001b[0m \u001b[0mgeometry\u001b[0m\u001b[0;34m=\u001b[0m\u001b[0mig\u001b[0m\u001b[0;34m)\u001b[0m\u001b[0;34m\u001b[0m\u001b[0;34m\u001b[0m\u001b[0m\n\u001b[0m",
            "\u001b[0;31mNameError\u001b[0m: name 'cilTomoPhantom' is not defined"
          ]
        }
      ],
      "source": [
        "phantom2D = cilTomoPhantom.get_ImageData(num_model=1, geometry=ig)"
      ]
    },
    {
      "cell_type": "code",
      "execution_count": 17,
      "metadata": {
        "id": "OMcxwJCh-99O",
        "outputId": "6a9911ea-9747-422d-ca3a-ed6a43b46618",
        "colab": {
          "base_uri": "https://localhost:8080/",
          "height": 141
        }
      },
      "outputs": [
        {
          "output_type": "error",
          "ename": "NameError",
          "evalue": "name 'phantom2D' is not defined",
          "traceback": [
            "\u001b[0;31m---------------------------------------------------------------------------\u001b[0m",
            "\u001b[0;31mNameError\u001b[0m                                 Traceback (most recent call last)",
            "\u001b[0;32m/tmp/ipython-input-4207583403.py\u001b[0m in \u001b[0;36m<cell line: 0>\u001b[0;34m()\u001b[0m\n\u001b[0;32m----> 1\u001b[0;31m \u001b[0mshow2D\u001b[0m\u001b[0;34m(\u001b[0m\u001b[0mphantom2D\u001b[0m\u001b[0;34m)\u001b[0m\u001b[0;34m\u001b[0m\u001b[0;34m\u001b[0m\u001b[0m\n\u001b[0m",
            "\u001b[0;31mNameError\u001b[0m: name 'phantom2D' is not defined"
          ]
        }
      ],
      "source": [
        "show2D(phantom2D)"
      ]
    },
    {
      "cell_type": "markdown",
      "metadata": {
        "id": "ca7ZXZjG-99O"
      },
      "source": [
        "Next, we specify the acquisition parameters and store them in an `AcquisitionGeometry` object. We use a parallel-beam geometry with 180 projections, and a detector with the same of number and size of pixels as the image:"
      ]
    },
    {
      "cell_type": "code",
      "execution_count": null,
      "metadata": {
        "id": "S3DETFzW-99P"
      },
      "outputs": [],
      "source": [
        "num_angles = 180\n",
        "ag = AcquisitionGeometry.create_Parallel2D()  \\\n",
        "                   .set_angles(np.linspace(0, 180, num_angles, endpoint=False))  \\\n",
        "                   .set_panel(n, 2/n)\n",
        "print(ag)"
      ]
    },
    {
      "cell_type": "markdown",
      "metadata": {
        "id": "tM3ljyva-99P"
      },
      "source": [
        "We illustrate the geometry:"
      ]
    },
    {
      "cell_type": "code",
      "execution_count": null,
      "metadata": {
        "id": "htVrL-Tf-99P"
      },
      "outputs": [],
      "source": [
        "show_geometry(ag)"
      ]
    },
    {
      "cell_type": "markdown",
      "metadata": {
        "id": "Gy_puTeY-99P"
      },
      "source": [
        "To simulate a sinogram we set up a ProjectionOperator using GPU-acceleration using the ASTRA plugin:"
      ]
    },
    {
      "cell_type": "code",
      "execution_count": null,
      "metadata": {
        "id": "kduJhQuJ-99P"
      },
      "outputs": [],
      "source": [
        "device = \"gpu\"\n",
        "A = ProjectionOperator(ig, ag, device)"
      ]
    },
    {
      "cell_type": "markdown",
      "metadata": {
        "id": "wdoJRzP8-99P"
      },
      "source": [
        "The ideal noisefree sinogram is created by forward-projecting the phantom:"
      ]
    },
    {
      "cell_type": "code",
      "execution_count": null,
      "metadata": {
        "id": "HTE-fNZB-99P"
      },
      "outputs": [],
      "source": [
        "sinogram = A.direct(phantom2D)"
      ]
    },
    {
      "cell_type": "markdown",
      "metadata": {
        "id": "wy1BYE4O-99P"
      },
      "source": [
        "The generated test image and sinogram are displayed as images:"
      ]
    },
    {
      "cell_type": "code",
      "execution_count": null,
      "metadata": {
        "id": "dhxt7idR-99P"
      },
      "outputs": [],
      "source": [
        "plots = [phantom2D, sinogram]\n",
        "titles = [\"Ground truth\", \"sinogram\"]\n",
        "show2D(plots, titles)"
      ]
    },
    {
      "cell_type": "markdown",
      "metadata": {
        "id": "l1iupOiV-99Q"
      },
      "source": [
        "#### Add noise to the simulation\n",
        "Next, Poisson noise will be applied to this noise-free sinogram. The severity of the noise can be adjusted by changing the background_counts variable."
      ]
    },
    {
      "cell_type": "code",
      "execution_count": null,
      "metadata": {
        "id": "f4pQiSod-99Q"
      },
      "outputs": [],
      "source": [
        "# Incident intensity: lower counts will increase the noise\n",
        "background_counts = 5000\n",
        "\n",
        "# Convert the simulated absorption sinogram to transmission values using Lambert-Beer.\n",
        "# Use as mean for Poisson data generation.\n",
        "# Convert back to absorption sinogram.\n",
        "counts = background_counts * np.exp(-sinogram.as_array())\n",
        "noisy_counts = np.random.poisson(counts)\n",
        "sino_out = -np.log(noisy_counts/background_counts)\n",
        "\n",
        "# Create new AcquisitionData object with same geometry and fill with noisy data.\n",
        "sinogram_noisy = ag.allocate()\n",
        "sinogram_noisy.fill(sino_out)"
      ]
    },
    {
      "cell_type": "markdown",
      "metadata": {
        "id": "mdrF_lnp-99Q"
      },
      "source": [
        "The simulated clean and noisy sinograms are displayed side by side as images:"
      ]
    },
    {
      "cell_type": "code",
      "execution_count": null,
      "metadata": {
        "id": "Qv5n6cVG-99Q"
      },
      "outputs": [],
      "source": [
        "plots = [sinogram, sinogram_noisy]\n",
        "titles = [\"sinogram\", \"sinogram noisy\"]\n",
        "show2D(plots, titles)"
      ]
    },
    {
      "cell_type": "markdown",
      "metadata": {
        "id": "GioBUWA0-99Q"
      },
      "source": [
        "### Reconstruct using CGLS"
      ]
    },
    {
      "cell_type": "markdown",
      "metadata": {
        "id": "sOTi4asL-99Q"
      },
      "source": [
        "Before describing Tikhonov regularisation, we recall the problem solved by CGLS:\n",
        "\n",
        "$$\\underset{u}{\\mathrm{argmin}}\\begin{Vmatrix}A u - b\\end{Vmatrix}^2_2$$\n",
        "\n",
        "where,\n",
        "\n",
        "- $A$ is the projection operator\n",
        "\n",
        "- $b$ is the acquired data\n",
        "\n",
        "- $u$ is the unknown image to be determined\n",
        "\n",
        "In the solution provided by CGLS the low frequency components tend to converge faster than the high frequency components. This means we need to control the number of iterations carefully to select the optimal solution."
      ]
    },
    {
      "cell_type": "markdown",
      "metadata": {
        "id": "Fviww_5U-99Q"
      },
      "source": [
        "Set up the CGLS algorithm, including specifying its initial point to start from:"
      ]
    },
    {
      "cell_type": "code",
      "execution_count": null,
      "metadata": {
        "id": "sp1Y5Zgh-99Q"
      },
      "outputs": [],
      "source": [
        "initial = ig.allocate(0)\n",
        "cgls_simple = CGLS(initial=initial, operator=A, data=sinogram_noisy)"
      ]
    },
    {
      "cell_type": "markdown",
      "metadata": {
        "id": "l44nT5Cm-99Q"
      },
      "source": [
        "Once set up, we can run the algorithm for a specified number of iterations:"
      ]
    },
    {
      "cell_type": "code",
      "execution_count": null,
      "metadata": {
        "id": "2MITa0t7-99Q"
      },
      "outputs": [],
      "source": [
        "cgls_simple.run(5, verbose=True)"
      ]
    },
    {
      "cell_type": "markdown",
      "metadata": {
        "id": "t-mtG-S0-99R"
      },
      "source": [
        "Display the resulting image from CGLS, along with its difference image with the original ground truth image:"
      ]
    },
    {
      "cell_type": "code",
      "execution_count": null,
      "metadata": {
        "id": "4hARgMGc-99R"
      },
      "outputs": [],
      "source": [
        "plots = [cgls_simple.solution, cgls_simple.solution - phantom2D]\n",
        "titles = [\"CGLS reconstruction\",\"Difference from ground truth\" ]\n",
        "show2D(plots, titles, fix_range=[(-0.2,1.2),(-0.2,0.2)])"
      ]
    },
    {
      "cell_type": "markdown",
      "metadata": {
        "id": "7tsbwqPJ-99R"
      },
      "source": [
        "Plot central vertical line profile of CGLS and ground truth:"
      ]
    },
    {
      "cell_type": "code",
      "execution_count": null,
      "metadata": {
        "tags": [],
        "id": "0U1avE1Y-99R"
      },
      "outputs": [],
      "source": [
        "show1D([phantom2D, cgls_simple.solution],\n",
        "       slice_list=[(\"horizontal_y\",int(n/2))],\n",
        "       dataset_labels=[\"Ground Truth\",\"CGLS\"],\n",
        "       line_colours=['black','dodgerblue'],\n",
        "       line_styles=['solid','dashed'])"
      ]
    },
    {
      "cell_type": "markdown",
      "metadata": {
        "id": "R13wolse-99R"
      },
      "source": [
        "<span style=\"color:red;font-size:larger\">**Exercise 1:**</span> Try running fewer and more iterations to see how the image and line profile changes. Try also with noisier data, by specifying a smaller value of background_counts. Remember you can change the number of iterations to run between outputs. Also note that the algorithm will continue from the point it stopped and run more iterations from that point if `run` is called again. If you want to run from the beginning, the algorithm needs to be re-initialised. Try to stop the algorithm before the solution starts to diverge. [go to section start](#Reconstruct-using-CGLS)"
      ]
    },
    {
      "cell_type": "markdown",
      "metadata": {
        "id": "VkRjm0G9-99R"
      },
      "source": [
        "### Tikhonov regularisation using CGLS"
      ]
    },
    {
      "cell_type": "markdown",
      "metadata": {
        "id": "Ap4dKHJI-99R"
      },
      "source": [
        "#### Regularisation\n",
        "\n",
        "Noisy datasets are problematic with an ill-posed problem such as tomographic reconstruction. If we try to solve these using CGLS we end up with an unstable solution. Regularisation adds information in order for us to solve the problem."
      ]
    },
    {
      "cell_type": "markdown",
      "metadata": {
        "id": "M78tN7A8-99a"
      },
      "source": [
        "#### Tikhonov regularisation\n",
        "\n",
        "We can add a regularisation term to problem solved by CGLS; this gives us the minimisation problem in the following form, which is known as Tikhonov regularisation:\n",
        "$$\\underset{u}{\\mathrm{argmin}}\\begin{Vmatrix}A u - b \\end{Vmatrix}^2_2 + \\alpha^2\\|Lu\\|^2_2$$\n",
        "\n",
        "where,\n",
        "\n",
        "- $A$ is the projection operator\n",
        "\n",
        "- $b$ is the acquired data\n",
        "\n",
        "- $u$ is the unknown image to be solved for\n",
        "\n",
        "- $\\alpha$ is the regularisation parameter\n",
        "\n",
        "- $L$ is a regularisation operator\n",
        "\n",
        "\n",
        "The first term measures the fidelity of the solution to the data. The second term meausures the fidelity to the prior knowledge we have imposed on the system, operator $L$. $\\alpha$ controls the trade-off between these terms. $L$ is often chosen to be a smoothing operator like the identity matrix, or a gradient operator **constrained to the squared L2-norm**.\n",
        "\n",
        "This can be re-written equivalently in the block matrix form:\n",
        "\n",
        "$$\\underset{u}{\\mathrm{argmin}}\\begin{Vmatrix}\\binom{A}{\\alpha L} u - \\binom{b}{0}\\end{Vmatrix}^2_2$$\n",
        "\n",
        "With the definitions:\n",
        "\n",
        "- $\\tilde{A} = \\binom{A}{\\alpha L}$\n",
        "\n",
        "- $\\tilde{b} = \\binom{b}{0}$\n",
        "\n",
        "this can now be recognised as a least squares problem:\n",
        "\n",
        "$$\\underset{u}{\\mathrm{argmin}}\\begin{Vmatrix}\\tilde{A} u - \\tilde{b}\\end{Vmatrix}^2_2$$\n",
        "\n",
        "and being a least squares problem, it can be solved using CGLS with $\\tilde{A}$ as operator and $\\tilde{b}$ as data.\n"
      ]
    },
    {
      "cell_type": "markdown",
      "metadata": {
        "id": "7a-Ltf41-99a"
      },
      "source": [
        "#### Introducing the block framework"
      ]
    },
    {
      "cell_type": "markdown",
      "metadata": {
        "id": "__Ol9-6--99a"
      },
      "source": [
        "We can construct $\\tilde{A}$ and $\\tilde{b}$ using the BlockFramework in the CIL.\n",
        "\n",
        "$\\tilde{A}$ is a (column) BlockOperator of size 2x1 and can be set up by\n",
        "\n",
        "`BlockOperator(op0,op1)`\n",
        "\n",
        "The right hand side $\\tilde{b}$ is a BlockDataContainer and can be set up by\n",
        "\n",
        "`BlockDataContainer(DataContainer0, DataContainer1)`"
      ]
    },
    {
      "cell_type": "markdown",
      "metadata": {
        "id": "cEa9kaDY-99a"
      },
      "source": [
        "<a id=\"section_CGLS_alpha\"></a>\n",
        "#### Reconstruct using CGLS and the identity operator"
      ]
    },
    {
      "cell_type": "markdown",
      "metadata": {
        "id": "QdDNOSep-99a"
      },
      "source": [
        "The simplest form of Tikhonov uses the identity matrix as the regularisation operator. We use an identity matrix as our regularisation operator we are penalising on the magnitude of the solution $u$, which will tend to reduce the pixel values of $u$."
      ]
    },
    {
      "cell_type": "code",
      "execution_count": null,
      "metadata": {
        "id": "Hu1o8sGt-99a"
      },
      "outputs": [],
      "source": [
        "L = IdentityOperator(ig)\n",
        "alpha = 0.1\n",
        "\n",
        "operator_block = BlockOperator(A, alpha*L)"
      ]
    },
    {
      "cell_type": "markdown",
      "metadata": {
        "id": "oz4MJNN--99a"
      },
      "source": [
        "In the formulation of Tikhonov as a least squares problem, we need to set up the right hand side vector $\\tilde{b}$ holding both the $b$ and a zero-filled `ImageData` of the right size, matching the range of the regularising operator. The operator allows us to query the geometry of its range and allocate a zero-filled `ImageData` of that geometry. We combine both into a `BlockDataContainer`:"
      ]
    },
    {
      "cell_type": "code",
      "execution_count": null,
      "metadata": {
        "id": "B2PSNQ_f-99a"
      },
      "outputs": [],
      "source": [
        "zero_data = L.range.allocate(0)\n",
        "\n",
        "data_block = BlockDataContainer(sinogram_noisy, zero_data)"
      ]
    },
    {
      "cell_type": "markdown",
      "metadata": {
        "id": "xN8VZWK3-99b"
      },
      "source": [
        "Run CGLS as before, but passing the BlockOperator and BlockDataContainer"
      ]
    },
    {
      "cell_type": "code",
      "execution_count": null,
      "metadata": {
        "id": "h9unOErA-99b"
      },
      "outputs": [],
      "source": [
        "#setup CGLS with the Block Operator and Block DataContainer\n",
        "initial = ig.allocate(0)\n",
        "cgls_tikh = CGLS(initial=initial, operator=operator_block, data=data_block, update_objective_interval = 10)"
      ]
    },
    {
      "cell_type": "code",
      "execution_count": null,
      "metadata": {
        "id": "stKe5mJe-99b"
      },
      "outputs": [],
      "source": [
        "#run the algorithm\n",
        "cgls_tikh.run(100)"
      ]
    },
    {
      "cell_type": "markdown",
      "metadata": {
        "id": "gPlEZNwz-99b"
      },
      "source": [
        "Display results as images and plot central vertical line profile of the Tikhonov with Identity:"
      ]
    },
    {
      "cell_type": "code",
      "execution_count": null,
      "metadata": {
        "id": "33J5XxMp-99b"
      },
      "outputs": [],
      "source": [
        "plots = [cgls_tikh.solution, cgls_tikh.solution - phantom2D]\n",
        "titles = [\"Tikhonov with Identity regularisation\",\"Difference from ground truth\" ]\n",
        "show2D(plots, titles, fix_range=[(-0.2,1.2),(-0.2,0.2)])"
      ]
    },
    {
      "cell_type": "markdown",
      "metadata": {
        "id": "Gsz2zZZU-99b"
      },
      "source": [
        "Let's compare the reconstructions from CGLS and Tikhonov with identity regularisation."
      ]
    },
    {
      "cell_type": "code",
      "execution_count": null,
      "metadata": {
        "id": "t9KJi2t--99b"
      },
      "outputs": [],
      "source": [
        "plots = [cgls_simple.solution, cgls_tikh.solution]\n",
        "titles = [\"CGLS\", \"Tikhonov with Identity regularisation\" ]\n",
        "show2D(plots, titles, fix_range=(-0.2,1.2))"
      ]
    },
    {
      "cell_type": "code",
      "execution_count": null,
      "metadata": {
        "tags": [],
        "id": "PYD_nwkB-99c"
      },
      "outputs": [],
      "source": [
        "show1D([phantom2D, cgls_simple.solution, cgls_tikh.solution],\n",
        "       slice_list=[(\"horizontal_y\", int(n/2))],\n",
        "       dataset_labels=[\"Ground Truth\",\"CGLS\",\"Tikhonov with Identity regularisation\"],\n",
        "       line_colours=['black','dodgerblue','firebrick'],\n",
        "       line_styles=['solid','dashed','dotted'])"
      ]
    },
    {
      "cell_type": "markdown",
      "metadata": {
        "id": "uEXZSr8g-99c"
      },
      "source": [
        "<span style=\"color:red;font-size:larger\">**Exercise 2:**</span> Try running Tikhonov with a range of $\\alpha$ values from very small to very large, display reconstruction and line profile and describe the effect of $\\alpha$. Find the value of $\\alpha$ that gives you the best solution. Then change how much noise you add to the data by going back here: [set noise](#Add-noise-to-the-simulation) and run through the notebook again. Try with `background_counts` set to 5000, 10000 and 1000 remember to find an appropriate value of alpha for each run."
      ]
    },
    {
      "cell_type": "markdown",
      "metadata": {
        "id": "yZiFEdJq-99c"
      },
      "source": [
        "With Tikhonov regularisation the problem should now be solved to convergence instead of using the number of iterations as implicit regularising effect. By increasing the regularisation parameter $\\alpha$ we balance the emphasis on fitting the data and enforcing the regularity. A low value of $\\alpha$ will give you the CGLS solution, a higher value will reduce the noise in the reconstruction but at the cost of some blurring.\n",
        "\n"
      ]
    },
    {
      "cell_type": "markdown",
      "metadata": {
        "id": "1RDRKMfG-99c"
      },
      "source": [
        "### Using the BlockFramework to build a gradient operator"
      ]
    },
    {
      "cell_type": "markdown",
      "metadata": {
        "id": "a69StBeI-99c"
      },
      "source": [
        "The basic Tikhonov with the identity operator provided perhaps a bit of improvement compared to just CGLS, but there was still a lot of noise in the reconstruction and the pixel values had been reduced. Using the identity as regularising operator means that we penalise pixel values that are non-zero, which may not be what we want. Instead, we want to encourage similar values of neighboring pixels to smooth out the noise. This can be achieved by using the gradient as the smoothing operator.\n",
        "\n",
        "To do that we will again need to use the BlockFramework, which is now demonstrated in a bit more detail.\n",
        "\n",
        "A discrete gradient operator (using finite differences) can be constructed using BlockOperators.\n",
        "\n",
        "The direct gradient operator $\\nabla$ acts on an image $u$ and returns a BlockDataContainer $\\textbf{w}$, holding finite differences in the $x$ and $y$ directions:\n",
        "\n",
        "$$ \\nabla(u) =\n",
        "\\begin{bmatrix}\n",
        "   \\nabla_x\\\\\n",
        "   \\nabla_y\\\\\n",
        "\\end{bmatrix}\n",
        "*u =\n",
        "\\begin{bmatrix}\n",
        "    \\nabla_xu\\\\\n",
        "    \\nabla_yu\\\\\n",
        "\\end{bmatrix}\n",
        "=  \n",
        "\\begin{bmatrix}w_{x}\\\\w_{y}\\end{bmatrix}= \\textbf{w}$$\n",
        "\n",
        "The adjoint gradient operator $\\nabla^*$ acts on the BlockDataContainer $\\textbf{y}$ and returns an image $\\rho$\n",
        "\n",
        "$$  \\nabla^*(\\textbf w) =\n",
        "\\begin{bmatrix}\n",
        "    \\nabla^*_x &\n",
        "    \\nabla^*_y\n",
        "\\end{bmatrix}\n",
        "*\n",
        "\\begin{bmatrix}\n",
        "    w_{x}\\\\\n",
        "    w_{y}\\\\\n",
        "\\end{bmatrix}\n",
        "=\n",
        "\\begin{bmatrix}\n",
        "    \\nabla^*_x w_x + \\nabla^*_y w_y\n",
        "\\end{bmatrix} =  \\rho$$"
      ]
    },
    {
      "cell_type": "markdown",
      "metadata": {
        "id": "kZPFqzof-99c"
      },
      "source": [
        "We load a test image to demonstrate how the gradient operator works:"
      ]
    },
    {
      "cell_type": "code",
      "execution_count": null,
      "metadata": {
        "id": "VajAraem-99c"
      },
      "outputs": [],
      "source": [
        "shapes = SHAPES.get()\n",
        "show2D(shapes, \"shapes\")"
      ]
    },
    {
      "cell_type": "markdown",
      "metadata": {
        "id": "sGJMogqP-99c"
      },
      "source": [
        "The finite difference operator can be called from the framework. This returns the difference between each pair of pixels along one direction.\n",
        "\n",
        "We need to initialise it with the image geometry, the direction of the calculation and the boundary conditions to use.\n",
        "\n",
        "`FiniteDifferenceOperator(gm_domain, direction, bnd_cond='Neumann' or 'Periodic')`"
      ]
    },
    {
      "cell_type": "code",
      "execution_count": null,
      "metadata": {
        "id": "hDqack0h-99d"
      },
      "outputs": [],
      "source": [
        "#define the operator FiniteDiff - needs to image geometry, the direction and the boundary conditions\n",
        "fdx = FiniteDifferenceOperator(shapes.geometry, direction='horizontal_x', bnd_cond='Neumann')\n",
        "\n",
        "#run it over the input image\n",
        "image_2D_dx = fdx.direct(shapes)\n",
        "\n",
        "#plot ths results\n",
        "show2D(image_2D_dx, \"dx\")"
      ]
    },
    {
      "cell_type": "markdown",
      "metadata": {
        "id": "ZtowxGgA-99d"
      },
      "source": [
        "Note how all vertical edges have been picked up (and their sign) applying this operator doing finite differences in the horizontal direction."
      ]
    },
    {
      "cell_type": "markdown",
      "metadata": {
        "id": "iUYWL59i-99d"
      },
      "source": [
        "To set up a gradient in both $x$ and $y$ directions, we can create a BlockOperator to contain a finite difference operator for each of the $x$ and $y$ directions. We can apply it (using its `direct` method) to the test image and visualise the result."
      ]
    },
    {
      "cell_type": "code",
      "execution_count": null,
      "metadata": {
        "id": "1u9KHId7-99d"
      },
      "outputs": [],
      "source": [
        "# Define the x and y operators\n",
        "fdx = FiniteDifferenceOperator(shapes.geometry, direction='horizontal_x', bnd_cond='Neumann')\n",
        "fdy = FiniteDifferenceOperator(shapes.geometry, direction='horizontal_y', bnd_cond='Neumann')"
      ]
    },
    {
      "cell_type": "code",
      "execution_count": null,
      "metadata": {
        "id": "HpJJk1-S-99d"
      },
      "outputs": [],
      "source": [
        "# Construct the BlockOperator combining the two operators\n",
        "FD = BlockOperator(fdx, fdy)"
      ]
    },
    {
      "cell_type": "code",
      "execution_count": null,
      "metadata": {
        "id": "cUxFBU-9-99d"
      },
      "outputs": [],
      "source": [
        "#run it on the test image\n",
        "fd_out = FD.direct(shapes)"
      ]
    },
    {
      "cell_type": "markdown",
      "metadata": {
        "id": "LHCX9ULu-99d"
      },
      "source": [
        "Display output:"
      ]
    },
    {
      "cell_type": "code",
      "execution_count": null,
      "metadata": {
        "id": "xSKN42bd-99d"
      },
      "outputs": [],
      "source": [
        "plots = [fd_out.get_item(0), fd_out.get_item(1)]\n",
        "titles = [\"dx\", \"dy\"]\n",
        "show2D(plots, titles, fix_range=(-1,1))"
      ]
    },
    {
      "cell_type": "markdown",
      "metadata": {
        "id": "Z2iil3ZD-99e"
      },
      "source": [
        "To see what is going on, we take a closer look at data types.\n",
        "\n",
        "First, the input is an `ImageData` and its shape is a 2-element vector with the number of pixels in each direction:"
      ]
    },
    {
      "cell_type": "code",
      "execution_count": null,
      "metadata": {
        "id": "POleSEtH-99e"
      },
      "outputs": [],
      "source": [
        "print(type(shapes))\n",
        "print(shapes)"
      ]
    },
    {
      "cell_type": "markdown",
      "metadata": {
        "id": "w9GMdcnH-99e"
      },
      "source": [
        "The output however is a `BlockDataContainer`, essentially a list (with additional functionality) holding two `ImageData` elements, one for each direction we have taken finite differences. We can pick out each element of the `BlockDataContainer` and see that they indeed are `ImageData` and print their shapes (number of pixels in each direction):"
      ]
    },
    {
      "cell_type": "code",
      "execution_count": null,
      "metadata": {
        "id": "v7syWHg2-99e"
      },
      "outputs": [],
      "source": [
        "#output is BloackDataContainer\n",
        "print(type(fd_out))\n",
        "print(fd_out.shape)"
      ]
    },
    {
      "cell_type": "code",
      "execution_count": null,
      "metadata": {
        "id": "aSNOWG-0-99e"
      },
      "outputs": [],
      "source": [
        "print(\"\\tDataContainer 0\")\n",
        "print(type(fd_out.get_item(0)))\n",
        "print(fd_out.get_item(0))"
      ]
    },
    {
      "cell_type": "code",
      "execution_count": null,
      "metadata": {
        "id": "Ht8EznvI-99e"
      },
      "outputs": [],
      "source": [
        "print(\"\\tDataContainer 1\")\n",
        "print(type(fd_out.get_item(1)))\n",
        "print(fd_out.get_item(1))"
      ]
    },
    {
      "cell_type": "markdown",
      "metadata": {
        "id": "jhZI1qrH-99e"
      },
      "source": [
        "The BlockFramework provides basic algebra between BlockDataContainers, numpy arrays, lists of numbers,  DataContainers, subclasses and scalars providing the shape of the containers are compatible\n",
        "- add\n",
        "- subtract\n",
        "- multiply\n",
        "- divide\n",
        "- power\n",
        "- squared_norm"
      ]
    },
    {
      "cell_type": "markdown",
      "metadata": {
        "id": "i1VdoJSb-99e"
      },
      "source": [
        "The `BlockOperator` is a special kind of `Operator`, and being an `Operator` it should have an adjoint method. This is automatically provided from the adjoints of the operators. In the present case our `BlockOperator` will take a `BlockDataContainer` as input to its adjoint and return an `ImageData`, as visualised below:\n"
      ]
    },
    {
      "cell_type": "code",
      "execution_count": null,
      "metadata": {
        "id": "WX_llZop-99f"
      },
      "outputs": [],
      "source": [
        "# Run the adjoint method\n",
        "adjoint_output = FD.adjoint(fd_out)\n",
        "\n",
        "show2D(adjoint_output, \"adjoint gradient\")"
      ]
    },
    {
      "cell_type": "markdown",
      "metadata": {
        "id": "L5SQsva7-99f"
      },
      "source": [
        "### A deeper look at the BlockFramework\n",
        "#### BlockDataContainer\n",
        "\n",
        "BlockDataContainer holds datacontainers as a column vector\n",
        "\n",
        "$$\\textbf{x} = \\begin{bmatrix}x_{1}\\\\ x_{2}\\end{bmatrix}$$\n",
        "\n",
        "$$\\textbf{y} = \\begin{bmatrix}y_{1}\\\\ y_{2} \\\\ y_{3}\\end{bmatrix}$$\n",
        "\n",
        "#### BlockOperator:\n",
        "\n",
        "BlockOperator is a matrix of operators.\n",
        "\n",
        "$$ K = \\begin{bmatrix}\n",
        "A_{1} & A_{2} \\\\\n",
        "A_{3} & A_{4} \\\\\n",
        "A_{5} & A_{6}\n",
        "\\end{bmatrix}_{(3,2)} *  \\quad \\underbrace{\\begin{bmatrix}\n",
        "x_{1} \\\\\n",
        "x_{2}\n",
        "\\end{bmatrix}_{(2,1)}}_{\\textbf{x}} =  \\begin{bmatrix}\n",
        "A_{1}x_{1}  + A_{2}x_{2}\\\\\n",
        "A_{3}x_{1}  + A_{4}x_{2}\\\\\n",
        "A_{5}x_{1}  + A_{6}x_{2}\\\\\n",
        "\\end{bmatrix}_{(3,1)} =  \\begin{bmatrix}\n",
        "y_{1}\\\\\n",
        "y_{2}\\\\\n",
        "y_{3}\n",
        "\\end{bmatrix}_{(3,1)} = \\textbf{y}$$\n",
        "\n",
        "Column: Share the same domains $X_{1}, X_{2}$<br>\n",
        "Rows: Share the same ranges $Y_{1}, Y_{2}, Y_{3}$\n",
        "\n",
        "$$ K : (X_{1}\\times X_{2}) \\rightarrow (Y_{1}\\times Y_{2} \\times Y_{3})$$\n",
        "\n",
        "\n",
        "$$ A_{1}, A_{3}, A_{5}: \\text{share the same domain }  X_{1}$$\n",
        "$$ A_{2}, A_{4}, A_{6}: \\text{share the same domain }  X_{2}$$\n",
        "\n",
        "$$A_{1}: X_{1} \\rightarrow Y_{1}, \\quad A_{3}: X_{1} \\rightarrow Y_{2}, \\quad  A_{5}: X_{1} \\rightarrow Y_{3}$$\n",
        "$$A_{2}: X_{2} \\rightarrow Y_{1}, \\quad A_{4}: X_{2} \\rightarrow Y_{2}, \\quad  A_{6}: X_{2} \\rightarrow Y_{3}$$"
      ]
    },
    {
      "cell_type": "markdown",
      "metadata": {
        "id": "BpvQHYBb-99f"
      },
      "source": [
        "### Reconstruct using Tikhonov by CGLS with the gradient operator"
      ]
    },
    {
      "cell_type": "markdown",
      "metadata": {
        "id": "N6v_NK_6-99f"
      },
      "source": [
        "#### Tikhonov regularisation\n",
        "\n",
        "Now we go back to our Tikhonov reconstruction, this time use the gradient operator in the regulariser.\n",
        "\n",
        "$${\\mathrm{argmin}}\\begin{Vmatrix}\\binom{A}{\\alpha \\nabla} u - \\binom{b}{0}\\end{Vmatrix}^2_2$$\n",
        "\n",
        "With the definitions:\n",
        "\n",
        "- $\\tilde{A} = \\binom{A}{\\alpha \\nabla}$\n",
        "\n",
        "- $\\tilde{b} = \\binom{b}{0}$\n",
        "\n",
        "And solve using CGLS:\n",
        "$$\\underset{u}{\\mathrm{argmin}}\\begin{Vmatrix}\\tilde{A} u - \\tilde{b}\\end{Vmatrix}^2_2$$\n",
        "\n",
        "\n",
        "We'll use the framework's `Gradient()` operator - this is an optimised form of FD over the space dimensions (or even or space+channels in case of multiple channels).\n",
        "\n",
        "\n",
        "<span style=\"color:red;font-size:larger\">**Exercise 3:**</span> Set up the BlockOperator $\\tilde{A}$ and the BlockDataContainer $\\tilde{b}$ as before but with the Gradient operator. Outline code to be completed is given in the next two code cells. Once set up, run the following cells to execute CGLS with these as input. Run Tikhonov reconstruction using gradient regularisation. Try a range of $\\alpha$ values ranging from very small to very large, visualise the resulting image and central line profiles, and describe the effect of the regularisation parameter choice. Find the $\\alpha$ that (visually) gives you the best solution."
      ]
    },
    {
      "cell_type": "code",
      "execution_count": null,
      "metadata": {
        "id": "Sotk9daO-99f"
      },
      "outputs": [],
      "source": [
        "L = GradientOperator(ig)\n",
        "alpha = 0.01\n",
        "#operator_block = BlockOperator( ... )\n",
        "\n",
        "#define the data b\n",
        "#data_block = BlockDataContainer( ... )"
      ]
    },
    {
      "cell_type": "markdown",
      "metadata": {
        "id": "cjrr1vZt-99f"
      },
      "source": [
        "**Uncomment the following line and run the cell to see the solution, to run the lines you'll need to run the cell a second time**\n"
      ]
    },
    {
      "cell_type": "code",
      "execution_count": null,
      "metadata": {
        "id": "e7qC-GMF-99f"
      },
      "outputs": [],
      "source": [
        "# %load ./snippets/02_ex3.py"
      ]
    },
    {
      "cell_type": "code",
      "execution_count": null,
      "metadata": {
        "id": "ldnvG2Ca-99g"
      },
      "outputs": [],
      "source": [
        "#setup CGLS with the block operator and block data\n",
        "initial = ig.allocate(0)\n",
        "cgls_tikh_g = CGLS(initial=initial, operator=operator_block, data=data_block, update_objective_interval = 10)"
      ]
    },
    {
      "cell_type": "code",
      "execution_count": null,
      "metadata": {
        "id": "PY3o5pSC-99g"
      },
      "outputs": [],
      "source": [
        "#run the algorithm\n",
        "cgls_tikh_g.run(200, verbose=True)"
      ]
    },
    {
      "cell_type": "code",
      "execution_count": null,
      "metadata": {
        "id": "ruGNQAAA-99g"
      },
      "outputs": [],
      "source": [
        "#plot the results\n",
        "plots = [cgls_tikh_g.solution, cgls_tikh_g.solution - phantom2D]\n",
        "titles = [\"Tikhonov with gradient regularisation\", \"Difference from ground truth\" ]\n",
        "show2D(plots, titles, fix_range=[(-0.2,1.2),(-0.2,0.2)])"
      ]
    },
    {
      "cell_type": "markdown",
      "metadata": {
        "id": "pwEu3Kf_-99g"
      },
      "source": [
        "Central vertical line profiles of ground truth and Tikhonov with Gradient operator:"
      ]
    },
    {
      "cell_type": "code",
      "execution_count": null,
      "metadata": {
        "tags": [],
        "id": "0tDFHPEn-99g"
      },
      "outputs": [],
      "source": [
        "show1D([phantom2D, cgls_tikh_g.solution],\n",
        "       slice_list=[(\"horizontal_y\",int(n/2))],\n",
        "       dataset_labels=[\"Ground Truth\",\"Tikhonov with Gradient regularisation\"],\n",
        "       line_colours=['black','purple'],\n",
        "       line_styles=['solid','solid'])"
      ]
    },
    {
      "cell_type": "markdown",
      "metadata": {
        "id": "G0EC9GU4-99g"
      },
      "source": [
        "### Summary"
      ]
    },
    {
      "cell_type": "markdown",
      "metadata": {
        "id": "akriweug-99g"
      },
      "source": [
        "#### Comparison of the outputs of each reconstruction\n",
        "\n",
        "To wrap up we compare the reconstructions produced by all reconstruction methods considered in this notebook: Simple CGLS, Tikhonov with Identity regularisation and Tikhonov with Gradient regularisation, along with the ground truth image. We display images and central vertical line profiles:"
      ]
    },
    {
      "cell_type": "code",
      "execution_count": null,
      "metadata": {
        "id": "RS52BAiU-99g"
      },
      "outputs": [],
      "source": [
        "plots = [phantom2D, cgls_simple.solution, cgls_tikh.solution, cgls_tikh_g.solution]\n",
        "titles = [\"Ground truth\", \"CGLS simple\", \"Tikhonov with Identity regularisation\", \"Tikhonov with gradient regularisation\" ]\n",
        "show2D(plots, titles, fix_range=(-0.2,1.2), num_cols=4)"
      ]
    },
    {
      "cell_type": "code",
      "execution_count": null,
      "metadata": {
        "tags": [],
        "id": "V5TvHoec-99g"
      },
      "outputs": [],
      "source": [
        "show1D([phantom2D, cgls_simple.solution, cgls_tikh.solution, cgls_tikh_g.solution],\n",
        "       slice_list=[(\"horizontal_y\",int(n/2))],\n",
        "       dataset_labels=[\"Ground Truth\",\"CGLS\",\"Tikhonov with Identity regularisation\", \"Tikhonov with Gradient regularisation\"],\n",
        "       line_colours=['black','dodgerblue','firebrick','purple'],\n",
        "       line_styles=['solid','dashed','dotted','solid'])"
      ]
    },
    {
      "cell_type": "markdown",
      "metadata": {
        "id": "lYXk64vf-99h"
      },
      "source": [
        "As can be seen from images and line profiles, Tikhonov with Gradient regularisation allows us to reduce the noise in the reconstruction substantially. However, we may pay a price in terms of blurring the edges."
      ]
    },
    {
      "cell_type": "markdown",
      "metadata": {
        "id": "-_Bt3AYU-99h"
      },
      "source": [
        "**Learning objectives:**\n",
        "\n",
        "After having worked through this notebook, we have now seen how to:\n",
        "\n",
        "1. Construct and manipulate BlockOperators and BlockDataContainer, including direct and adjoint operations and algebra.\n",
        "2. Use Block Framework to solve Tikhonov regularisation with CGLS algorithm.\n",
        "3. Apply Tikhonov regularisation to tomographic reconstruction and explain the effect of regularisation parameter and operator in regulariser."
      ]
    },
    {
      "cell_type": "markdown",
      "metadata": {
        "id": "5S_cwW4C-99h"
      },
      "source": [
        "This completes the present exercise on Tikhonov regularisation with the CGLS algorithm.  In other exercises we will see how to use the CIL framework for real data reconstruction and how to do regularisation based on non-smooth optimisation, to help preserve edges better, while reducing the noise."
      ]
    }
  ],
  "metadata": {
    "celltoolbar": "Raw Cell Format",
    "kernelspec": {
      "display_name": "cil_demos",
      "language": "python",
      "name": "python3"
    },
    "language_info": {
      "codemirror_mode": {
        "name": "ipython",
        "version": 3
      },
      "file_extension": ".py",
      "mimetype": "text/x-python",
      "name": "python",
      "nbconvert_exporter": "python",
      "pygments_lexer": "ipython3",
      "version": "3.12.8"
    },
    "colab": {
      "provenance": []
    }
  },
  "nbformat": 4,
  "nbformat_minor": 0
}